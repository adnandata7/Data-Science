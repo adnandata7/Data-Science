{
 "cells": [
  {
   "cell_type": "markdown",
   "id": "f3c6892f-81ae-4f43-9161-2bcd5247746c",
   "metadata": {},
   "source": [
    "## Q1. Pearson correlation coefficient is a measure of the linear relationship between two variables. Suppose you have collected data on the amount of time students spend studying for an exam and their final exam scores. Calculate the Pearson correlation coefficient between these two variables and interpret the result.\n",
    "\n",
    "Suppose you have the following data:\n",
    "- `study_time`: [3, 4, 2, 5, 6, 7, 4, 5, 6, 8]\n",
    "- `exam_scores`: [70, 75, 65, 80, 85, 90, 75, 80, 85, 95]"
   ]
  },
  {
   "cell_type": "code",
   "execution_count": 1,
   "id": "a094d769-e1c4-4e0e-ada1-dc22cdcac19b",
   "metadata": {},
   "outputs": [
    {
     "data": {
      "text/plain": [
       "0.9999999999999998"
      ]
     },
     "execution_count": 1,
     "metadata": {},
     "output_type": "execute_result"
    }
   ],
   "source": [
    "import numpy as np\n",
    "from scipy.stats import pearsonr\n",
    "\n",
    "# Data\n",
    "study_time = np.array([3, 4, 2, 5, 6, 7, 4, 5, 6, 8])\n",
    "exam_scores = np.array([70, 75, 65, 80, 85, 90, 75, 80, 85, 95])\n",
    "\n",
    "# Pearson correlation coefficient\n",
    "corr, _ = pearsonr(study_time, exam_scores)\n",
    "corr"
   ]
  },
  {
   "cell_type": "markdown",
   "id": "6ba07d00-6dbb-4d7b-a433-764bf6a6d9e8",
   "metadata": {},
   "source": [
    "Interpretation  \n",
    "The Pearson correlation coefficient measures the linear relationship between study time and exam scores. A coefficient close to +1 indicates a strong positive linear relationship."
   ]
  },
  {
   "cell_type": "markdown",
   "id": "ac56d745-92a8-4b7a-8a80-4fe17354eb6a",
   "metadata": {},
   "source": [
    "### Q2. Spearman's rank correlation is a measure of the monotonic relationship between two variables. Suppose you have collected data on the amount of sleep individuals get each night and their overall job satisfaction level on a scale of 1 to 10. Calculate the Spearman's rank correlation between these two variables and interpret the result.\n",
    "\n",
    "Data Collection\n",
    "Suppose you have the following data:\n",
    "\n",
    "sleep_hours: [7, 6, 8, 5, 9, 6, 8, 7, 6, 5]  \n",
    "job_satisfaction: [6, 5, 7, 4, 8, 5, 7, 6, 5, 4]"
   ]
  },
  {
   "cell_type": "code",
   "execution_count": 2,
   "id": "379b031b-6b67-406e-827f-d850c98df1b3",
   "metadata": {},
   "outputs": [
    {
     "data": {
      "text/plain": [
       "1.0"
      ]
     },
     "execution_count": 2,
     "metadata": {},
     "output_type": "execute_result"
    }
   ],
   "source": [
    "from scipy.stats import spearmanr\n",
    "\n",
    "# Data\n",
    "sleep_hours = np.array([7, 6, 8, 5, 9, 6, 8, 7, 6, 5])\n",
    "job_satisfaction = np.array([6, 5, 7, 4, 8, 5, 7, 6, 5, 4])\n",
    "\n",
    "# Spearman's rank correlation\n",
    "corr, _ = spearmanr(sleep_hours, job_satisfaction)\n",
    "corr\n"
   ]
  },
  {
   "cell_type": "markdown",
   "id": "7c42dd56-df85-4950-9fcd-8c95ea6ec07e",
   "metadata": {},
   "source": [
    "Interpretation  \n",
    "The Spearman's rank correlation measures the monotonic relationship between sleep hours and job satisfaction. A coefficient close to +1 indicates a strong positive monotonic relationship."
   ]
  },
  {
   "cell_type": "markdown",
   "id": "17481ec6-e9a5-4791-8bee-dae7e1d14798",
   "metadata": {},
   "source": [
    "### Q3. Suppose you are conducting a study to examine the relationship between the number of hours of exercise per week and body mass index (BMI) in a sample of adults. You collected data on both variables for 50 participants. Calculate the Pearson correlation coefficient and the Spearman's rank correlation between these two variables and compare the results.\n",
    "\n",
    "Data Collection\n",
    "Suppose you have the following data (for brevity, only a sample is shown):\n",
    "\n",
    "exercise_hours: [1, 2, 3, 4, 5, 6, 7, 8, 9, 10, 1, 2, 3, 4, 5, 6, 7, 8, 9, 10, 1, 2, 3, 4, 5, 6, 7, 8, 9, 10, 1, 2, 3, 4, 5, 6, 7, 8, 9, 10, 1, 2, 3, 4, 5, 6, 7, 8, 9, 10]  \n",
    "bmi: [24, 22, 21, 23, 25, 26, 27, 28, 29, 30, 24, 22, 21, 23, 25, 26, 27, 28, 29, 30, 24, 22, 21, 23, 25, 26, 27, 28, 29, 30, 24, 22, 21, 23, 25, 26, 27, 28, 29, 30, 24, 22, 21, 23, 25, 26, 27, 28, 29, 30]  \n",
    "Calculation:"
   ]
  },
  {
   "cell_type": "code",
   "execution_count": 3,
   "id": "e44b0e1f-be0b-4566-9573-e11e10dab30c",
   "metadata": {},
   "outputs": [
    {
     "data": {
      "text/plain": [
       "(0.9151515151515149, 0.9151515151515152)"
      ]
     },
     "execution_count": 3,
     "metadata": {},
     "output_type": "execute_result"
    }
   ],
   "source": [
    "# Data\n",
    "exercise_hours = np.array([1, 2, 3, 4, 5, 6, 7, 8, 9, 10]*5)\n",
    "bmi = np.array([24, 22, 21, 23, 25, 26, 27, 28, 29, 30]*5)\n",
    "\n",
    "# Pearson correlation coefficient\n",
    "pearson_corr, _ = pearsonr(exercise_hours, bmi)\n",
    "\n",
    "# Spearman's rank correlation\n",
    "spearman_corr, _ = spearmanr(exercise_hours, bmi)\n",
    "\n",
    "pearson_corr, spearman_corr\n"
   ]
  },
  {
   "cell_type": "markdown",
   "id": "10da321b-ced8-424e-b51b-ad8f5226acdd",
   "metadata": {},
   "source": [
    "Comparison  \n",
    "Compare the Pearson and Spearman correlation coefficients to understand the linear and monotonic relationships, respectively, between exercise hours and BMI.\n",
    "\n",
    "### Q4. A researcher is interested in examining the relationship between the number of hours individuals spend watching television per day and their level of physical activity. The researcher collected data on both variables from a sample of 50 participants. Calculate the Pearson correlation coefficient between these two variables.\n",
    "\n",
    "Data Collection\n",
    "Suppose you have the following data (for brevity, only a sample is shown):\n",
    "\n",
    "tv_hours: [1, 2, 3, 4, 5, 6, 7, 8, 9, 10]*5   \n",
    "physical_activity_level: [10, 9, 8, 7, 6, 5, 4, 3, 2, 1]*5  \n",
    "Calculation "
   ]
  },
  {
   "cell_type": "code",
   "execution_count": 4,
   "id": "2db2cf10-d79d-4b40-83b8-a7cfd9696e7e",
   "metadata": {},
   "outputs": [
    {
     "data": {
      "text/plain": [
       "-0.9999999999999998"
      ]
     },
     "execution_count": 4,
     "metadata": {},
     "output_type": "execute_result"
    }
   ],
   "source": [
    "# Data\n",
    "tv_hours = np.array([1, 2, 3, 4, 5, 6, 7, 8, 9, 10]*5)\n",
    "physical_activity_level = np.array([10, 9, 8, 7, 6, 5, 4, 3, 2, 1]*5)\n",
    "\n",
    "# Pearson correlation coefficient\n",
    "corr, _ = pearsonr(tv_hours, physical_activity_level)\n",
    "corr\n"
   ]
  },
  {
   "cell_type": "markdown",
   "id": "f7db42ec-6f15-4fca-9634-82e8853b6fc8",
   "metadata": {},
   "source": [
    "Interpretation  \n",
    "The Pearson correlation coefficient will indicate the linear relationship between TV watching hours and physical activity levels."
   ]
  },
  {
   "cell_type": "markdown",
   "id": "de9c760a-826e-4601-8c37-128520b42516",
   "metadata": {},
   "source": [
    "### Q5. A survey was conducted to examine the relationship between age and preference for a particular brand of soft drink. The survey results are shown below:\n",
    "\n",
    "| Age (Years) | Soft Drink Preference |\n",
    "|-------------|-----------------------|\n",
    "| 25          | Coke                  |\n",
    "| 42          | Pepsi                 |\n",
    "| 37          | Mountain Dew          |\n",
    "| 19          | Coke                  |\n",
    "| 31          | Pepsi                 |\n",
    "| 28          | Coke                  |\n"
   ]
  },
  {
   "cell_type": "code",
   "execution_count": 5,
   "id": "e852c09f-d3a7-4486-8a95-b5e4c2627c24",
   "metadata": {},
   "outputs": [
    {
     "data": {
      "image/png": "[encoded data removed]",
      "text/plain": [
       "<Figure size 800x500 with 1 Axes>"
      ]
     },
     "metadata": {},
     "output_type": "display_data"
    }
   ],
   "source": [
    "import pandas as pd\n",
    "import matplotlib.pyplot as plt\n",
    "\n",
    "data = {\n",
    "    'Age (Years)': [25, 42, 37, 19, 31, 28],\n",
    "    'Soft drink Preference': [\"Coke\", \"Pepsi\", \"Mountain Dew\", \"Coke\", \"Pepsi\", \"Coke\"]\n",
    "}\n",
    "\n",
    "df = pd.DataFrame(data)\n",
    "\n",
    "summary = df.describe()\n",
    "\n",
    "preference_counts = df['Soft drink Preference'].value_counts()\n",
    "\n",
    "plt.figure(figsize=(8, 5))\n",
    "plt.bar(preference_counts.index, preference_counts.values)\n",
    "plt.xlabel(\"Soft Drink Preference\")\n",
    "plt.ylabel(\"Count\")\n",
    "plt.title(\"Soft Drink Preference Distribution\")\n",
    "plt.show()"
   ]
  },
  {
   "cell_type": "markdown",
   "id": "3a06dba1-ffcc-46fb-9963-f44da1c4397c",
   "metadata": {},
   "source": [
    "### Q6. A company is interested in examining the relationship between the number of sales calls made per day and the number of sales made per week. The company collected data on both variables from a sample of 30 sales representatives. Calculate the Pearson correlation coefficient between these two variables.\n",
    "\n",
    "Data Collection  \n",
    "Suppose you have the following data (for brevity, only a sample is shown):\n",
    " \n",
    "sales_calls_per_day: [1, 2, 3, 4, 5, 6, 7, 8, 9, 10]*3  \n",
    "sales_per_week: [2, 4, 6, 8, 10, 12, 14, 16, 18, 20]*3"
   ]
  },
  {
   "cell_type": "code",
   "execution_count": 6,
   "id": "dcbfe27b-960f-4e6c-9113-97299d901a06",
   "metadata": {},
   "outputs": [
    {
     "data": {
      "text/plain": [
       "0.9999999999999998"
      ]
     },
     "execution_count": 6,
     "metadata": {},
     "output_type": "execute_result"
    }
   ],
   "source": [
    "# Data\n",
    "sales_calls_per_day = np.array([1, 2, 3, 4, 5, 6, 7, 8, 9, 10]*3)\n",
    "sales_per_week = np.array([2, 4, 6, 8, 10, 12, 14, 16, 18, 20]*3)\n",
    "\n",
    "# Pearson correlation coefficient\n",
    "corr, _ = pearsonr(sales_calls_per_day, sales_per_week)\n",
    "corr\n"
   ]
  },
  {
   "cell_type": "markdown",
   "id": "f26932db-8779-4a13-9781-5ed818af3903",
   "metadata": {},
   "source": [
    "Interpretation  \n",
    "The Pearson correlation coefficient will indicate the linear relationship between the number of sales calls made per day and the number of sales made per week."
   ]
  },
  {
   "cell_type": "code",
   "execution_count": null,
   "id": "360ca0ce-1ee1-4a74-b981-7f493a3e04a7",
   "metadata": {},
   "outputs": [],
   "source": []
  }
 ],
 "metadata": {
  "kernelspec": {
   "display_name": "Python 3 (ipykernel)",
   "language": "python",
   "name": "python3"
  },
  "language_info": {
   "codemirror_mode": {
    "name": "ipython",
    "version": 3
   },
   "file_extension": ".py",
   "mimetype": "text/x-python",
   "name": "python",
   "nbconvert_exporter": "python",
   "pygments_lexer": "ipython3",
   "version": "3.10.8"
  }
 },
 "nbformat": 4,
 "nbformat_minor": 5
}
