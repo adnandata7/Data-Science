{
 "cells": [
  {
   "cell_type": "markdown",
   "id": "c63d5ab6-05c9-4962-a71e-fa3a8d940b12",
   "metadata": {},
   "source": [
    "### Q1. What is the difference between Ordinal Encoding and Label Encoding? Provide an example of when you might choose one over the other.\n",
    "\n",
    "Ordinal Encoding and Label Encoding are methods used to convert categorical data into numerical data, but they are used in different contexts.\n",
    "\n",
    "- **Ordinal Encoding** is used when the categorical variables have an inherent order or ranking. For example, education levels like 'High School', 'Bachelor's', 'Master's', and 'PhD' have a natural order.\n",
    "- **Label Encoding** assigns a unique number to each category but does not consider any order. It is used for categorical variables without any inherent order. For example, encoding 'red', 'green', and 'blue' colors.\n",
    "\n",
    "**Example:**"
   ]
  },
  {
   "cell_type": "code",
   "execution_count": 1,
   "id": "a1fab004-e99a-448f-8da1-cb561b67eef5",
   "metadata": {},
   "outputs": [
    {
     "name": "stdout",
     "output_type": "stream",
     "text": [
      "     Education  Education_encoded\n",
      "0  High School                0.0\n",
      "1     Bachelor                1.0\n",
      "2       Master                2.0\n",
      "3          PhD                3.0\n"
     ]
    }
   ],
   "source": [
    "from sklearn.preprocessing import OrdinalEncoder\n",
    "import pandas as pd\n",
    "\n",
    "data = {'Education': ['High School', 'Bachelor', 'Master', 'PhD']}\n",
    "df = pd.DataFrame(data)\n",
    "encoder = OrdinalEncoder(categories=[['High School', 'Bachelor', 'Master', 'PhD']])\n",
    "df['Education_encoded'] = encoder.fit_transform(df[['Education']])\n",
    "print(df)"
   ]
  },
  {
   "cell_type": "markdown",
   "id": "ad35d9a5-6022-4000-a3aa-6b9e3e3edf1b",
   "metadata": {},
   "source": [
    "### Q2. Explain how Target Guided Ordinal Encoding works and provide an example of when you might use it in a machine learning project.\n",
    "\n",
    "Target Guided Ordinal Encoding orders the categories based on the mean of the target variable. It is useful when the categorical variable is related to the target variable.\n",
    "\n",
    "Example:"
   ]
  },
  {
   "cell_type": "code",
   "execution_count": 2,
   "id": "2fddaf4c-c5dd-4ff4-bc43-ad5741ce4317",
   "metadata": {},
   "outputs": [
    {
     "name": "stdout",
     "output_type": "stream",
     "text": [
      "  Category  Target  Category_encoded\n",
      "0        A       1               1.5\n",
      "1        B       2               2.5\n",
      "2        C       3               2.0\n",
      "3        A       2               1.5\n",
      "4        B       3               2.5\n",
      "5        C       1               2.0\n"
     ]
    }
   ],
   "source": [
    "import pandas as pd\n",
    "import numpy as np\n",
    "\n",
    "# Sample Data\n",
    "data = {'Category': ['A', 'B', 'C', 'A', 'B', 'C'],\n",
    "        'Target': [1, 2, 3, 2, 3, 1]}\n",
    "df = pd.DataFrame(data)\n",
    "\n",
    "# Calculate mean target value per category\n",
    "mean_target = df.groupby('Category')['Target'].mean()\n",
    "df['Category_encoded'] = df['Category'].map(mean_target)\n",
    "print(df)\n"
   ]
  },
  {
   "cell_type": "markdown",
   "id": "c9e21a09-baab-4f03-ad5a-cf4cbea154b0",
   "metadata": {},
   "source": [
    "### Q3. Define covariance and explain why it is important in statistical analysis. How is covariance calculated?\n",
    "\n",
    "Covariance measures the degree to which two variables change together. It is important in statistical analysis to understand the relationship between variables.\n",
    "\n",
    "Formula:\n",
    "$$\n",
    "Cov\n",
    "(\n",
    "𝑋\n",
    ",\n",
    "𝑌\n",
    ")\n",
    "=\n",
    "∑\n",
    "(\n",
    "𝑋\n",
    "𝑖\n",
    "−\n",
    "𝑋\n",
    "ˉ\n",
    ")\n",
    "(\n",
    "𝑌\n",
    "𝑖\n",
    "−\n",
    "𝑌\n",
    "ˉ\n",
    ")\n",
    "/\n",
    "(𝑛\n",
    "−\n",
    "1)\n",
    "$$"
   ]
  },
  {
   "cell_type": "markdown",
   "id": "72c9bb2c-8d40-4464-8e4d-85b5a0eca8f1",
   "metadata": {},
   "source": [
    "### Q4. For a dataset with the following categorical variables: Color (red, green, blue), Size (small, medium, large), and Material (wood, metal, plastic), perform label encoding using Python's scikit-learn library. Show your code and explain the output."
   ]
  },
  {
   "cell_type": "code",
   "execution_count": 7,
   "id": "7fbffd02-594f-4ac0-9404-6d756ea1249c",
   "metadata": {},
   "outputs": [
    {
     "name": "stdout",
     "output_type": "stream",
     "text": [
      "   Color    Size Material  Color_encoded  Size_encoded  Material_encoded\n",
      "0    red   small     wood              2             2                 2\n",
      "1  green  medium    metal              1             1                 0\n",
      "2   blue   large  plastic              0             0                 1\n"
     ]
    }
   ],
   "source": [
    "import pandas as pd\n",
    "from sklearn.preprocessing import LabelEncoder\n",
    "\n",
    "# Sample Data\n",
    "data = {'Color': ['red', 'green', 'blue'],\n",
    "        'Size': ['small', 'medium', 'large'],\n",
    "        'Material': ['wood', 'metal', 'plastic']}\n",
    "df = pd.DataFrame(data)\n",
    "\n",
    "# Label Encoding\n",
    "label_encoders = {}\n",
    "for column in df.columns:\n",
    "    le = LabelEncoder()\n",
    "    df[column + '_encoded'] = le.fit_transform(df[column])\n",
    "    label_encoders[column] = le\n",
    "\n",
    "print(df)\n"
   ]
  },
  {
   "cell_type": "markdown",
   "id": "06c24dff-cd22-4ebb-ad52-b23382458383",
   "metadata": {},
   "source": [
    "### Q5. Calculate the covariance matrix for the following variables in a dataset: Age, Income, and Education level. Interpret the results."
   ]
  },
  {
   "cell_type": "code",
   "execution_count": 8,
   "id": "3be30a66-c9c2-4d5e-a610-c74fe2b0442d",
   "metadata": {},
   "outputs": [
    {
     "name": "stdout",
     "output_type": "stream",
     "text": [
      "                     Age        Income      Education\n",
      "Age           150.916667  5.783333e+05      40.166667\n",
      "Income     578333.333333  2.300000e+09  150000.000000\n",
      "Education      40.166667  1.500000e+05      11.666667\n"
     ]
    }
   ],
   "source": [
    "import pandas as pd\n",
    "\n",
    "# Sample Data\n",
    "data = {'Age': [25, 32, 47, 51],\n",
    "        'Income': [50000, 60000, 120000, 150000],\n",
    "        'Education': [12, 16, 18, 20]}\n",
    "df = pd.DataFrame(data)\n",
    "\n",
    "# Covariance Matrix\n",
    "cov_matrix = df.cov()\n",
    "print(cov_matrix)\n"
   ]
  },
  {
   "cell_type": "markdown",
   "id": "bc43c3a6-f8d7-4d67-a718-adffac463fce",
   "metadata": {},
   "source": [
    "### Q6. You are working on a machine learning project with a dataset containing several categorical variables, including \"Gender\" (Male/Female), \"Education Level\" (High School/Bachelor's/Master's/PhD), and \"Employment Status\" (Unemployed/Part-Time/Full-Time). Which encoding method would you use for each variable, and why?\n",
    "\n",
    "Dataset:\n",
    "\n",
    "Gender: Use Label Encoding (Male/Female) because there is no inherent order.  \n",
    "Education Level: Use Ordinal Encoding (High School/Bachelor's/Master's/PhD) because there is a natural order.  \n",
    "Employment Status: Use Label Encoding (Unemployed/Part-Time/Full-Time) because there is no inherent order.\n"
   ]
  },
  {
   "cell_type": "markdown",
   "id": "18fff7fe-b10c-4272-8008-8b79d4a683e1",
   "metadata": {},
   "source": [
    "### Q7. You are analyzing a dataset with two continuous variables, \"Temperature\" and \"Humidity\", and two categorical variables, \"Weather Condition\" (Sunny/Cloudy/Rainy) and \"Wind Direction\" (North/South/East/West). Calculate the covariance between each pair of variables and interpret the results.\n",
    "\n",
    "Covariance is calculated between continuous variables. For categorical variables, it is not applicable directly."
   ]
  },
  {
   "cell_type": "code",
   "execution_count": 9,
   "id": "e6a35fd7-fbb5-49be-80c1-8291697a8db4",
   "metadata": {},
   "outputs": [
    {
     "name": "stdout",
     "output_type": "stream",
     "text": [
      "             Temperature  Humidity\n",
      "Temperature         31.3      40.0\n",
      "Humidity            40.0      62.5\n"
     ]
    }
   ],
   "source": [
    "import numpy as np\n",
    "import pandas as pd\n",
    "\n",
    "# Sample Data\n",
    "data = {'Temperature': [30, 25, 27, 35, 20],\n",
    "        'Humidity': [70, 65, 75, 80, 60]}\n",
    "df = pd.DataFrame(data)\n",
    "\n",
    "# Covariance Calculation\n",
    "cov_matrix = df.cov()\n",
    "print(cov_matrix)\n"
   ]
  },
  {
   "cell_type": "markdown",
   "id": "34cf31f3-f279-49a0-846e-534196f8d088",
   "metadata": {},
   "source": [
    "Interpretation:\n",
    "\n",
    "Covariance between Temperature and Humidity will indicate whether they increase together (positive value) or one increases while the other decreases (negative value)."
   ]
  },
  {
   "cell_type": "code",
   "execution_count": null,
   "id": "3f0d5580-e179-43a1-9c43-6768e133d4af",
   "metadata": {},
   "outputs": [],
   "source": []
  }
 ],
 "metadata": {
  "kernelspec": {
   "display_name": "Python 3 (ipykernel)",
   "language": "python",
   "name": "python3"
  },
  "language_info": {
   "codemirror_mode": {
    "name": "ipython",
    "version": 3
   },
   "file_extension": ".py",
   "mimetype": "text/x-python",
   "name": "python",
   "nbconvert_exporter": "python",
   "pygments_lexer": "ipython3",
   "version": "3.10.8"
  }
 },
 "nbformat": 4,
 "nbformat_minor": 5
}
