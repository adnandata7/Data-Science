{
 "cells": [
  {
   "cell_type": "markdown",
   "id": "1bf89279-ab3f-41ee-959e-99f1ee948185",
   "metadata": {},
   "source": [
    "### **Q1. What is Min-Max scaling, and how is it used in data preprocessing? Provide an example to illustrate its application.** ###\n",
    "\n",
    "Min-Max scaling, also known as normalization, is a data preprocessing technique that scales numerical features to a specific range, typically between 0 and 1. It is used to ensure that all features have the same scale, preventing some features from dominating others due to their magnitude.\n",
    "\n",
    "**Example:**\n",
    "Suppose you have a feature \"age\" with values ranging from 0 to 100. After Min-Max scaling, these values will be transformed to the range [0, 1], preserving their relative proportions.\n",
    "\n",
    "---\n",
    "\n",
    "### **Q2. What is the Unit Vector technique in feature scaling, and how does it differ from Min-Max scaling? Provide an example to illustrate its application.** ###\n",
    "\n",
    "The unit vector technique, also known as vector normalization, scales features to have a length of 1 while preserving their direction. It is often used in machine learning algorithms that rely on the magnitude of vectors, like cosine similarity.\n",
    "\n",
    "**Example:**\n",
    "If you have a vector [3, 4], its unit vector would be [0.6, 0.8]. The values are scaled, but the direction remains the same.\n",
    "\n",
    "**Differences:**\n",
    "Min-Max scaling scales features to a specific range, usually [0, 1], while the unit vector technique scales to unit length. Min-Max scaling is used to scale individual features, while the unit vector technique is used for scaling vectors.\n",
    "\n",
    "---\n",
    "\n",
    "### **Q3. What is PCA (Principle Component Analysis), and how is it used in dimensionality reduction? Provide an example to illustrate its application.** ###\n",
    "\n",
    "PCA is a dimensionality reduction technique that identifies the most important linear combinations of features in a dataset. It is used to reduce the number of features while preserving as much variance as possible.\n",
    "\n",
    "**Example:**\n",
    "In a dataset with many correlated features (e.g., height, weight, age), PCA can create new features that capture the most significant variance.\n",
    "\n",
    "---\n",
    "\n",
    "### **Q4. What is the relationship between PCA and Feature Extraction, and how can PCA be used for Feature Extraction? Provide an example to illustrate this concept.** ###\n",
    "\n",
    "PCA is a feature extraction technique that transforms the original features into a set of orthogonal principal components. These components can be used as new features that often capture the most important information in the data.\n",
    "\n",
    "**Example:**\n",
    "In a dataset with features like height, weight, and age, PCA can be applied to extract principal components. These components can represent combinations of the original features (e.g., \"body size\" component) and be used for further analysis or modeling.\n",
    "\n",
    "---\n",
    "\n",
    "### **Q5. You are working on a project to build a recommendation system for a food delivery service. The dataset contains features such as price, rating, and delivery time. Explain how you would use Min-Max scaling to preprocess the data.** ###\n",
    "\n",
    "For each feature:\n",
    "\n",
    "1. Calculate the minimum (min_val) and maximum (max_val) values within the dataset for that feature.\n",
    "2. For each data point, apply the Min-Max scaling formula: `Scaled_Value = (Value - min_val) / (max_val - min_val)`\n",
    "3. Repeat this process for all features, ensuring that they are all scaled to the [0, 1] range.\n",
    "\n",
    "---\n",
    "\n",
    "### **Q6. You are working on a project to build a model to predict stock prices. The dataset contains many features, such as company financial data and market trends. Explain how you would use PCA to reduce the dimensionality of the dataset.** ###\n",
    "\n",
    "To reduce the dimensionality of the dataset for stock price prediction, you can use PCA as follows:\n",
    "\n",
    "1. Standardize the features: Ensure that all features have a mean of 0 and standard deviation of 1.\n",
    "2. Calculate the covariance matrix: Compute the covariance matrix of the standardized features.\n",
    "3. Perform PCA: Calculate the eigenvectors and eigenvalues of the covariance matrix.\n",
    "4. Select the number of components: Decide how many principal components to retain based on the cumulative explained variance.\n",
    "5. Transform the data: Project the original data onto the selected principal components to create a new dataset with reduced dimensionality.\n",
    "\n",
    "---\n",
    "\n",
    "### **Q7. For a dataset containing the following values: [1, 5, 10, 15, 20], perform Min-Max scaling to transform the values to a range of -1 to 1.** ###\n",
    "\n",
    "To perform Min-Max scaling to a range of -1 to 1, follow these steps:\n",
    "\n",
    "1. Calculate the minimum value (min_val) and the maximum value (max_val) in the dataset, which are 1 and 20, respectively.\n",
    "2. Use the Min-Max scaling formula for each data point (value):\n",
    "   `Scaled_Value = -1 + 2 * (value - min_val) / (max_val - min_val)`\n",
    "3. Apply the formula to each value in the dataset to scale them to the range of -1 to 1.\n"
   ]
  },
  {
   "cell_type": "code",
   "execution_count": 4,
   "id": "a2ed4f1f-c19a-4962-9af6-3ba0edace951",
   "metadata": {},
   "outputs": [
    {
     "name": "stdout",
     "output_type": "stream",
     "text": [
      "['-1.00', '-0.58', '-0.05', '0.47', '1.00']\n"
     ]
    }
   ],
   "source": [
    "import numpy as np\n",
    "\n",
    "data = np.array([1, 5, 10, 15, 20])\n",
    "\n",
    "min_range = -1\n",
    "max_range = 1\n",
    "\n",
    "min_val = data.min()\n",
    "max_val = data.max()\n",
    "\n",
    "# Perform Min-Max scaling\n",
    "scaled_data = (data - min_val) / (max_val - min_val) * (max_range - min_range) + min_range\n",
    "\n",
    "print([\"{:.2f}\".format(i) for i in scaled_data])"
   ]
  },
  {
   "cell_type": "markdown",
   "id": "8f94a49f-9be6-44bb-be44-7078120c711b",
   "metadata": {},
   "source": [
    "### **Q8. For a dataset containing the following features: [height, weight, age, gender, blood pressure], perform Feature Extraction using PCA.** ###\n",
    "### **How many principal components would you choose to retain, and why?** ###"
   ]
  },
  {
   "cell_type": "code",
   "execution_count": 5,
   "id": "ed878a2e-87cd-4ef9-9bf0-d933f3ec1f20",
   "metadata": {},
   "outputs": [
    {
     "name": "stdout",
     "output_type": "stream",
     "text": [
      "Number of components to retain: 3\n"
     ]
    }
   ],
   "source": [
    "import pandas as pd\n",
    "from sklearn.decomposition import PCA\n",
    "from sklearn.preprocessing import StandardScaler\n",
    "from sklearn.preprocessing import OneHotEncoder\n",
    "\n",
    "# Sample dataset\n",
    "data = {\n",
    "    'height': [165, 175, 160, 180, 170],\n",
    "    'weight': [60, 70, 55, 75, 65],\n",
    "    'age': [30, 25, 35, 40, 28],\n",
    "    'gender': ['Male', 'Male', 'Female', 'Male', 'Female'],\n",
    "    'blood_pressure': ['120/80', '130/85', '115/75', '140/90', '125/78']\n",
    "}\n",
    "\n",
    "df = pd.DataFrame(data)\n",
    "\n",
    "encoder = OneHotEncoder()\n",
    "gender_encoded = encoder.fit_transform(df[['gender']]).toarray()\n",
    "\n",
    "scaler = StandardScaler()\n",
    "numerical_features = scaler.fit_transform(df[['height', 'weight', 'age']])\n",
    "\n",
    "X = pd.DataFrame(data=numerical_features, columns=['height', 'weight', 'age'])\n",
    "X['gender_Male'] = gender_encoded[:, 0]\n",
    "X['gender_Female'] = gender_encoded[:, 1]\n",
    "\n",
    "# Perform PCA\n",
    "pca = PCA()\n",
    "pca.fit(X)\n",
    "\n",
    "# Calculate explained variance ratio\n",
    "explained_variance_ratio = pca.explained_variance_ratio_\n",
    "\n",
    "# Calculate cumulative explained variance\n",
    "cumulative_explained_variance = explained_variance_ratio.cumsum()\n",
    "\n",
    "# Determine the number of components to retain \n",
    "n_components = (cumulative_explained_variance < 0.95).sum() + 1  # Add 1 for the first component\n",
    "print(f\"Number of components to retain: {n_components}\")"
   ]
  },
  {
   "cell_type": "markdown",
   "id": "39e90e75-e87a-46c8-9b4d-0e8da163bff9",
   "metadata": {},
   "source": [
    "The number of principal components to retain in PCA depends on your specific goals and the variance explained by each principal component. \n",
    "\n",
    "Generally, you want to retain enough principal components to capture a high percentage of the total variance in the data while reducing dimensionality."
   ]
  }
 ],
 "metadata": {
  "kernelspec": {
   "display_name": "Python 3 (ipykernel)",
   "language": "python",
   "name": "python3"
  },
  "language_info": {
   "codemirror_mode": {
    "name": "ipython",
    "version": 3
   },
   "file_extension": ".py",
   "mimetype": "text/x-python",
   "name": "python",
   "nbconvert_exporter": "python",
   "pygments_lexer": "ipython3",
   "version": "3.10.8"
  }
 },
 "nbformat": 4,
 "nbformat_minor": 5
}
