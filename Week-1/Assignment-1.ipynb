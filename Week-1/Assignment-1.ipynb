{
 "cells": [
  {
   "cell_type": "markdown",
   "id": "249f32f9-7d2d-410b-8b35-b977f51a4363",
   "metadata": {},
   "source": [
    "Q1. Create one variable containing following type of data:\n",
    "(i) string\n",
    "(ii) list\n",
    "(iii) float\n",
    "(iv) tuple"
   ]
  },
  {
   "cell_type": "code",
   "execution_count": 9,
   "id": "8001db84-2153-4351-8fa2-4439918bff29",
   "metadata": {},
   "outputs": [
    {
     "name": "stdout",
     "output_type": "stream",
     "text": [
      "st:  <class 'str'>\n",
      "lst:  <class 'list'>\n",
      "fl:  <class 'float'>\n",
      "tup:  <class 'tuple'>\n"
     ]
    }
   ],
   "source": [
    "#string\n",
    "st=\"Assignment\"\n",
    "print(\"st: \",type(st))\n",
    "#list\n",
    "lst=[1,2,45.23,\"hello\"]\n",
    "print(\"lst: \",type(lst))\n",
    "#float\n",
    "fl=58.64\n",
    "print(\"fl: \",type(fl))\n",
    "#tuple\n",
    "tup=(1,2,4,5,3,\"hello\")\n",
    "print(\"tup: \",type(tup))"
   ]
  },
  {
   "cell_type": "markdown",
   "id": "5daf8105-b2ee-463e-85b6-f98483b4dc6c",
   "metadata": {},
   "source": [
    "\n",
    "Q2. Given are some following variables containing data:\n",
    "(i) var1 = ‘ ‘\n",
    "(ii) var2 = ‘[ DS , ML , Python]’\n",
    "(iii) var3 = [ ‘DS’ , ’ML’ , ‘Python’ ]\n",
    "(iv) var4 = 1.\n",
    "What will be the data type of the above given variable."
   ]
  },
  {
   "cell_type": "markdown",
   "id": "14f4619a-c743-448c-a2fa-989592aa697b",
   "metadata": {},
   "source": [
    "Ans-2:"
   ]
  },
  {
   "cell_type": "markdown",
   "id": "5b7e8da6-4793-4b61-984f-74d07b75cfca",
   "metadata": {},
   "source": [
    "var1 is string type because it is enclosed with quotation mark.\n",
    "\n",
    "var2 is string type because it is enclosed with quotation mark.\n",
    "\n",
    "var3 is list type because it contain sqaure brackets at both ends.\n",
    "\n",
    "var4 is integer type it has integer value."
   ]
  },
  {
   "cell_type": "markdown",
   "id": "1f05e56d-3cfa-462f-ae35-997ea5d48b7e",
   "metadata": {},
   "source": [
    "Q3. Explain the use of the following operators using an example:\n",
    "(i) /\n",
    "(ii) %\n",
    "(iii) //\n",
    "(iv) **"
   ]
  },
  {
   "cell_type": "code",
   "execution_count": 12,
   "id": "edfe3a75-caf9-472a-9df9-72eb8b827b0a",
   "metadata": {},
   "outputs": [
    {
     "name": "stdout",
     "output_type": "stream",
     "text": [
      "/ : 100.0\n",
      "% : 2\n",
      "/ : 166\n",
      "** : 32\n"
     ]
    }
   ],
   "source": [
    "#  / is used for division, return the quotient(gives value in decimal) when two numbers are divided\n",
    "print(\"/ :\",500/5)\n",
    "#  % returns the remainder when two numbers are divided\n",
    "print(\"% :\",502%5)\n",
    "#  // is used for floor division, return the intetral part quotient(does not contain the decimal part) when two numbers are divided\n",
    "print(\"/ :\",500//3)\n",
    "#  ** is used for exponention, return the A raise to the power B\n",
    "print(\"** :\",2**5)"
   ]
  },
  {
   "cell_type": "markdown",
   "id": "a9661e7d-76cb-4318-ba1d-455292f3fbcd",
   "metadata": {},
   "source": [
    "Q4. Create a list of length 10 of your choice containing multiple types of data. Using for loop print the\n",
    "element and its data type."
   ]
  },
  {
   "cell_type": "code",
   "execution_count": 13,
   "id": "b385e44c-5328-4684-9d75-2cd136ad330c",
   "metadata": {},
   "outputs": [
    {
     "name": "stdout",
     "output_type": "stream",
     "text": [
      "1 : <class 'int'>\n",
      "2 : <class 'int'>\n",
      "3 : <class 'int'>\n",
      "4 : <class 'int'>\n",
      "5 : <class 'int'>\n",
      "7.8 : <class 'float'>\n",
      "True : <class 'bool'>\n",
      "(7-5j) : <class 'complex'>\n",
      "hello : <class 'str'>\n",
      "SK : <class 'str'>\n"
     ]
    }
   ],
   "source": [
    "lst= [1,2,3,4,5,7.8,True,7-5j,'hello','SK']\n",
    "for i in lst:\n",
    "    print(i,\":\", type(i))"
   ]
  },
  {
   "cell_type": "markdown",
   "id": "d0f8aaf8-0baf-4071-89e6-21afa62bcbee",
   "metadata": {},
   "source": [
    "Q5. Using a while loop, verify if the number A is purely divisible by number B and if so then how many\n",
    "times it can be divisible."
   ]
  },
  {
   "cell_type": "code",
   "execution_count": 4,
   "id": "ee112fd5-b5da-40dc-97d4-5c816a3bdc9d",
   "metadata": {},
   "outputs": [
    {
     "name": "stdin",
     "output_type": "stream",
     "text": [
      "Enter Dividened:  500\n",
      "Enter Divisor:  5\n"
     ]
    },
    {
     "name": "stdout",
     "output_type": "stream",
     "text": [
      "Number A is divisible by number B by 3 times\n"
     ]
    }
   ],
   "source": [
    "a=int(input(\"Enter Dividened: \"))\n",
    "b=int(input(\"Enter Divisor: \"))\n",
    "count=0\n",
    "while a%b==0:\n",
    "    count+=1\n",
    "    a/=b\n",
    "if count>0:\n",
    "    print(\"Number A is divisible by number B by\",count,\"times\")\n",
    "else:\n",
    "    print(\"Number A is not divisible by number B\")"
   ]
  },
  {
   "cell_type": "markdown",
   "id": "d20da0c2-ab5f-4c90-98dd-c3c7055d1139",
   "metadata": {},
   "source": [
    "Q6. Create a list containing 25 int type data. Using for loop and if-else condition print if the element is\n",
    "divisible by 3 or not."
   ]
  },
  {
   "cell_type": "code",
   "execution_count": 5,
   "id": "16f3823c-009e-40e3-9ddb-79556348b742",
   "metadata": {},
   "outputs": [
    {
     "name": "stdout",
     "output_type": "stream",
     "text": [
      "7 is not divisible by 3\n",
      "12 is divisible by 3\n",
      "8 is not divisible by 3\n",
      "21 is divisible by 3\n",
      "30 is divisible by 3\n",
      "16 is not divisible by 3\n",
      "9 is divisible by 3\n",
      "2 is not divisible by 3\n",
      "25 is not divisible by 3\n",
      "6 is divisible by 3\n",
      "18 is divisible by 3\n",
      "1 is not divisible by 3\n",
      "27 is divisible by 3\n",
      "14 is not divisible by 3\n",
      "3 is divisible by 3\n",
      "5 is not divisible by 3\n",
      "20 is not divisible by 3\n",
      "22 is not divisible by 3\n",
      "11 is not divisible by 3\n",
      "13 is not divisible by 3\n",
      "24 is divisible by 3\n",
      "17 is not divisible by 3\n",
      "4 is not divisible by 3\n",
      "19 is not divisible by 3\n",
      "10 is not divisible by 3\n"
     ]
    }
   ],
   "source": [
    "lst  = [7, 12, 8, 21, 30, 16, 9, 2, 25, 6, 18, 1, 27, 14, 3, 5, 20, 22, 11, 13, 24, 17, 4, 19, 10]\n",
    "for i in lst:\n",
    "    if i%3==0:\n",
    "        print(i,\"is divisible by 3\")\n",
    "    else:\n",
    "         print(i,\"is not divisible by 3\")"
   ]
  },
  {
   "cell_type": "markdown",
   "id": "a0e4edfe-d378-479e-b7fe-b3324ae5ae08",
   "metadata": {},
   "source": [
    "Q7. What do you understand about mutable and immutable data types? Give examples for both showing\n",
    "this property."
   ]
  },
  {
   "cell_type": "markdown",
   "id": "f1e75253-40e4-4bf6-a029-f01ca6a2de0e",
   "metadata": {},
   "source": [
    "Immutable datatypes are objects that cannot be modified or altered after they have been created. Examples of immutable data types include strings & tuples. Mutable data types are those whose values can be changed or new values can be assigned to them. Examples include lists, dictionaries, and sets are mutable"
   ]
  }
 ],
 "metadata": {
  "kernelspec": {
   "display_name": "Python 3 (ipykernel)",
   "language": "python",
   "name": "python3"
  },
  "language_info": {
   "codemirror_mode": {
    "name": "ipython",
    "version": 3
   },
   "file_extension": ".py",
   "mimetype": "text/x-python",
   "name": "python",
   "nbconvert_exporter": "python",
   "pygments_lexer": "ipython3",
   "version": "3.10.8"
  },
  "toc-autonumbering": false,
  "toc-showcode": false,
  "toc-showmarkdowntxt": false,
  "toc-showtags": false
 },
 "nbformat": 4,
 "nbformat_minor": 5
}
