{
 "cells": [
  {
   "cell_type": "markdown",
   "id": "c996dd4b-061b-4dea-bedf-0de9661cd60e",
   "metadata": {},
   "source": [
    "#### Q1. What is Abstraction in OOps? Explain with an example."
   ]
  },
  {
   "cell_type": "markdown",
   "id": "79885032-616f-426b-aa19-17550ff94d08",
   "metadata": {},
   "source": [
    "Abstraction is a fundamental concept in object-oriented programming (OOP) that involves hiding the complex implementation details of an object and only exposing the necessary features or functionalities to the outside world. It allows you to focus on what an object does rather than how it does it.\n",
    "\n",
    "In simpler terms, abstraction allows you to create a simplified model of a real-world entity by emphasizing only the relevant characteristics and behaviors while hiding the unnecessary details.\n",
    "\n",
    "One common example of abstraction is a car. When you drive a car, you don't need to understand the intricate details of how the engine, transmission, or braking system work internally. Instead, you interact with the car through its interface, such as the steering wheel, pedals, and dashboard controls.\n",
    "\n",
    "Here's how the concept of abstraction can be demonstrated in a programming context using a simple example in Python:"
   ]
  },
  {
   "cell_type": "code",
   "execution_count": 1,
   "id": "9bb098e7-d8f8-46b2-aa4b-c6118f5c14fc",
   "metadata": {},
   "outputs": [
    {
     "name": "stdout",
     "output_type": "stream",
     "text": [
      "Current speed: 10\n",
      "Current speed: 0\n"
     ]
    }
   ],
   "source": [
    "class Car:\n",
    "    def __init__(self, make, model, year):\n",
    "        self.make = make\n",
    "        self.model = model\n",
    "        self.year = year\n",
    "        self.speed = 0\n",
    "\n",
    "    def accelerate(self):\n",
    "        self.speed += 10\n",
    "\n",
    "    def brake(self):\n",
    "        self.speed -= 10\n",
    "\n",
    "    def display_speed(self):\n",
    "        print(\"Current speed:\", self.speed)\n",
    "\n",
    "\n",
    "my_car = Car(\"Toyota\", \"Camry\", 2020)\n",
    "\n",
    "# Interacting with the car using its interface (methods)\n",
    "my_car.accelerate()\n",
    "my_car.display_speed()\n",
    "\n",
    "my_car.brake()\n",
    "my_car.display_speed()\n"
   ]
  },
  {
   "cell_type": "markdown",
   "id": "d407e39b-f31c-42ee-8a1e-c9c611425bf3",
   "metadata": {},
   "source": [
    "#### Q2. Differentiate between Abstraction and Encapsulation. Explain with an example."
   ]
  },
  {
   "cell_type": "markdown",
   "id": "4d41239d-2512-4e0d-a3fa-8881ce8abd40",
   "metadata": {},
   "source": [
    "Abstraction:\n",
    "\n",
    "Abstraction refers to the process of hiding the complex implementation details and showing only the necessary features of an object to the outside world.\n",
    "It focuses on \"what\" an object does rather than \"how\" it does it.\n",
    "Abstraction allows you to create a simplified view of an object, which helps in managing complexity and increases reusability.\n",
    "In OOP, abstraction is typically achieved through abstract classes and interfaces.\n"
   ]
  },
  {
   "cell_type": "code",
   "execution_count": 1,
   "id": "74accc04-ef28-429f-b46c-4eb97bb62aa7",
   "metadata": {},
   "outputs": [
    {
     "name": "stdout",
     "output_type": "stream",
     "text": [
      "The car is driving.\n"
     ]
    }
   ],
   "source": [
    "class Car:\n",
    "    def __init__(self, make, model, year):\n",
    "        self.make = make\n",
    "        self.model = model\n",
    "        self.year = year\n",
    "\n",
    "    def drive(self):\n",
    "        print(\"The car is driving.\")\n",
    "\n",
    "my_car = Car(\"Toyota\", \"Camry\", 2020)\n",
    "my_car.drive()"
   ]
  },
  {
   "cell_type": "markdown",
   "id": "d4b8f8ee-4146-43b5-a3c3-fbe944ba52bb",
   "metadata": {},
   "source": [
    "Encapsulation:\n",
    "\n",
    "Encapsulation is the bundling of data (attributes) and methods (functions) that operate on the data into a single unit, typically called a class.\n",
    "It hides the internal state of an object from the outside world and only exposes the necessary functionalities through methods.\n",
    "Encapsulation helps in protecting the integrity of the data by preventing direct access and manipulation from outside the class.\n",
    "It enables better control over the data by allowing access only through well-defined interfaces (methods).  \n"
   ]
  },
  {
   "cell_type": "code",
   "execution_count": 2,
   "id": "a06ab02d-fb32-419b-b8e1-8b9400fc773e",
   "metadata": {},
   "outputs": [
    {
     "name": "stdout",
     "output_type": "stream",
     "text": [
      "1500\n",
      "1300\n"
     ]
    }
   ],
   "source": [
    "class BankAccount:\n",
    "    def __init__(self, balance):\n",
    "        self.__balance = balance\n",
    "\n",
    "    def get_balance(self):\n",
    "        return self.__balance\n",
    "\n",
    "    def deposit(self, amount):\n",
    "        self.__balance += amount\n",
    "\n",
    "    def withdraw(self, amount):\n",
    "        if amount <= self.__balance:\n",
    "            self.__balance -= amount\n",
    "        else:\n",
    "            print(\"Insufficient funds.\")\n",
    "\n",
    "my_account = BankAccount(1000)\n",
    "my_account.deposit(500)\n",
    "print(my_account.get_balance())\n",
    "my_account.withdraw(200)\n",
    "print(my_account.get_balance())"
   ]
  },
  {
   "cell_type": "markdown",
   "id": "e5c78abc-b9be-44fb-a6e6-ee9e82f89402",
   "metadata": {},
   "source": [
    "#### Q3. What is abc module in python? Why is it used?"
   ]
  },
  {
   "cell_type": "markdown",
   "id": "97ec50bb-c55e-46e0-a7a3-58444736a6ef",
   "metadata": {},
   "source": [
    "The abc module in Python stands for \"Abstract Base Classes.\" It provides a way to define abstract base classes in Python. Abstract base classes are classes that are meant to be subclassed but not instantiated themselves. They define a set of methods and properties that must be implemented by their subclasses."
   ]
  },
  {
   "cell_type": "markdown",
   "id": "9ca4d067-2c2b-4d5a-a90d-f6f6925dc13a",
   "metadata": {},
   "source": [
    "1.Defining ABCs:\n",
    "\n",
    "Use the abc module to create abstract base classes.\n",
    "Define abstract methods that subclasses must implement.  \n",
    "\n",
    "2.Enforcing Method Implementation:\n",
    "\n",
    "Ensure subclasses implement required methods.\n",
    "Maintain consistency and predictability in the code.  \n",
    "\n",
    "3.Providing a Contract:\n",
    "\n",
    "Establish a set of methods for subclasses.\n",
    "Ensure adherence to expected behavior.  \n",
    "\n",
    "4.Polymorphism:\n",
    "\n",
    "Enable treating different subclasses uniformly.\n",
    "\n",
    "Simplify code that works with diverse object types."
   ]
  },
  {
   "cell_type": "markdown",
   "id": "60127097-d044-49dc-b394-5ee91c73ae1f",
   "metadata": {},
   "source": [
    "#### Q4. How can we achieve data abstraction?"
   ]
  },
  {
   "cell_type": "markdown",
   "id": "0924b947-1eac-47e2-bb7c-784b54bc330d",
   "metadata": {},
   "source": [
    "\n",
    "In Python, we can achieve data abstraction primarily through the use of classes and objects. Here's how:\n",
    "\n",
    "Encapsulation:\n",
    "\n",
    "Encapsulation involves bundling data (attributes) and methods (functions) that operate on the data within a single unit, typically a class.\n",
    "The internal state of an object is hidden from the outside world, and access to it is controlled through methods.\n",
    "Attributes are often made private or protected to prevent direct access from outside the class.  \n",
    "\n",
    "Access Modifiers:\n",
    "\n",
    "Python doesn't have explicit access modifiers like some other languages, but you can use naming conventions to indicate privacy.\n",
    "Prefixing an attribute with a single underscore _ implies it's protected and shouldn't be accessed directly.\n",
    "Prefixing with a double underscore __ makes it private, and Python name mangling changes its name to _ClassName__attribute.  \n",
    "\n",
    "Getters and Setters:\n",
    "\n",
    "Use getter and setter methods to access and modify object attributes indirectly.\n",
    "Getters retrieve the value of an attribute, while setters modify it.\n",
    "This allows for controlled access to attributes and helps enforce data abstraction by hiding implementation details.  \n",
    "\n",
    "Abstract Base Classes (ABCs):\n",
    "\n",
    "Define abstract base classes using the abc module.\n",
    "Abstract base classes define a common interface that subclasses must implement.\n",
    "They provide a blueprint for subclasses, ensuring they have certain methods or properties, thus enforcing data abstraction."
   ]
  },
  {
   "cell_type": "markdown",
   "id": "c7c70a29-83ca-416a-9d92-6212c76103b8",
   "metadata": {},
   "source": [
    "#### Q5. Can we create an instance of an abstract class? Explain your answer"
   ]
  },
  {
   "cell_type": "markdown",
   "id": "6df8e06e-44d9-40cd-af91-512347ad77ba",
   "metadata": {},
   "source": [
    "No, we cannot create an instance of an abstract class directly in Python. Abstract classes are meant to be subclassed and provide a template for other classes to inherit from. They typically contain one or more abstract methods, which are methods without any implementation.\n",
    "\n",
    "Attempting to instantiate an abstract class directly would result in a TypeError because abstract classes cannot be instantiated due to their incomplete implementation. They exist solely to define a common interface and provide a blueprint for subclasses to follow."
   ]
  }
 ],
 "metadata": {
  "kernelspec": {
   "display_name": "Python 3 (ipykernel)",
   "language": "python",
   "name": "python3"
  },
  "language_info": {
   "codemirror_mode": {
    "name": "ipython",
    "version": 3
   },
   "file_extension": ".py",
   "mimetype": "text/x-python",
   "name": "python",
   "nbconvert_exporter": "python",
   "pygments_lexer": "ipython3",
   "version": "3.10.8"
  }
 },
 "nbformat": 4,
 "nbformat_minor": 5
}
