{
 "cells": [
  {
   "cell_type": "markdown",
   "id": "80ac3d20-9bf5-4d5d-8101-7d019600264f",
   "metadata": {},
   "source": [
    "#### Q1. Create a vehicle class with an init method having instance variables as name_of_vehicle, max_speed and average_of_vehicle."
   ]
  },
  {
   "cell_type": "code",
   "execution_count": 7,
   "id": "112cd5f2-2863-40cd-ab1e-50ef8b80e534",
   "metadata": {},
   "outputs": [],
   "source": [
    "class vehicle:\n",
    "    \n",
    "    def __init__(self, name_of_vehicle, max_speed, average_of_vehicle):\n",
    "        self.name_of_vehicle=name_of_vehicle\n",
    "        self.max_speed=max_speed\n",
    "        self.average_of_vehicle=average_of_vehicle"
   ]
  },
  {
   "cell_type": "code",
   "execution_count": 13,
   "id": "40d1d97f-d743-4058-9e7f-800d97ff0baf",
   "metadata": {},
   "outputs": [],
   "source": [
    "vcl = vehicle(\"Toyota Camry\", 180, 30)"
   ]
  },
  {
   "cell_type": "code",
   "execution_count": 14,
   "id": "209f7986-44f2-4eb3-8137-f24f53fb1a9c",
   "metadata": {},
   "outputs": [
    {
     "name": "stdout",
     "output_type": "stream",
     "text": [
      "Name: Toyota Camry\n",
      "Max Speed: 180\n",
      "Average MPG: 30\n"
     ]
    }
   ],
   "source": [
    "print(\"Name:\", vcl.name_of_vehicle)\n",
    "print(\"Max Speed:\", vcl.max_speed)\n",
    "print(\"Average MPG:\", vcl.average_of_vehicle)"
   ]
  },
  {
   "cell_type": "markdown",
   "id": "3f742008-f685-401c-8ee2-fa2a0b2e39f3",
   "metadata": {},
   "source": [
    "#### Q2. Create a child class car from the vehicle class created in Que 1, which will inherit the vehicle class. Create a method named seating_capacity which takes capacity as an argument and returns the name of the vehicle and its seating capacity."
   ]
  },
  {
   "cell_type": "code",
   "execution_count": 46,
   "id": "fa88591b-ccd1-4ca0-9aed-8864ae7c5ca2",
   "metadata": {},
   "outputs": [],
   "source": [
    "class car(vehicle):\n",
    "    \n",
    "    def seating_capacity(self, capacity):\n",
    "        return self.name_of_vehicle, capacity"
   ]
  },
  {
   "cell_type": "code",
   "execution_count": 47,
   "id": "e8206c6d-ec0f-457e-b136-2627efa36a55",
   "metadata": {},
   "outputs": [],
   "source": [
    "vcl1 = car(\"Toyota Camry\", 180, 30)\n",
    "vcl2 = car(\"Tesla Model S\", 155, 4)"
   ]
  },
  {
   "cell_type": "code",
   "execution_count": 48,
   "id": "a60ad2a9-bd8c-4530-940e-8fefcb136cb7",
   "metadata": {},
   "outputs": [
    {
     "data": {
      "text/plain": [
       "('Toyota Camry', 5)"
      ]
     },
     "execution_count": 48,
     "metadata": {},
     "output_type": "execute_result"
    }
   ],
   "source": [
    "vcl1.seating_capacity(5)"
   ]
  },
  {
   "cell_type": "code",
   "execution_count": 49,
   "id": "006767f2-e7f4-4b60-8e1c-bac2220388cf",
   "metadata": {},
   "outputs": [
    {
     "data": {
      "text/plain": [
       "('Tesla Model S', 7)"
      ]
     },
     "execution_count": 49,
     "metadata": {},
     "output_type": "execute_result"
    }
   ],
   "source": [
    "vcl2.seating_capacity(7)"
   ]
  },
  {
   "cell_type": "markdown",
   "id": "5089ff93-3140-4bd2-b7ce-ce939d5b9524",
   "metadata": {},
   "source": [
    "#### Q3. What is multiple inheritance? Write a python code to demonstrate multiple inheritance."
   ]
  },
  {
   "cell_type": "markdown",
   "id": "1ee27c95-eacd-4327-94d5-df5f597ba126",
   "metadata": {},
   "source": [
    "Multiple inheritance is a feature in object-oriented programming where a class can inherit attributes and methods from more than one parent class. This allows a child class to have characteristics of multiple parent classes. For example- Father and Mother has some attributes and that attribute can be inherit in the child."
   ]
  },
  {
   "cell_type": "code",
   "execution_count": 53,
   "id": "c2df1a53-42fe-4bf8-af12-18e00ee06c64",
   "metadata": {},
   "outputs": [
    {
     "name": "stdout",
     "output_type": "stream",
     "text": [
      "this is class 1\n",
      "None\n",
      "this is class 2\n"
     ]
    }
   ],
   "source": [
    "class class1():\n",
    "    def fun_class1(self):\n",
    "        return \"this is class 1\"\n",
    "class class2():\n",
    "    def fun_class2(self):\n",
    "        return \"this is class 2\"\n",
    "class class3(class1,class2):\n",
    "    def fun_class3(self):\n",
    "        pass\n",
    "tp_class=class3()\n",
    "print(tp_class.fun_class1())\n",
    "print(tp_class.fun_class3())\n",
    "print(tp_class.fun_class2())"
   ]
  },
  {
   "cell_type": "markdown",
   "id": "b75c9e75-a976-4cab-9645-818a528db90a",
   "metadata": {},
   "source": [
    "#### Q4. What are getter and setter in python? Create a class and create a getter and a setter method in this class."
   ]
  },
  {
   "cell_type": "markdown",
   "id": "00d1e7b8-a522-4b09-891f-4e9b5f81a93e",
   "metadata": {},
   "source": [
    "In Python, getter and setter methods are used to access and modify the attributes (instance variables) of a class in a controlled manner. Getter methods are used to retrieve the value of an attribute, while setter methods are used to set or modify the value of an attribute."
   ]
  },
  {
   "cell_type": "code",
   "execution_count": 64,
   "id": "0ded03ea-bc54-4eca-9b7b-64f22ae866a1",
   "metadata": {},
   "outputs": [],
   "source": [
    "class rac:\n",
    "    \n",
    "    def __init__(self, model, year):\n",
    "        self.__model=model\n",
    "        self.__year=year\n",
    "    def set_year(self, year):\n",
    "        self.__year=2000 if year<2000 else year\n",
    "    def get_year(self):\n",
    "        return self.__year   "
   ]
  },
  {
   "cell_type": "code",
   "execution_count": 65,
   "id": "32d730a7-86f2-4c3d-8ede-2ceff4b30e5e",
   "metadata": {},
   "outputs": [],
   "source": [
    "ptpt=rac(\"lambogini\", 2021)"
   ]
  },
  {
   "cell_type": "code",
   "execution_count": 66,
   "id": "6a3b2f6a-8ad4-4e01-b906-eeb51c668a9e",
   "metadata": {},
   "outputs": [],
   "source": [
    "ptpt.set_year(1992)"
   ]
  },
  {
   "cell_type": "code",
   "execution_count": 67,
   "id": "0aa3410f-5fae-4ab0-89c3-ccb0b9138a08",
   "metadata": {},
   "outputs": [
    {
     "data": {
      "text/plain": [
       "2000"
      ]
     },
     "execution_count": 67,
     "metadata": {},
     "output_type": "execute_result"
    }
   ],
   "source": [
    "ptpt.get_year()"
   ]
  },
  {
   "cell_type": "markdown",
   "id": "d94e39d1-5408-4a3b-a7c8-b7a24c1beb07",
   "metadata": {},
   "source": [
    "#### Q5.What is method overriding in python? Write a python code to demonstrate method overriding."
   ]
  },
  {
   "cell_type": "markdown",
   "id": "71f00ff7-ec6b-48ef-bb48-ff050cba35dc",
   "metadata": {},
   "source": [
    "Method overriding in Python refers to the ability of a subclass to provide a specific implementation of a method that is already defined in its superclass. This allows the subclass to provide its own implementation of the method, which overrides the implementation in the superclass."
   ]
  },
  {
   "cell_type": "code",
   "execution_count": 68,
   "id": "630a2cfd-7bd2-4ebb-a996-1c378c8c9b84",
   "metadata": {},
   "outputs": [
    {
     "name": "stdout",
     "output_type": "stream",
     "text": [
      "Dog barks\n",
      "Cat meows\n"
     ]
    }
   ],
   "source": [
    "class Animal:\n",
    "    def make_sound(self):\n",
    "        print(\"Animal makes a generic sound\")\n",
    "\n",
    "class Dog(Animal):\n",
    "    def make_sound(self):\n",
    "        print(\"Dog barks\")\n",
    "\n",
    "class Cat(Animal):\n",
    "    def make_sound(self):\n",
    "        print(\"Cat meows\")\n",
    "\n",
    "\n",
    "dog = Dog()\n",
    "cat = Cat()\n",
    "\n",
    "\n",
    "dog.make_sound() \n",
    "cat.make_sound()\n"
   ]
  },
  {
   "cell_type": "code",
   "execution_count": null,
   "id": "6d9b6ae5-ba71-4e23-a10b-cce69dcc70c2",
   "metadata": {},
   "outputs": [],
   "source": []
  }
 ],
 "metadata": {
  "kernelspec": {
   "display_name": "Python 3 (ipykernel)",
   "language": "python",
   "name": "python3"
  },
  "language_info": {
   "codemirror_mode": {
    "name": "ipython",
    "version": 3
   },
   "file_extension": ".py",
   "mimetype": "text/x-python",
   "name": "python",
   "nbconvert_exporter": "python",
   "pygments_lexer": "ipython3",
   "version": "3.10.8"
  }
 },
 "nbformat": 4,
 "nbformat_minor": 5
}
