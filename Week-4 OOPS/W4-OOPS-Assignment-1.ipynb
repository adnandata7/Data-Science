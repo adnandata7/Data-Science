{
 "cells": [
  {
   "cell_type": "markdown",
   "id": "afcc36b7-7bba-4c97-aa40-87ef193dc356",
   "metadata": {},
   "source": [
    "### Q1. Explain Class and Object with respect to Object-Oriented Programming. Give a suitable example."
   ]
  },
  {
   "cell_type": "markdown",
   "id": "1cd40b01-51f0-42d8-8264-4dceef29c34f",
   "metadata": {},
   "source": [
    "In object-oriented programming (OOP), a class is a blueprint for creating objects (instances) that share similar attributes and behaviors. It defines the properties (attributes) and methods (behaviors) that all objects created from it will have.\n",
    "\n",
    "An object, on the other hand, is an instance of a class. It is a concrete realization of the class blueprint, with its own unique data (attribute values) and behaviors (method implementations).\n",
    "\n",
    "Here's a simple example to illustrate the concepts of a class and object:"
   ]
  },
  {
   "cell_type": "code",
   "execution_count": 2,
   "id": "55ea40fc-c1d4-464a-9ce1-b78d65dcdce5",
   "metadata": {},
   "outputs": [
    {
     "name": "stdout",
     "output_type": "stream",
     "text": [
      "Buddy is 3 years old.\n",
      "Max says: Woof!\n"
     ]
    }
   ],
   "source": [
    "class Dog:\n",
    "    def __init__(self, name, age):\n",
    "        self.name = name\n",
    "        self.age = age\n",
    "\n",
    "    def bark(self):\n",
    "        return \"Woof!\"\n",
    "\n",
    "# Creating objects (instances) of the Dog class\n",
    "dog1 = Dog(\"Buddy\", 3)\n",
    "dog2 = Dog(\"Max\", 5)\n",
    "\n",
    "# Accessing object attributes and methods\n",
    "print(f\"{dog1.name} is {dog1.age} years old.\")  \n",
    "print(f\"{dog2.name} says: {dog2.bark()}\") \n"
   ]
  },
  {
   "cell_type": "markdown",
   "id": "081d5763-a991-4860-ab02-14ccee54fc85",
   "metadata": {},
   "source": [
    "#### Q2. Name the four pillars of OOPs."
   ]
  },
  {
   "cell_type": "markdown",
   "id": "29f0b51c-9397-455f-b6ee-497aca7b669d",
   "metadata": {},
   "source": [
    "The four pillars of oops are:  \n",
    "a. Encapsulation  \n",
    "b. Inheritance  \n",
    "c. Polymorphism  \n",
    "d. Abstracion  "
   ]
  },
  {
   "cell_type": "markdown",
   "id": "1dcbb202-bce8-4ed8-8b17-4d3e69aa85d8",
   "metadata": {},
   "source": [
    "#### Q3. Explain why the _ _ init _ _() function is used. Give a suitable example."
   ]
  },
  {
   "cell_type": "markdown",
   "id": "3342308b-0138-473c-8632-e6daf9126a81",
   "metadata": {},
   "source": [
    "The _ _ init _ _() method in Python is a special function used for initializing newly created objects of a class. It's automatically called when an object is instantiated from the class. Its main purpose is to set initial values to the object's attributes, allowing you to customize the object's state during creation. This method facilitates data validation, setup operations, and ensures that objects start with defined attributes."
   ]
  },
  {
   "cell_type": "code",
   "execution_count": 6,
   "id": "cd10081b-6bdb-4874-9a0b-e852bb24d091",
   "metadata": {},
   "outputs": [
    {
     "name": "stdout",
     "output_type": "stream",
     "text": [
      "Alice\n",
      "25\n"
     ]
    }
   ],
   "source": [
    "class Person:\n",
    "    def __init__(self, name, age):\n",
    "        self.name = name\n",
    "        self.age = age\n",
    "\n",
    "person1 = Person(\"Alice\", 25)\n",
    "print(person1.name) \n",
    "print(person1.age)  "
   ]
  },
  {
   "cell_type": "markdown",
   "id": "227ee0af-35e8-4d03-a817-b9aef93aa4d7",
   "metadata": {},
   "source": [
    "#### Q4. Why self is used in OOPs?"
   ]
  },
  {
   "cell_type": "markdown",
   "id": "eb07e141-aaa1-4390-8c38-e628c2f8b9af",
   "metadata": {},
   "source": [
    "The self is used to represent the instance of the class. With this keyword, you can access the attributes and methods of the class in python. It binds the attributes with the given arguments. The reason why we use self is that Python does not use the ‘@’ syntax to refer to instance attributes. "
   ]
  },
  {
   "cell_type": "markdown",
   "id": "cd8b8d3c-00d6-4c9b-bc87-2c93b77cc720",
   "metadata": {},
   "source": [
    "#### Q5. What is inheritance? Give an example for each type of inheritance."
   ]
  },
  {
   "cell_type": "markdown",
   "id": "35300c8e-732e-4f0c-90e9-e7872dc581d6",
   "metadata": {},
   "source": [
    "Inheritance is a fundamental concept in object-oriented programming (OOP) that allows a new class (subclass or derived class) to inherit attributes and methods from an existing class (superclass or base class). Inheritance facilitates code reuse, promotes modularity, and allows for the creation of hierarchical relationships between classes.\n",
    "\n",
    "There are several types of inheritance, including:  \n",
    "1- Single Inheritance:\n",
    "\n",
    "In single inheritance, a subclass inherits from only one superclass.\n",
    "Example:"
   ]
  },
  {
   "cell_type": "code",
   "execution_count": 7,
   "id": "c4882a3a-b41e-4be2-a1f4-284b153b5dd8",
   "metadata": {},
   "outputs": [
    {
     "name": "stdout",
     "output_type": "stream",
     "text": [
      "Animal speaks\n",
      "Dog barks\n"
     ]
    }
   ],
   "source": [
    "class Animal:\n",
    "    def speak(self):\n",
    "        return \"Animal speaks\"\n",
    "\n",
    "class Dog(Animal):\n",
    "    def bark(self):\n",
    "        return \"Dog barks\"\n",
    "\n",
    "\n",
    "dog = Dog()\n",
    "print(dog.speak())\n",
    "print(dog.bark())   "
   ]
  },
  {
   "cell_type": "markdown",
   "id": "ba2a147d-3629-42f5-94bb-0f97c9eb3e38",
   "metadata": {},
   "source": [
    "2- Multiple Inheritance:\n",
    "\n",
    "In multiple inheritance, a subclass inherits from more than one superclass.  \n",
    "Example:"
   ]
  },
  {
   "cell_type": "code",
   "execution_count": 8,
   "id": "f04c4029-1874-4226-8e41-5b9c78e5bee1",
   "metadata": {},
   "outputs": [
    {
     "name": "stdout",
     "output_type": "stream",
     "text": [
      "Animal speaks\n",
      "Mammal runs\n",
      "Dog barks\n"
     ]
    }
   ],
   "source": [
    "class Animal:\n",
    "    def speak(self):\n",
    "        return \"Animal speaks\"\n",
    "\n",
    "class Mammal:\n",
    "    def run(self):\n",
    "        return \"Mammal runs\"\n",
    "\n",
    "class Dog(Animal, Mammal):\n",
    "    def bark(self):\n",
    "        return \"Dog barks\"\n",
    "\n",
    "\n",
    "dog = Dog()\n",
    "print(dog.speak()) \n",
    "print(dog.run())    \n",
    "print(dog.bark())  \n"
   ]
  },
  {
   "cell_type": "markdown",
   "id": "3b804452-3c36-484e-be8d-dd562f420e9f",
   "metadata": {},
   "source": [
    "3- Multilevel Inheritance:\n",
    "\n",
    "In multilevel inheritance, a subclass inherits from another subclass, creating a chain of inheritance.  \n",
    "Example:"
   ]
  },
  {
   "cell_type": "code",
   "execution_count": 9,
   "id": "fe0aa475-377f-4a91-b8ac-536db23c2d98",
   "metadata": {},
   "outputs": [
    {
     "name": "stdout",
     "output_type": "stream",
     "text": [
      "Animal speaks\n",
      "Dog barks\n",
      "Bulldog guards\n"
     ]
    }
   ],
   "source": [
    "class Animal:\n",
    "    def speak(self):\n",
    "        return \"Animal speaks\"\n",
    "\n",
    "class Dog(Animal):\n",
    "    def bark(self):\n",
    "        return \"Dog barks\"\n",
    "\n",
    "class Bulldog(Dog):\n",
    "    def guard(self):\n",
    "        return \"Bulldog guards\"\n",
    "\n",
    "\n",
    "bulldog = Bulldog()\n",
    "print(bulldog.speak())  \n",
    "print(bulldog.bark())   \n",
    "print(bulldog.guard()) \n"
   ]
  },
  {
   "cell_type": "markdown",
   "id": "f9b38546-381b-4733-b0aa-3760d11f3668",
   "metadata": {},
   "source": [
    "4- Hierarchical Inheritance:\n",
    "\n",
    "In hierarchical inheritance, multiple subclasses inherit from the same superclass.  \n",
    "Example:"
   ]
  },
  {
   "cell_type": "code",
   "execution_count": 10,
   "id": "a0cfe923-fcb4-408b-8be4-9c54724b971c",
   "metadata": {},
   "outputs": [
    {
     "name": "stdout",
     "output_type": "stream",
     "text": [
      "Animal speaks\n",
      "Animal speaks\n",
      "Dog barks\n",
      "Cat meows\n"
     ]
    }
   ],
   "source": [
    "class Animal:\n",
    "    def speak(self):\n",
    "        return \"Animal speaks\"\n",
    "\n",
    "class Dog(Animal):\n",
    "    def bark(self):\n",
    "        return \"Dog barks\"\n",
    "\n",
    "class Cat(Animal):\n",
    "    def meow(self):\n",
    "        return \"Cat meows\"\n",
    "\n",
    "\n",
    "dog = Dog()\n",
    "cat = Cat()\n",
    "print(dog.speak()) \n",
    "print(cat.speak()) \n",
    "print(dog.bark())   \n",
    "print(cat.meow())\n"
   ]
  },
  {
   "cell_type": "code",
   "execution_count": null,
   "id": "98e08b02-cbaa-49d3-b963-1e1662045371",
   "metadata": {},
   "outputs": [],
   "source": []
  }
 ],
 "metadata": {
  "kernelspec": {
   "display_name": "Python 3 (ipykernel)",
   "language": "python",
   "name": "python3"
  },
  "language_info": {
   "codemirror_mode": {
    "name": "ipython",
    "version": 3
   },
   "file_extension": ".py",
   "mimetype": "text/x-python",
   "name": "python",
   "nbconvert_exporter": "python",
   "pygments_lexer": "ipython3",
   "version": "3.10.8"
  }
 },
 "nbformat": 4,
 "nbformat_minor": 5
}
