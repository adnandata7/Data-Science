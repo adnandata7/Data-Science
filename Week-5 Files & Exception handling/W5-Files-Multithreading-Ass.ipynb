{
 "cells": [
  {
   "cell_type": "markdown",
   "id": "128a7ae5-0abd-4074-be77-ece896a9354d",
   "metadata": {},
   "source": [
    "#### Q1. What is multithreading in python? Why is it used? Name the module used to handle threads in python."
   ]
  },
  {
   "cell_type": "markdown",
   "id": "71a68a0f-21b2-4888-a043-48ced9f60e33",
   "metadata": {},
   "source": [
    "Multithreading in Python refers to the capability of a program to run multiple threads concurrently within a single process. Each thread represents a separate flow of control, allowing tasks to be executed in parallel.  \n",
    "\n",
    "Multithreading is used primarily to achieve concurrent execution of tasks and to improve the responsiveness of applications that perform multiple tasks simultaneously.\n",
    "\n",
    "In Python, the threading module is commonly used to handle threads. It provides a high-level interface for creating and working with threads, allowing you to spawn new threads, synchronize their execution, and communicate between them."
   ]
  },
  {
   "cell_type": "markdown",
   "id": "fe2e44bb-b3a6-467f-9eef-e54235858d79",
   "metadata": {},
   "source": [
    "#### Q2. Why threading module used? Write the use of the following functions:\n",
    "    a. activeCount()\n",
    "    b. currentThread()\n",
    "    c. enumerate()"
   ]
  },
  {
   "cell_type": "markdown",
   "id": "8179e4ef-95f7-41e3-877b-08f83378e4e2",
   "metadata": {},
   "source": [
    "The threading module in Python is used to facilitate concurrent execution of tasks within a single process using threads.  \n",
    "There are two reasons for using the thread module:  \n",
    "Concurrency: Enables multiple threads to run simultaneously, making efficient use of available CPU cores.  \n",
    "Resource Utilization: Allows programs to perform multiple operations concurrently, particularly useful for tasks involving I/O operations, such as reading from files or making network requests."
   ]
  },
  {
   "cell_type": "markdown",
   "id": "1c4b0080-ac03-4206-9642-5b8ef1f3f787",
   "metadata": {},
   "source": [
    "a. activeCount():\n",
    "\n",
    "Purpose: Returns the number of Thread objects currently alive.  \n",
    "Use: Useful for monitoring the number of active threads in a program at any given time.\n",
    "\n",
    "b. currentThread():\n",
    "\n",
    "Purpose: Returns the currently executing Thread object.  \n",
    "Use: Provides information about the thread currently executing the code, such as its name and ID.\n",
    "\n",
    "c. enumerate():\n",
    "\n",
    "Purpose: Returns a list of all Thread objects currently alive.  \n",
    "Use: Useful for iterating over all active threads to perform operations like joining or checking their status.  "
   ]
  },
  {
   "cell_type": "markdown",
   "id": "c5372e4e-1fe8-4d85-9b3f-6af3446aaa7d",
   "metadata": {},
   "source": [
    "#### Q3. Explain the following functions:\n",
    "    a. run()\n",
    "    b. start()\n",
    "    c. join()\n",
    "    d. isAlive() \n"
   ]
  },
  {
   "cell_type": "markdown",
   "id": "cefc5ee2-fa6c-475f-93a2-b393225935de",
   "metadata": {},
   "source": [
    "a. run():  \n",
    "Purpose: The run() method is the entry point for the thread when it is started. It defines the code that the thread will execute.  \n",
    "Usage: You typically override this method in a subclass of threading.Thread to define the specific task or operation that the thread should perform.  \n",
    "\n",
    "b. start():  \n",
    "Purpose: The start() method is used to begin the execution of the thread's run() method asynchronously.  \n",
    "Usage: Calling start() initiates the thread and allows it to run concurrently with other threads in the program.  \n",
    "\n",
    "c. join():  \n",
    "Purpose: The join() method blocks the execution of the calling thread until the thread on which it is called has finished executing.  \n",
    "Usage: It is often used to synchronize the main program with the completion of the thread's execution or to wait for multiple threads to complete.\n",
    "\n",
    "d. isAlive():  \n",
    "Purpose: The isAlive() method checks whether the thread is currently executing (True) or has completed its execution (False).  \n",
    "Usage: It's used to query the status of a thread to determine if it is still actively running."
   ]
  },
  {
   "cell_type": "markdown",
   "id": "e5bbf30c-15b7-4d5d-a75c-dc3ed30d9e1f",
   "metadata": {},
   "source": [
    "#### Q4.  Write a python program to create two threads. Thread one must print the list of squares and thread two must print the list of cubes."
   ]
  },
  {
   "cell_type": "code",
   "execution_count": 5,
   "id": "9971d64a-0643-4c4f-945d-484b0c834a39",
   "metadata": {},
   "outputs": [
    {
     "name": "stdout",
     "output_type": "stream",
     "text": [
      "Squares: [1, 4, 9, 16, 25]\n",
      "Cubes: [1, 8, 27, 64, 125]\n",
      "Main thread exiting.\n"
     ]
    }
   ],
   "source": [
    "import threading\n",
    "\n",
    "def calculate_squares(numbers):\n",
    "    squares = [n * n for n in numbers]\n",
    "    print(f\"Squares: {squares}\")\n",
    "\n",
    "def calculate_cubes(numbers):\n",
    "    cubes = [n * n * n for n in numbers]\n",
    "    print(f\"Cubes: {cubes}\")\n",
    "\n",
    "numbers = [1, 2, 3, 4, 5]\n",
    "\n",
    "thread1 = threading.Thread(target=calculate_squares, args=(numbers,))\n",
    "thread2 = threading.Thread(target=calculate_cubes, args=(numbers,))\n",
    "\n",
    "thread1.start()\n",
    "thread2.start()\n",
    "\n",
    "thread1.join()\n",
    "thread2.join()\n",
    "\n",
    "print(\"Main thread exiting.\")\n"
   ]
  },
  {
   "cell_type": "markdown",
   "id": "9f56f1d4-abd2-45ff-b625-1fa6ec039a25",
   "metadata": {},
   "source": [
    "#### Q5. State advantages and disadvantages of multithreading."
   ]
  },
  {
   "cell_type": "markdown",
   "id": "61d7f5e5-8ab4-4f9f-90b9-e031a9794876",
   "metadata": {},
   "source": [
    "Advantages of Multithreading:  \n",
    "\n",
    "Improved Responsiveness: Multithreading allows applications to remain responsive to user interactions while performing long-running tasks in the background. This is particularly beneficial in user interfaces and interactive applications.\n",
    "\n",
    "Concurrency: Threads enable multiple tasks to execute concurrently within the same process, utilizing available CPU cores efficiently. This can lead to improved performance, especially for CPU-bound tasks.\n",
    "\n",
    "Resource Sharing: Threads within the same process can share resources such as memory space, which can simplify communication and data sharing between different parts of an application.\n",
    "\n",
    "Simplified Code: In some cases, multithreading can simplify complex code by allowing different parts of an application to run independently but within the same program context.\n",
    "\n",
    "Parallelism: Multithreading enables true parallelism on multi-core systems, where multiple threads can execute simultaneously, accelerating computations and improving overall throughput.\n",
    "\n",
    "Disadvantages of Multithreading:\n",
    "\n",
    "Complexity and Synchronization: Multithreaded programming introduces complexity due to the need for synchronization mechanisms (like locks, mutexes, and semaphores) to coordinate access to shared resources. Improper synchronization can lead to issues such as race conditions and deadlocks.\n",
    "\n",
    "Increased Overhead: Creating and managing threads requires system resources (memory and CPU time). While threads can enhance performance in certain scenarios, excessive threading can lead to resource contention and overhead.\n",
    "\n",
    "Difficulty in Debugging: Multithreaded programs can be harder to debug and reason about compared to single-threaded programs. Issues such as timing-dependent bugs (e.g., race conditions) may not manifest consistently and can be challenging to reproduce.\n",
    "\n",
    "Potential for Reduced Stability: Improperly managed threads can impact application stability. For example, a deadlock where threads are waiting indefinitely for each other to release resources can cause the application to hang.\n",
    "\n",
    "Portability: Thread behavior and performance can vary across different operating systems and hardware platforms. Writing portable multithreaded code that behaves predictably across all platforms can be challenging."
   ]
  },
  {
   "cell_type": "markdown",
   "id": "cc3d0f08-0f68-499d-b66e-c513aba404e0",
   "metadata": {},
   "source": [
    "#### Q6. Explain deadlocks and race conditions."
   ]
  },
  {
   "cell_type": "markdown",
   "id": "c2c2be68-b8e4-4751-a731-c63b69caa1f3",
   "metadata": {},
   "source": [
    "Deadlocks and race conditions are two common concurrency-related issues in multithreaded programming.\n",
    "\n",
    "Deadlock:  \n",
    "Deadlock occurs when two or more threads are blocked forever, waiting for each other to release resources that they need. This situation typically arises due to a circular dependency of resources.\n",
    "\n",
    "Race Condition:  \n",
    "A race condition occurs when the behavior of a program depends on the relative timing or interleaving of multiple threads or processes. It leads to unpredictable outcomes because the result of the execution depends on the timing of how threads are scheduled."
   ]
  },
  {
   "cell_type": "code",
   "execution_count": null,
   "id": "e0180a91-5288-4f50-b417-294ce8c54313",
   "metadata": {},
   "outputs": [],
   "source": []
  }
 ],
 "metadata": {
  "kernelspec": {
   "display_name": "Python 3 (ipykernel)",
   "language": "python",
   "name": "python3"
  },
  "language_info": {
   "codemirror_mode": {
    "name": "ipython",
    "version": 3
   },
   "file_extension": ".py",
   "mimetype": "text/x-python",
   "name": "python",
   "nbconvert_exporter": "python",
   "pygments_lexer": "ipython3",
   "version": "3.10.8"
  }
 },
 "nbformat": 4,
 "nbformat_minor": 5
}
