{
 "cells": [
  {
   "cell_type": "markdown",
   "id": "f51d34d2-866a-4569-afe9-fa727206b36a",
   "metadata": {},
   "source": [
    "#### Q1. What is Exception in python? Write the difference between exception and syntax errors."
   ]
  },
  {
   "cell_type": "markdown",
   "id": "a23b89f3-9ee6-411f-9e17-ed8ab81fa784",
   "metadata": {},
   "source": [
    "In Python, an exception is an event that occurs during the execution of a program and disrupts its normal flow. When a Python script encounters a situation it cannot cope with, it raises an exception. An exception is a signal that an error or other unusual condition has occurred. Examples include trying to divide by zero, accessing a file that does not exist, or attempting to use an undefined variable."
   ]
  },
  {
   "cell_type": "markdown",
   "id": "36089e9c-7482-44d3-85c9-4552f9e51c2b",
   "metadata": {},
   "source": [
    "Difference:  \n",
    "\n",
    "Exception: An error that occurs during the execution of a program. It is usually caused by external circumstances that the program cannot handle. Examples include division by zero, file not found, or invalid input.  \n",
    "Syntax Error: An error that occurs when the code does not follow the syntax rules of the Python language. These errors are detected by the parser and must be fixed before the program can run.\n"
   ]
  },
  {
   "cell_type": "markdown",
   "id": "08126bf6-bef1-4159-83c3-047bcbeba021",
   "metadata": {},
   "source": [
    "#### Q2. What happens when an exception is not handled? Explain with example."
   ]
  },
  {
   "cell_type": "markdown",
   "id": "780d83b8-227f-48cc-b99c-7d5e23c734b3",
   "metadata": {},
   "source": [
    "When an exception is not handled in Python, the program will terminate and display an error message (a traceback) indicating the type of exception, where it occurred, and a description of the error. This unhandled exception causes the program to crash, and any remaining code will not be executed.  \n",
    "Example of Unhandled Exception:"
   ]
  },
  {
   "cell_type": "code",
   "execution_count": 1,
   "id": "be9def54-3a47-409e-bead-de305db321b8",
   "metadata": {},
   "outputs": [
    {
     "ename": "ZeroDivisionError",
     "evalue": "division by zero",
     "output_type": "error",
     "traceback": [
      "\u001b[0;31m---------------------------------------------------------------------------\u001b[0m",
      "\u001b[0;31mZeroDivisionError\u001b[0m                         Traceback (most recent call last)",
      "Cell \u001b[0;32mIn[1], line 4\u001b[0m\n\u001b[1;32m      1\u001b[0m \u001b[38;5;28;01mdef\u001b[39;00m \u001b[38;5;21mdivide\u001b[39m(a, b):\n\u001b[1;32m      2\u001b[0m     \u001b[38;5;28;01mreturn\u001b[39;00m a \u001b[38;5;241m/\u001b[39m b\n\u001b[0;32m----> 4\u001b[0m result \u001b[38;5;241m=\u001b[39m \u001b[43mdivide\u001b[49m\u001b[43m(\u001b[49m\u001b[38;5;241;43m10\u001b[39;49m\u001b[43m,\u001b[49m\u001b[43m \u001b[49m\u001b[38;5;241;43m0\u001b[39;49m\u001b[43m)\u001b[49m\n\u001b[1;32m      5\u001b[0m \u001b[38;5;28mprint\u001b[39m(\u001b[38;5;124m\"\u001b[39m\u001b[38;5;124mResult is:\u001b[39m\u001b[38;5;124m\"\u001b[39m, result)\n",
      "Cell \u001b[0;32mIn[1], line 2\u001b[0m, in \u001b[0;36mdivide\u001b[0;34m(a, b)\u001b[0m\n\u001b[1;32m      1\u001b[0m \u001b[38;5;28;01mdef\u001b[39;00m \u001b[38;5;21mdivide\u001b[39m(a, b):\n\u001b[0;32m----> 2\u001b[0m     \u001b[38;5;28;01mreturn\u001b[39;00m \u001b[43ma\u001b[49m\u001b[43m \u001b[49m\u001b[38;5;241;43m/\u001b[39;49m\u001b[43m \u001b[49m\u001b[43mb\u001b[49m\n",
      "\u001b[0;31mZeroDivisionError\u001b[0m: division by zero"
     ]
    }
   ],
   "source": [
    "def divide(a, b):\n",
    "    return a / b\n",
    "\n",
    "result = divide(10, 0)\n",
    "print(\"Result is:\", result)\n"
   ]
  },
  {
   "cell_type": "markdown",
   "id": "3f205194-acf7-438d-b6e0-4a3012217bcb",
   "metadata": {},
   "source": [
    "#### Q3. Which python statements are used to catch and handle exceptions? Explain with example."
   ]
  },
  {
   "cell_type": "markdown",
   "id": "71350526-6b35-4cf5-b370-3d5020213553",
   "metadata": {},
   "source": [
    "The primary statements for catching and handling exceptions in Python are try and except:\n",
    "1. try: This block contains the code that might raise an exception.\n",
    "2. except: This block contains the code that will be executed if an exception occurs in the corresponding try block."
   ]
  },
  {
   "cell_type": "code",
   "execution_count": 2,
   "id": "47534613-a733-4517-b802-e2c5791c5471",
   "metadata": {},
   "outputs": [
    {
     "name": "stdin",
     "output_type": "stream",
     "text": [
      "Enter a number:  45\n",
      "Enter another number:  0\n"
     ]
    },
    {
     "name": "stdout",
     "output_type": "stream",
     "text": [
      "Error: Cannot divide by zero!\n"
     ]
    }
   ],
   "source": [
    "try:\n",
    "    num1 = int(input(\"Enter a number: \"))\n",
    "    num2 = int(input(\"Enter another number: \"))\n",
    "    result = num1 / num2\n",
    "    print(\"The result is:\", result)\n",
    "                  \n",
    "\n",
    "except ZeroDivisionError:\n",
    "    print(\"Error: Cannot divide by zero!\")\n",
    "\n",
    "except ValueError:\n",
    "    print(\"Error: Please enter valid numbers.\")"
   ]
  },
  {
   "cell_type": "markdown",
   "id": "489acb19-bf2d-4c98-8386-19c0906781c5",
   "metadata": {},
   "source": [
    "#### Q4. Explain with an example:  \n",
    "        a. try and else\n",
    "        b. finally\n",
    "        c. raise"
   ]
  },
  {
   "cell_type": "markdown",
   "id": "a8362fb4-2579-439c-9396-4ef4849b2340",
   "metadata": {},
   "source": [
    "a. try and else:  \n",
    "The else block is executed only if the code in the try block does not raise an exception. It is useful for code that should run only if no exceptions occur.\n",
    "\n",
    "Example:"
   ]
  },
  {
   "cell_type": "code",
   "execution_count": 5,
   "id": "e0323100-8dbb-4ebc-8198-4026ec682986",
   "metadata": {},
   "outputs": [
    {
     "name": "stdin",
     "output_type": "stream",
     "text": [
      "Enter the first number:  46\n",
      "Enter the second number:  23\n"
     ]
    },
    {
     "name": "stdout",
     "output_type": "stream",
     "text": [
      "The result of the division is: 2.0\n"
     ]
    }
   ],
   "source": [
    "try:\n",
    "    num1 = int(input(\"Enter the first number: \"))\n",
    "    num2 = int(input(\"Enter the second number: \"))\n",
    "    result = num1 / num2\n",
    "except ValueError as ve:\n",
    "    print(f\"ValueError: {ve}. Please enter valid integers.\")\n",
    "except ZeroDivisionError as zde:\n",
    "    print(f\"ZeroDivisionError: {zde}. You cannot divide by zero.\")\n",
    "else:\n",
    "    print(f\"The result of the division is: {result}\")\n"
   ]
  },
  {
   "cell_type": "markdown",
   "id": "e4717989-4f42-4031-b99a-a0754f6d29ea",
   "metadata": {},
   "source": [
    "b. finally:  \n",
    "The finally block is executed regardless of whether an exception was raised or not. It is typically used for cleanup actions, such as closing files or releasing resources.\n",
    "\n",
    "Example:"
   ]
  },
  {
   "cell_type": "code",
   "execution_count": 4,
   "id": "1999da5b-8d5e-44ee-88c4-b7facd659fac",
   "metadata": {},
   "outputs": [
    {
     "name": "stdout",
     "output_type": "stream",
     "text": [
      "Something went wrong\n",
      "The try...except block is finished\n"
     ]
    }
   ],
   "source": [
    "try:\n",
    "    x > 3\n",
    "except:\n",
    "    print(\"Something went wrong\")\n",
    "else:\n",
    "    print(\"Nothing went wrong\")\n",
    "finally:\n",
    "    print(\"The try...except block is finished\")\n"
   ]
  },
  {
   "cell_type": "markdown",
   "id": "44fb9e5f-b81c-4984-b846-6b3fa6f09b03",
   "metadata": {},
   "source": [
    "c. raise:  \n",
    "The raise statement is used to manually raise an exception. It can be used to signal an error condition within your program explicitly.  \n",
    "\n",
    "Example:"
   ]
  },
  {
   "cell_type": "code",
   "execution_count": 7,
   "id": "659f8f07-caf9-4f5c-beb6-e3fd7f69d702",
   "metadata": {},
   "outputs": [
    {
     "ename": "Exception",
     "evalue": "Sorry, no numbers below zero",
     "output_type": "error",
     "traceback": [
      "\u001b[0;31m---------------------------------------------------------------------------\u001b[0m",
      "\u001b[0;31mException\u001b[0m                                 Traceback (most recent call last)",
      "Cell \u001b[0;32mIn[7], line 4\u001b[0m\n\u001b[1;32m      1\u001b[0m x \u001b[38;5;241m=\u001b[39m \u001b[38;5;241m-\u001b[39m\u001b[38;5;241m1\u001b[39m\n\u001b[1;32m      3\u001b[0m \u001b[38;5;28;01mif\u001b[39;00m x \u001b[38;5;241m<\u001b[39m \u001b[38;5;241m0\u001b[39m:\n\u001b[0;32m----> 4\u001b[0m     \u001b[38;5;28;01mraise\u001b[39;00m \u001b[38;5;167;01mException\u001b[39;00m(\u001b[38;5;124m\"\u001b[39m\u001b[38;5;124mSorry, no numbers below zero\u001b[39m\u001b[38;5;124m\"\u001b[39m)\n",
      "\u001b[0;31mException\u001b[0m: Sorry, no numbers below zero"
     ]
    }
   ],
   "source": [
    "x = -1\n",
    "\n",
    "if x < 0:\n",
    "    raise Exception(\"Sorry, no numbers below zero\")"
   ]
  },
  {
   "cell_type": "markdown",
   "id": "850aa923-77d1-476e-936d-28fa800988d3",
   "metadata": {},
   "source": [
    "#### Q5. What are custom exceptions in python? Why do we need Custom Exceptions? Explain with an example."
   ]
  },
  {
   "cell_type": "markdown",
   "id": "f3c240b5-be08-4c79-bf96-4396fe8e0885",
   "metadata": {},
   "source": [
    "Custom Exceptions in Python:  \n",
    "Custom exceptions in Python are user-defined exceptions that extend the built-in Exception class. They allow you to create specific error types that make your code more readable and easier to debug by providing clear and meaningful error messages.\n",
    "\n",
    "Need of Custom Exceptions:  \n",
    "Specific Error Handling: Custom exceptions allow you to define specific types of errors that are relevant to your application. This makes it easier to handle different error conditions distinctly.  \n",
    "Improved Code Readability: Custom exceptions can make your code more readable by clearly indicating what went wrong.  \n",
    "Modularity and Reusability: By defining custom exceptions, you can reuse them across different parts of your application or in other projects.  \n",
    "\n",
    "Example of Custom Exceptions:"
   ]
  },
  {
   "cell_type": "code",
   "execution_count": 8,
   "id": "aa0360d7-4822-445e-bff6-13e7a8f4d846",
   "metadata": {},
   "outputs": [
    {
     "name": "stdin",
     "output_type": "stream",
     "text": [
      "Enter a number:  14\n"
     ]
    },
    {
     "name": "stdout",
     "output_type": "stream",
     "text": [
      "Exception occurred: Invalid Age\n"
     ]
    }
   ],
   "source": [
    "# define Python user-defined exceptions\n",
    "class InvalidAgeException(Exception):\n",
    "    \"Raised when the input value is less than 18\"\n",
    "    pass\n",
    "\n",
    "# you need to guess this number\n",
    "number = 18\n",
    "\n",
    "try:\n",
    "    input_num = int(input(\"Enter a number: \"))\n",
    "    if input_num < number:\n",
    "        raise InvalidAgeException\n",
    "    else:\n",
    "        print(\"Eligible to Vote\")\n",
    "        \n",
    "except InvalidAgeException:\n",
    "    print(\"Exception occurred: Invalid Age\")"
   ]
  },
  {
   "cell_type": "markdown",
   "id": "0142228e-9c5c-43e7-96d0-e6ea70119175",
   "metadata": {},
   "source": [
    "#### Q6. Create a custom exception class. Use this class to handle the exception."
   ]
  },
  {
   "cell_type": "code",
   "execution_count": 9,
   "id": "cfb14efd-93a3-4e53-811d-c889ef9a2c0e",
   "metadata": {},
   "outputs": [
    {
     "name": "stdin",
     "output_type": "stream",
     "text": [
      "Enter a number:  17\n"
     ]
    },
    {
     "name": "stdout",
     "output_type": "stream",
     "text": [
      "Exception occurred: Invalid Age\n"
     ]
    }
   ],
   "source": [
    "# define Python user-defined exceptions\n",
    "class InvalidAgeException(Exception):\n",
    "    \"Raised when the input value is less than 18\"\n",
    "    pass\n",
    "\n",
    "# you need to guess this number\n",
    "number = 18\n",
    "\n",
    "\n",
    "try:\n",
    "    input_num = int(input(\"Enter a number: \"))\n",
    "    if input_num < number:\n",
    "        raise InvalidAgeException\n",
    "    else:\n",
    "        print(\"Eligible to Vote\")\n",
    "#use this custom exception class        \n",
    "except InvalidAgeException:\n",
    "    print(\"Exception occurred: Invalid Age\")"
   ]
  },
  {
   "cell_type": "code",
   "execution_count": null,
   "id": "f3be2b97-18d9-4cae-b01e-e4352c7e6ef3",
   "metadata": {},
   "outputs": [],
   "source": []
  }
 ],
 "metadata": {
  "kernelspec": {
   "display_name": "Python 3 (ipykernel)",
   "language": "python",
   "name": "python3"
  },
  "language_info": {
   "codemirror_mode": {
    "name": "ipython",
    "version": 3
   },
   "file_extension": ".py",
   "mimetype": "text/x-python",
   "name": "python",
   "nbconvert_exporter": "python",
   "pygments_lexer": "ipython3",
   "version": "3.10.8"
  }
 },
 "nbformat": 4,
 "nbformat_minor": 5
}
