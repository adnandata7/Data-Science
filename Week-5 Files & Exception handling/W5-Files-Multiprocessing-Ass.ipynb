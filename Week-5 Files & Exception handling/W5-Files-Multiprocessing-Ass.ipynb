{
 "cells": [
  {
   "cell_type": "markdown",
   "id": "c26741cc-ee7e-4f78-ac57-887bbb55907d",
   "metadata": {},
   "source": [
    "#### Q1. What is multiprocessing in python? Why is it useful? "
   ]
  },
  {
   "cell_type": "markdown",
   "id": "38c4ca9d-5f64-47bd-86b2-68697d286a83",
   "metadata": {},
   "source": [
    "Multiprocessing in Python refers to the capability of running multiple processes concurrently to achieve parallelism, taking advantage of multiple CPU cores in a system. This is in contrast to multithreading, which involves running multiple threads within the same process.\n",
    "\n",
    "Multiprocessing in Python is useful because it allows tasks to run concurrently across multiple CPU cores, improving performance and resource utilization, while also enhancing fault tolerance and bypassing Python's Global Interpreter Lock for better multithreading performance."
   ]
  },
  {
   "cell_type": "markdown",
   "id": "b39f7838-9ad4-4acc-b36d-a26cce7991f3",
   "metadata": {},
   "source": [
    "#### Q2. What are the differences between multiprocessing and multithreading?"
   ]
  },
  {
   "cell_type": "markdown",
   "id": "d6a3eb97-1119-481a-8830-dbcc7f56575e",
   "metadata": {},
   "source": [
    "Multiprocessing: Runs tasks concurrently in separate processes, ideal for CPU-bound tasks, provides true parallelism, and bypasses the GIL.\n",
    "\n",
    "Multithreading: Runs tasks concurrently within the same process, suitable for I/O-bound tasks, shares resources and the GIL, offering concurrency but not necessarily parallelism."
   ]
  },
  {
   "cell_type": "markdown",
   "id": "bc5f7ead-fb5a-4356-896a-d9aa6bc85b7a",
   "metadata": {},
   "source": [
    "#### Q3. Write a python code to create a process using the multiprocessing module."
   ]
  },
  {
   "cell_type": "code",
   "execution_count": 1,
   "id": "7f4c0f49-b763-4bf8-b692-d3a2afd4e119",
   "metadata": {},
   "outputs": [
    {
     "name": "stdout",
     "output_type": "stream",
     "text": [
      "The square of 1 is 1\n",
      "The square of 2 is 4\n",
      "The square of 3 is 9\n",
      "The square of 4 is 16\n",
      "The square of 5 is 25\n",
      "All processes have finished.\n"
     ]
    }
   ],
   "source": [
    "import multiprocessing\n",
    "\n",
    "def calculate_square(number):\n",
    "    \"\"\"Function to calculate square of a number.\"\"\"\n",
    "    result = number * number\n",
    "    print(f\"The square of {number} is {result}\")\n",
    "\n",
    "if __name__ == \"__main__\":\n",
    "    # List of numbers\n",
    "    numbers = [1, 2, 3, 4, 5]\n",
    "    \n",
    "    # Create a list to hold processes\n",
    "    processes = []\n",
    "    \n",
    "    # Create a process for each number\n",
    "    for number in numbers:\n",
    "        process = multiprocessing.Process(target=calculate_square, args=(number,))\n",
    "        processes.append(process)\n",
    "        process.start()\n",
    "    \n",
    "    # Wait for all processes to finish\n",
    "    for process in processes:\n",
    "        process.join()\n",
    "    \n",
    "    print(\"All processes have finished.\")\n"
   ]
  },
  {
   "cell_type": "markdown",
   "id": "9683beb8-aac5-4dec-83db-3319b3522e64",
   "metadata": {},
   "source": [
    "#### Q4. What is a multiprocessing pool in python? Why is it used?"
   ]
  },
  {
   "cell_type": "markdown",
   "id": "225d93bc-341e-4f7a-8554-40843d9a9161",
   "metadata": {},
   "source": [
    "In Python's multiprocessing module, a multiprocessing pool refers to a pool of worker processes that can execute tasks concurrently. It provides a convenient way to distribute work across multiple processes, managing the creation and management of these processes automatically.\n",
    "\n",
    "A multiprocessing pool in Python is useful because it allows tasks to be executed concurrently across multiple processes, utilizing all CPU cores effectively. It simplifies parallel processing, manages process creation and distribution of tasks, and enhances performance for CPU-bound operations."
   ]
  },
  {
   "cell_type": "markdown",
   "id": "aa7101ff-9054-4d7d-ae38-72557d046ac4",
   "metadata": {},
   "source": [
    "#### Q5. How can we create a pool of worker processes in python using the multiprocessing module?"
   ]
  },
  {
   "cell_type": "code",
   "execution_count": 2,
   "id": "fd6795f9-846c-45ce-9c3d-97bcc6e4a6b0",
   "metadata": {},
   "outputs": [
    {
     "name": "stdout",
     "output_type": "stream",
     "text": [
      "Results: [1, 4, 9, 16, 25]\n"
     ]
    }
   ],
   "source": [
    "import multiprocessing\n",
    "\n",
    "def worker_function(task):\n",
    "    \"\"\"Function to be executed by each worker process.\"\"\"\n",
    "    result = task * task\n",
    "    return result\n",
    "\n",
    "if __name__ == \"__main__\":\n",
    "    # Create a multiprocessing Pool with 4 processes\n",
    "    with multiprocessing.Pool(processes=4) as pool:\n",
    "        # List of tasks\n",
    "        tasks = [1, 2, 3, 4, 5]\n",
    "        \n",
    "        # Apply worker_function to tasks using the Pool\n",
    "        results = pool.map(worker_function, tasks)\n",
    "        \n",
    "        # Print the results\n",
    "        print(\"Results:\", results)\n"
   ]
  },
  {
   "cell_type": "markdown",
   "id": "ad5e3af7-652a-4270-891d-1a340a3a2840",
   "metadata": {},
   "source": [
    "#### Q6. Write a python program to create 4 processes, each process should print a different number using the multiprocessing module in python."
   ]
  },
  {
   "cell_type": "code",
   "execution_count": 3,
   "id": "ddcddfed-ae98-452e-9e53-01b2baffd271",
   "metadata": {},
   "outputs": [
    {
     "name": "stdout",
     "output_type": "stream",
     "text": [
      "Process Process-10 prints: 1\n",
      "Process Process-11 prints: 2\n",
      "Process Process-12 prints: 3\n",
      "Process Process-13 prints: 4\n"
     ]
    }
   ],
   "source": [
    "import multiprocessing\n",
    "\n",
    "def print_number(number):\n",
    "    \"\"\"Function to print a given number.\"\"\"\n",
    "    print(f\"Process {multiprocessing.current_process().name} prints: {number}\")\n",
    "\n",
    "if __name__ == \"__main__\":\n",
    "    # Define numbers to be printed by each process\n",
    "    numbers = [1, 2, 3, 4]\n",
    "    \n",
    "    # Create a list to hold processes\n",
    "    processes = []\n",
    "    \n",
    "    # Create and start a process for each number\n",
    "    for number in numbers:\n",
    "        process = multiprocessing.Process(target=print_number, args=(number,))\n",
    "        processes.append(process)\n",
    "        process.start()\n",
    "    \n",
    "    # Wait for all processes to finish\n",
    "    for process in processes:\n",
    "        process.join()\n"
   ]
  }
 ],
 "metadata": {
  "kernelspec": {
   "display_name": "Python 3 (ipykernel)",
   "language": "python",
   "name": "python3"
  },
  "language_info": {
   "codemirror_mode": {
    "name": "ipython",
    "version": 3
   },
   "file_extension": ".py",
   "mimetype": "text/x-python",
   "name": "python",
   "nbconvert_exporter": "python",
   "pygments_lexer": "ipython3",
   "version": "3.10.8"
  }
 },
 "nbformat": 4,
 "nbformat_minor": 5
}
