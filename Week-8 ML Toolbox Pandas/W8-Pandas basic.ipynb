{
 "cells": [
  {
   "cell_type": "markdown",
   "id": "b6e7c01f-c762-4f6e-a3fd-7b2c24a8310b",
   "metadata": {},
   "source": [
    "#### Q1. Create a Pandas Series that contains the following data: 4, 8, 15, 16, 23, and 42. Then, print the series."
   ]
  },
  {
   "cell_type": "code",
   "execution_count": 1,
   "id": "92c92e74-eae9-4e96-ac51-579a5e098bbe",
   "metadata": {},
   "outputs": [
    {
     "name": "stdout",
     "output_type": "stream",
     "text": [
      "0     4\n",
      "1     8\n",
      "2    15\n",
      "3    16\n",
      "4    23\n",
      "5    42\n",
      "dtype: int64\n"
     ]
    }
   ],
   "source": [
    "import pandas as pd\n",
    "data = [4, 8, 15, 16, 23, 42]\n",
    "df = pd.Series(data)\n",
    "print(df)\n"
   ]
  },
  {
   "cell_type": "markdown",
   "id": "c42fd2d2-4e73-4df9-bce2-d2db64556437",
   "metadata": {},
   "source": [
    "#### Q2. Create a variable of list type containing 10 elements in it, and apply pandas.Series function on the variable print it."
   ]
  },
  {
   "cell_type": "code",
   "execution_count": 2,
   "id": "d5607979-b095-4b1e-87ce-6a77efabeb85",
   "metadata": {},
   "outputs": [
    {
     "name": "stdout",
     "output_type": "stream",
     "text": [
      "0     1\n",
      "1     2\n",
      "2     3\n",
      "3     4\n",
      "4     5\n",
      "5     6\n",
      "6     7\n",
      "7     8\n",
      "8     9\n",
      "9    10\n",
      "dtype: int64\n"
     ]
    }
   ],
   "source": [
    "data2 = [1,2,3,4,5,6,7,8,9,10]\n",
    "df2 = pd.Series(data2)\n",
    "print(df2)"
   ]
  },
  {
   "cell_type": "markdown",
   "id": "02b52ddd-7454-4fff-ad7c-8ddc05e42341",
   "metadata": {},
   "source": [
    "#### Q3. Create a Pandas DataFrame that contains the following data:"
   ]
  },
  {
   "cell_type": "markdown",
   "id": "697cc2bc-53ee-46fe-af4b-e8472e4ccdea",
   "metadata": {},
   "source": [
    "| Name   | Age | Gender |\n",
    "|--------|-----|--------|\n",
    "| Alice  |  25 | Female |\n",
    "| Bob    |  30 | Male   |\n",
    "| Claire |  27 | Female |\n"
   ]
  },
  {
   "cell_type": "markdown",
   "id": "8bd930f9-443b-4e19-b4d9-14a2801d0992",
   "metadata": {},
   "source": [
    "Then, print the DataFrame."
   ]
  },
  {
   "cell_type": "code",
   "execution_count": 4,
   "id": "a615b26f-c98a-43d3-b8f7-a950775e09e5",
   "metadata": {},
   "outputs": [
    {
     "name": "stdout",
     "output_type": "stream",
     "text": [
      "     Name  Age  Gender\n",
      "0   Alice   25  Female\n",
      "1     Bob   30    Male\n",
      "2  Claire   27  Female\n"
     ]
    }
   ],
   "source": [
    "import pandas as pd\n",
    "\n",
    "# Creating a DataFrame with the given data\n",
    "data3 = {\n",
    "    'Name': ['Alice', 'Bob', 'Claire'],\n",
    "    'Age': [25, 30, 27],\n",
    "    'Gender': ['Female', 'Male', 'Female']\n",
    "}\n",
    "\n",
    "df3 = pd.DataFrame(data3)\n",
    "\n",
    "# Displaying the DataFrame\n",
    "print(df3)\n"
   ]
  },
  {
   "cell_type": "markdown",
   "id": "96cef57b-e415-4798-ae97-143682656b06",
   "metadata": {},
   "source": [
    "#### Q4. What is ‘DataFrame’ in pandas and how is it different from pandas.series? Explain with an example."
   ]
  },
  {
   "cell_type": "markdown",
   "id": "3ddffb7d-a2cd-4f4a-ac53-5f2e1cc35b78",
   "metadata": {},
   "source": [
    "A DataFrame in Pandas is a two-dimensional, size-mutable, and heterogeneous tabular data structure with labeled axes (rows and columns). It is essentially a collection of Series objects that share the same index. A DataFrame is akin to a spreadsheet or SQL table, or a dictionary of Series objects.\n",
    "\n",
    "Pandas Series, on the other hand, is a one-dimensional, size-immutable, and homogeneous array-like structure with labeled data. It is similar to a column in a DataFrame but with only one row axis label.\n",
    "\n",
    "Example:\n",
    "Creating a Series:"
   ]
  },
  {
   "cell_type": "code",
   "execution_count": 5,
   "id": "4d63c5a6-4466-4585-8515-f863dd24e36c",
   "metadata": {},
   "outputs": [
    {
     "name": "stdout",
     "output_type": "stream",
     "text": [
      "a    10\n",
      "b    20\n",
      "c    30\n",
      "d    40\n",
      "dtype: int64\n"
     ]
    }
   ],
   "source": [
    "import pandas as pd\n",
    "\n",
    "# Creating a Series\n",
    "data_series = pd.Series([10, 20, 30, 40], index=['a', 'b', 'c', 'd'])\n",
    "print(data_series)\n"
   ]
  },
  {
   "cell_type": "markdown",
   "id": "c5b9d5f4-791b-4d97-a480-7fd299fcc7bb",
   "metadata": {},
   "source": [
    "Creating a DataFrame:"
   ]
  },
  {
   "cell_type": "code",
   "execution_count": 6,
   "id": "9b02e187-5a82-406c-ba23-9a634d977038",
   "metadata": {},
   "outputs": [
    {
     "name": "stdout",
     "output_type": "stream",
     "text": [
      "   A   B  C\n",
      "a  1  10  X\n",
      "b  2  20  Y\n",
      "c  3  30  Z\n",
      "d  4  40  W\n"
     ]
    }
   ],
   "source": [
    "import pandas as pd\n",
    "\n",
    "# Creating a DataFrame\n",
    "data_frame = pd.DataFrame({\n",
    "    'A': [1, 2, 3, 4],\n",
    "    'B': [10, 20, 30, 40],\n",
    "    'C': ['X', 'Y', 'Z', 'W']\n",
    "}, index=['a', 'b', 'c', 'd'])\n",
    "print(data_frame)\n"
   ]
  },
  {
   "cell_type": "markdown",
   "id": "fa94c024-7876-4e7d-b4a3-b9d5bcd52fba",
   "metadata": {},
   "source": [
    "#### Q5. What are some common functions you can use to manipulate data in a Pandas DataFrame? Can you give an example of when you might use one of these functions?"
   ]
  },
  {
   "cell_type": "markdown",
   "id": "c3db0250-1ac0-47bd-bc91-af2a02fde98d",
   "metadata": {},
   "source": [
    "Pandas offers a wide array of functions to manipulate data in DataFrames. Some common ones include:\n",
    "\n",
    "1. head():\n",
    "\n",
    "Usage: View the first few rows of the DataFrame.\n",
    "Example: df.head(5) shows the first 5 rows.\n",
    "\n",
    "2. tail():\n",
    "\n",
    "Usage: View the last few rows of the DataFrame.\n",
    "Example: df.tail(5) shows the first 5 rows.\n",
    "\n",
    "3. Reading Files (read_filetype)\n",
    "Pandas can read data from various file formats using specific functions. Here are some common ones:\n",
    "\n",
    "pd.read_csv(): Read a comma-separated values (CSV) file into a DataFrame.\n",
    "\n",
    "Example: df = pd.read_csv('file.csv')\n",
    "pd.read_excel(): Read an Excel file into a DataFrame.\n",
    "\n",
    "Example: df = pd.read_excel('file.xlsx', sheet_name='Sheet1')\n",
    "pd.read_json(): Read a JSON file into a DataFrame.\n",
    "\n",
    "Example: df = pd.read_json('file.json')\n",
    "pd.read_html(): Read HTML tables into a list of DataFrame objects.\n",
    "\n",
    "Example: dfs = pd.read_html('http://example.com/table.html')\n",
    "\n",
    "4. Writing to Files (to_filetype)\n",
    "Pandas can write DataFrames to various file formats using specific functions:\n",
    "\n",
    "df.to_csv(): Write DataFrame to a CSV file.\n",
    "\n",
    "Example: df.to_csv('file.csv', index=False)\n",
    "df.to_excel(): Write DataFrame to an Excel file.\n",
    "\n",
    "Example: df.to_excel('file.xlsx', index=False)\n",
    "df.to_json(): Write DataFrame to a JSON file.\n",
    "\n",
    "Example: df.to_json('file.json')\n",
    "df.to_html(): Write DataFrame to an HTML file.\n",
    "\n",
    "Example: df.to_html('file.html')\n",
    "df.to_sql(): Write DataFrame to a SQL database.\n",
    "\n",
    "Example: df.to_sql('table_name', connection, index=False)\n",
    "\n",
    "5. Accessing Columns (columns)\n",
    "You can access and manipulate the columns of a DataFrame in various ways:\n",
    "\n",
    "Access column names:\n",
    "\n",
    "Example: column_names = df.columns"
   ]
  },
  {
   "cell_type": "code",
   "execution_count": 7,
   "id": "eb23b152-96fa-4b9f-8a5e-9bd1b3ff5f81",
   "metadata": {},
   "outputs": [
    {
     "data": {
      "text/html": [
       "<div>\n",
       "<style scoped>\n",
       "    .dataframe tbody tr th:only-of-type {\n",
       "        vertical-align: middle;\n",
       "    }\n",
       "\n",
       "    .dataframe tbody tr th {\n",
       "        vertical-align: top;\n",
       "    }\n",
       "\n",
       "    .dataframe thead th {\n",
       "        text-align: right;\n",
       "    }\n",
       "</style>\n",
       "<table border=\"1\" class=\"dataframe\">\n",
       "  <thead>\n",
       "    <tr style=\"text-align: right;\">\n",
       "      <th></th>\n",
       "      <th>Region</th>\n",
       "      <th>Sales</th>\n",
       "    </tr>\n",
       "  </thead>\n",
       "  <tbody>\n",
       "    <tr>\n",
       "      <th>0</th>\n",
       "      <td>North</td>\n",
       "      <td>100</td>\n",
       "    </tr>\n",
       "    <tr>\n",
       "      <th>1</th>\n",
       "      <td>South</td>\n",
       "      <td>150</td>\n",
       "    </tr>\n",
       "    <tr>\n",
       "      <th>2</th>\n",
       "      <td>East</td>\n",
       "      <td>200</td>\n",
       "    </tr>\n",
       "    <tr>\n",
       "      <th>3</th>\n",
       "      <td>West</td>\n",
       "      <td>250</td>\n",
       "    </tr>\n",
       "  </tbody>\n",
       "</table>\n",
       "</div>"
      ],
      "text/plain": [
       "  Region  Sales\n",
       "0  North    100\n",
       "1  South    150\n",
       "2   East    200\n",
       "3   West    250"
      ]
     },
     "execution_count": 7,
     "metadata": {},
     "output_type": "execute_result"
    }
   ],
   "source": [
    "\n",
    "data = {\n",
    "    'Region': ['North', 'South', 'East', 'West', 'North', 'South', 'East', 'West'],\n",
    "    'Sales': [100, 150, 200, 250, 110, 160, 210, 260]\n",
    "}\n",
    "\n",
    "df = pd.DataFrame(data)\n",
    "df.head(4)\n"
   ]
  },
  {
   "cell_type": "markdown",
   "id": "ce07cd46-4d86-4d96-ab8e-daa796760da0",
   "metadata": {},
   "source": [
    "#### Q6. Which of the following is mutable in nature Series, DataFrame, Panel?"
   ]
  },
  {
   "cell_type": "markdown",
   "id": "037b3ed7-f673-4eb5-b4fe-84acc1584df1",
   "metadata": {},
   "source": [
    "Series: Mutable  \n",
    "DataFrame: Mutable  \n",
    "Panel: Mutable (Note: The Panel data structure has been deprecated since Pandas version 0.25.0 and is no longer recommended for use. For 3D data, it is recommended to use MultiIndex DataFrame or xarray library.)"
   ]
  },
  {
   "cell_type": "markdown",
   "id": "8f7e2116-89c8-4550-b619-9c8816bff16b",
   "metadata": {},
   "source": [
    "#### Q7. Create a DataFrame using multiple Series. Explain with an example."
   ]
  },
  {
   "cell_type": "code",
   "execution_count": 8,
   "id": "4491f266-b53b-430f-b415-3d227999b8ca",
   "metadata": {},
   "outputs": [
    {
     "name": "stdout",
     "output_type": "stream",
     "text": [
      "     Name  Age  Gender\n",
      "0   Alice   25  Female\n",
      "1     Bob   30    Male\n",
      "2  Claire   27  Female\n"
     ]
    }
   ],
   "source": [
    "name_series = pd.Series(['Alice', 'Bob', 'Claire'])\n",
    "age_series = pd.Series([25, 30, 27])\n",
    "gender_series = pd.Series(['Female', 'Male', 'Female'])\n",
    "\n",
    "data = {\n",
    "    'Name': name_series,\n",
    "    'Age': age_series,\n",
    "    'Gender': gender_series\n",
    "}\n",
    "\n",
    "df = pd.DataFrame(data)\n",
    "\n",
    "print(df)\n"
   ]
  },
  {
   "cell_type": "code",
   "execution_count": null,
   "id": "b74e7e2f-dc4d-48db-b282-2944d42c530a",
   "metadata": {},
   "outputs": [],
   "source": []
  }
 ],
 "metadata": {
  "kernelspec": {
   "display_name": "Python 3 (ipykernel)",
   "language": "python",
   "name": "python3"
  },
  "language_info": {
   "codemirror_mode": {
    "name": "ipython",
    "version": 3
   },
   "file_extension": ".py",
   "mimetype": "text/x-python",
   "name": "python",
   "nbconvert_exporter": "python",
   "pygments_lexer": "ipython3",
   "version": "3.10.8"
  }
 },
 "nbformat": 4,
 "nbformat_minor": 5
}
