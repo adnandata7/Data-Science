{
 "cells": [
  {
   "cell_type": "markdown",
   "id": "36b69153-e55b-4747-8f17-82512bf86f87",
   "metadata": {},
   "source": [
    "**Q1. How do you comment code in Python? What are the different types of comments?**"
   ]
  },
  {
   "cell_type": "markdown",
   "id": "d5705990-16b4-4e28-8ec2-c232183d746d",
   "metadata": {},
   "source": [
    "Comments in python are identified with a hash symbol '#',python interpreter will read it as a comment. If we have to comment a line then we have to use # before commneting.  \n",
    "For ex-  \n",
    "#This is a comment.  \n",
    "print(\"Hello world!\")            \n",
    "After executing Hello world! will print only.  \n",
    "There are three types of comments in python  \n",
    "1.Single-line comment  \n",
    "2.Multi-line comment  \n",
    "3.Docstring comment  "
   ]
  },
  {
   "cell_type": "markdown",
   "id": "165bd7bb-ec7b-4906-855c-f8f6533240b6",
   "metadata": {},
   "source": [
    "**Q2. What are variables in Python? How do you declare and assign values to variables?**"
   ]
  },
  {
   "cell_type": "markdown",
   "id": "f871aeeb-85e2-44c5-99bb-ca0a297cbaaf",
   "metadata": {},
   "source": [
    "A variable is a named memory location that stores data. In Python, variables do not need to be declared before they are used.  \n",
    "To create a variable, you simply assign a value to it. The assignment operator is the equal sign (=).  \n",
    "For example, the following code creates a variable named x and assigns it the value 5:  \n",
    "x = 5  "
   ]
  },
  {
   "cell_type": "markdown",
   "id": "461661e5-7266-40dd-92b0-079b65dacf2e",
   "metadata": {},
   "source": [
    "**Q3. How do you convert one data type to another in Python?**"
   ]
  },
  {
   "cell_type": "markdown",
   "id": "746bddac-3c9d-4484-a0df-b69781c58116",
   "metadata": {},
   "source": [
    "There are two ways to convert one data type to another in Python:  \n",
    "1.Implicit type conversion:  \n",
    "Implicit type conversion is when Python automatically converts a data type to another. This can happen when you assign a value of one data type to a variable of a different data type. For example, if you assign the integer 10 to a variable of type float, Python will automatically convert the integer to a float.  \n",
    "2.Explicit type conversion:  \n",
    "Explicit type conversion is when you use a function to convert a data type to another. Python provides a number of built-in functions for type conversion, such as int(), float(), and str(). For example, if you want to convert the string \"10\" to an integer, you can use the int() function."
   ]
  },
  {
   "cell_type": "markdown",
   "id": "b5b18ad9-6055-4818-92ab-08df160f1daf",
   "metadata": {},
   "source": [
    "**Q4. How do you write and execute a Python script from the command line?**"
   ]
  },
  {
   "cell_type": "markdown",
   "id": "927b0d40-d125-477f-99b3-402dc5b65d40",
   "metadata": {},
   "source": [
    "To write a Python script, you can use any text editor. Once you have written your script, you can save it with a .py extension. To execute the script, you can use the following steps:  \n",
    "1.Open a command prompt or terminal window.  \n",
    "2.Navigate to the directory where your script is located.  \n",
    "3.Type the following command:  \n",
    "python script_name.py   \n",
    "Replace script_name with the name of your script file.  \n",
    "This will execute the script and print the output to the console."
   ]
  },
  {
   "cell_type": "markdown",
   "id": "56024283-48c3-4150-b5fc-db44a0ef7c83",
   "metadata": {},
   "source": [
    "**Q5. Given a list my_list = [1, 2, 3, 4, 5], write the code to slice the list and obtain the sub-list [2, 3].**"
   ]
  },
  {
   "cell_type": "code",
   "execution_count": 5,
   "id": "2bb0fe5e-9c32-416d-8353-22e030a31fa4",
   "metadata": {},
   "outputs": [
    {
     "data": {
      "text/plain": [
       "[2, 3]"
      ]
     },
     "execution_count": 5,
     "metadata": {},
     "output_type": "execute_result"
    }
   ],
   "source": [
    "my_list=[1,2,3,4,5]\n",
    "my_list[1:3]"
   ]
  },
  {
   "cell_type": "markdown",
   "id": "e03ac10d-c482-48f6-83a1-ff8c44319e20",
   "metadata": {},
   "source": [
    "**Q6. What is a complex number in mathematics, and how is it represented in Python?**"
   ]
  },
  {
   "cell_type": "markdown",
   "id": "b7fe1ff4-bbf1-4946-8187-a6416d0156f2",
   "metadata": {},
   "source": [
    "A complex number is a number of the form \\(a+bi\\), where \\(a\\) and \\(b\\) are real numbers and \\(i\\) is the imaginary unit, which is defined as \\(√-1\\).  \n",
    "Complex numbers can be represented in Python in two ways:  \n",
    "1.By using the complex() function. For example, the complex number \\(2+3i\\) can be represented in Python as complex(2, 3).  \n",
    "2.By declaring a+bj to any variable where a,b are real numbers."
   ]
  },
  {
   "cell_type": "markdown",
   "id": "f34b3893-2548-4bb1-9c60-d5d98bf57c7e",
   "metadata": {},
   "source": [
    "**Q7. What is the correct way to declare a variable named age and assign the value 25 to it?**"
   ]
  },
  {
   "cell_type": "code",
   "execution_count": 6,
   "id": "2bb38586-239b-4b62-b705-7b0aeecc9883",
   "metadata": {},
   "outputs": [],
   "source": [
    "age=25"
   ]
  },
  {
   "cell_type": "markdown",
   "id": "1b074e96-2e6d-4fef-a5da-144ca4bd981e",
   "metadata": {},
   "source": [
    "**Q8. Declare a variable named price and assign the value 9.99 to it. What data type does this variable\n",
    "belong to?**"
   ]
  },
  {
   "cell_type": "code",
   "execution_count": 7,
   "id": "05ac69fa-53cd-4b85-ad88-52aed3a6bf66",
   "metadata": {},
   "outputs": [
    {
     "data": {
      "text/plain": [
       "float"
      ]
     },
     "execution_count": 7,
     "metadata": {},
     "output_type": "execute_result"
    }
   ],
   "source": [
    "price=9.99\n",
    "type(price)"
   ]
  },
  {
   "cell_type": "markdown",
   "id": "ef2c8ff6-dd95-4b36-8834-77805956d80d",
   "metadata": {},
   "source": [
    "**Q9. Create a variable named name and assign your full name to it as a string. How would you print the\n",
    "value of this variable?**"
   ]
  },
  {
   "cell_type": "code",
   "execution_count": 9,
   "id": "fcc9e53d-3b34-4b9f-8e02-f8449bc2c08c",
   "metadata": {},
   "outputs": [
    {
     "name": "stdout",
     "output_type": "stream",
     "text": [
      "David Warner\n"
     ]
    }
   ],
   "source": [
    "name='David Warner'\n",
    "#to print the value we simply use the print function\n",
    "print(name)"
   ]
  },
  {
   "cell_type": "markdown",
   "id": "b76dd8fa-183f-4381-8ddd-af84dd3e834c",
   "metadata": {},
   "source": [
    "**Q10. Given the string \"Hello, World!\", extract the substring \"World\".**"
   ]
  },
  {
   "cell_type": "code",
   "execution_count": 11,
   "id": "b53436fe-5cd6-4f7f-8ffc-e42278fc8ca4",
   "metadata": {},
   "outputs": [
    {
     "name": "stdout",
     "output_type": "stream",
     "text": [
      "World\n"
     ]
    }
   ],
   "source": [
    "string = \"Hello, World!\"\n",
    "print(string[7:12])"
   ]
  },
  {
   "cell_type": "markdown",
   "id": "35e86757-3799-4072-a393-0239df517ec6",
   "metadata": {},
   "source": [
    "**Q11. Create a variable named \"is_student\" and assign it a boolean value indicating whether you are\n",
    "currently a student or not.**"
   ]
  },
  {
   "cell_type": "code",
   "execution_count": 13,
   "id": "f5605e03-0efb-41cc-b05a-5a73a2f6ea97",
   "metadata": {},
   "outputs": [],
   "source": [
    "is_student=True #yes I am a Student"
   ]
  }
 ],
 "metadata": {
  "kernelspec": {
   "display_name": "Python 3 (ipykernel)",
   "language": "python",
   "name": "python3"
  },
  "language_info": {
   "codemirror_mode": {
    "name": "ipython",
    "version": 3
   },
   "file_extension": ".py",
   "mimetype": "text/x-python",
   "name": "python",
   "nbconvert_exporter": "python",
   "pygments_lexer": "ipython3",
   "version": "3.10.8"
  }
 },
 "nbformat": 4,
 "nbformat_minor": 5
}
