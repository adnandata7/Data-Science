{
 "cells": [
  {
   "cell_type": "markdown",
   "id": "0983a0a1-e4a0-4986-b992-d1e872abe970",
   "metadata": {},
   "source": [
    "#### Q1. Which keyword is used to create a function? Create a function to return a list of odd numbers in the range of 1 to 25."
   ]
  },
  {
   "cell_type": "markdown",
   "id": "f30fae2d-5daa-43ed-83fd-a46ccf153177",
   "metadata": {},
   "source": [
    "def keyword is used to create a function.  \n",
    "For ex- def add():  "
   ]
  },
  {
   "cell_type": "code",
   "execution_count": 2,
   "id": "a743e3b3-6258-43d4-9e00-2c4f63ab721f",
   "metadata": {},
   "outputs": [
    {
     "name": "stdout",
     "output_type": "stream",
     "text": [
      "[1, 3, 5, 7, 9, 11, 13, 15, 17, 19, 21, 23, 25]\n"
     ]
    }
   ],
   "source": [
    "def odd_numbers(start, end):\n",
    "    odd_list = []\n",
    "    for num in range(start, end + 1):\n",
    "        if num % 2 != 0:\n",
    "            odd_list.append(num)\n",
    "    return odd_list\n",
    "\n",
    "# Test the function with range 1 to 25\n",
    "result = odd_numbers(1, 25)\n",
    "print(result)"
   ]
  },
  {
   "cell_type": "markdown",
   "id": "ebb009ff-4866-4304-9c36-26109e67c252",
   "metadata": {},
   "source": [
    "#### Q2. Why *args and **kwargs is used in some functions? Create a function each for *args and **kwargs to demonstrate their use."
   ]
  },
  {
   "cell_type": "markdown",
   "id": "858f813f-a394-45c5-bfbf-e32926b8d9de",
   "metadata": {},
   "source": [
    "*args and **kwargs are used in Python functions to handle variable-length arguments.\n",
    "\n",
    "*args is used to pass a variable number of positional arguments to a function. It allows you to call a function with any number of arguments.  \n",
    "**kwargs is used to pass a variable number of keyword arguments (or named arguments) to a function. It allows you to handle named arguments that were not defined in advance.  \n",
    "Here's an example demonstrating their use:"
   ]
  },
  {
   "cell_type": "code",
   "execution_count": 3,
   "id": "efaf5b87-2a9c-4ca2-93d9-5b6df76fa712",
   "metadata": {},
   "outputs": [
    {
     "name": "stdout",
     "output_type": "stream",
     "text": [
      "Sum: 15\n",
      "name: Alice\n",
      "age: 30\n",
      "city: New York\n"
     ]
    }
   ],
   "source": [
    "# Function using *args\n",
    "def sum_all(*args):\n",
    "    total = 0\n",
    "    for num in args:\n",
    "        total += num\n",
    "    return total\n",
    "\n",
    "# Function using **kwargs\n",
    "def greet(**kwargs):\n",
    "    for key, value in kwargs.items():\n",
    "        print(f\"{key}: {value}\")\n",
    "\n",
    "# Test *args function\n",
    "result1 = sum_all(1, 2, 3, 4, 5)\n",
    "print(\"Sum:\", result1)\n",
    "\n",
    "# Test **kwargs function\n",
    "greet(name=\"Alice\", age=30, city=\"New York\")\n"
   ]
  },
  {
   "cell_type": "markdown",
   "id": "b0ce7d2d-5f21-4f2d-997f-14cd5a09cecd",
   "metadata": {},
   "source": [
    "In the sum_all function, *args allows you to pass any number of positional arguments, and it computes their sum.  \n",
    "In the greet function, **kwargs allows you to pass any number of keyword arguments. Inside the function, it's treated as a dictionary where the keys are the argument names and the values are the corresponding argument values."
   ]
  },
  {
   "cell_type": "markdown",
   "id": "8e98c4ad-0a4c-4c01-874d-2dae182a5b88",
   "metadata": {},
   "source": [
    "#### Q3. What is an iterator in python? Name the method used to initialise the iterator object and the method used for iteration. Use these methods to print the first five elements of the given list [2, 4, 6, 8, 10, 12, 14, 16, 18, 20]."
   ]
  },
  {
   "cell_type": "markdown",
   "id": "d9b5af05-5651-408a-9cab-e681d13126e9",
   "metadata": {},
   "source": [
    "Iterator is an object that allows you to iterate over collections of data, such as lists, tuples, dictionaries, and sets. Python iterators implement the iterator design pattern, which allows you to traverse a container and access its elements.\n",
    "\n",
    "In Python, the method used to initialize the iterator object is __iter__(), and the method used for iteration is __next__().  \n",
    "These methods are part of the iterator protocol, where __iter__() returns the iterator object itself, and __next__() returns the next item in the iteration sequence."
   ]
  },
  {
   "cell_type": "code",
   "execution_count": 3,
   "id": "44f39c28-73e6-4d55-99c2-0af9e3a4d953",
   "metadata": {},
   "outputs": [
    {
     "name": "stdout",
     "output_type": "stream",
     "text": [
      "2\n",
      "4\n",
      "6\n",
      "8\n",
      "10\n"
     ]
    }
   ],
   "source": [
    "# Define the list\n",
    "my_list = [2, 4, 6, 8, 10, 12, 14, 16, 18, 20]\n",
    "\n",
    "# Initialize the iterator object\n",
    "iterator = iter(my_list)\n",
    "\n",
    "# Iterate over the first five elements using next() method\n",
    "for _ in range(5):\n",
    "    print(next(iterator))\n"
   ]
  },
  {
   "cell_type": "markdown",
   "id": "99a152c6-98ad-45a2-8eec-a289b2df2df7",
   "metadata": {},
   "source": [
    "It initializes an iterator object from the list my_list using the iter() function, then iterates over the first five elements using a for loop combined with the next() function to retrieve each element."
   ]
  },
  {
   "cell_type": "markdown",
   "id": "1fe03097-6327-455c-b310-14deabda78e0",
   "metadata": {},
   "source": [
    "#### Q4. What is a generator function in python? Why yield keyword is used? Give an example of a generator function."
   ]
  },
  {
   "cell_type": "markdown",
   "id": "d22336ae-d504-42cc-9eb6-d1ec107de4e2",
   "metadata": {},
   "source": [
    "In Python, a generator function is a special type of function that allows you to generate a sequence of values lazily, one at a time, using the yield keyword. Unlike regular functions that return a single value using return, generator functions can yield multiple values one by one, and they maintain their state between calls. This makes them memory efficient for generating large sequences of values as they generate values on-the-fly rather than storing them all in memory at once.\n",
    "\n",
    "The yield keyword is used within a generator function to yield a value to the caller while maintaining the function's state. When a generator function encounters a yield statement, it temporarily suspends its execution and returns the yielded value to the caller. The next time the generator function is called, it resumes execution from where it left off, retaining its internal state.\n",
    "\n",
    "Here's an example of a generator function that generates a sequence of squares:"
   ]
  },
  {
   "cell_type": "code",
   "execution_count": 2,
   "id": "5daf39c3-e9bc-410d-bd68-6f04a98e56fc",
   "metadata": {},
   "outputs": [
    {
     "name": "stdout",
     "output_type": "stream",
     "text": [
      "0\n",
      "1\n",
      "4\n",
      "9\n",
      "16\n"
     ]
    }
   ],
   "source": [
    "def square_generator(n):\n",
    "    for i in range(n):\n",
    "        yield i**2\n",
    "for j in square_generator(5):\n",
    "    print(j)"
   ]
  },
  {
   "cell_type": "markdown",
   "id": "705c9b70-61b7-4032-837c-ec80354f31e8",
   "metadata": {},
   "source": [
    "#### Q5. Create a generator function for prime numbers less than 1000. Use the next() method to print the first 20 prime numbers."
   ]
  },
  {
   "cell_type": "code",
   "execution_count": 10,
   "id": "adde74a4-046e-4993-a436-cde6ca3120fa",
   "metadata": {},
   "outputs": [
    {
     "name": "stdout",
     "output_type": "stream",
     "text": [
      "2\n",
      "3\n",
      "5\n",
      "7\n",
      "11\n",
      "13\n",
      "17\n",
      "19\n",
      "23\n",
      "29\n",
      "31\n",
      "37\n",
      "41\n",
      "43\n",
      "47\n",
      "53\n",
      "59\n",
      "61\n",
      "67\n",
      "71\n"
     ]
    }
   ],
   "source": [
    "def is_prime(n):\n",
    "    if n<=1:\n",
    "        return False\n",
    "    if n==2:\n",
    "        return True\n",
    "    if n%2==0:\n",
    "        return False\n",
    "    for i in range(3,int(n**0.5)+1,2):\n",
    "        if n%i==0:\n",
    "            return False\n",
    "    return True\n",
    "def prime_generator():\n",
    "    num=2\n",
    "    while num<1000:\n",
    "        if is_prime(num):\n",
    "            yield num\n",
    "        num+=1\n",
    "prime_gen=prime_generator()\n",
    "for _ in range(20):\n",
    "    print(next(prime_gen))"
   ]
  },
  {
   "cell_type": "markdown",
   "id": "056a9724-9c73-412d-9447-eee7a55e3204",
   "metadata": {},
   "source": [
    "####  Q6. Write a python program to print the first 10 Fibonacci numbers using a while loop."
   ]
  },
  {
   "cell_type": "code",
   "execution_count": 23,
   "id": "abda289e-70a3-4110-bdee-124b90ad856c",
   "metadata": {},
   "outputs": [
    {
     "name": "stdout",
     "output_type": "stream",
     "text": [
      "0\n",
      "1\n",
      "1\n",
      "2\n",
      "3\n",
      "5\n",
      "8\n",
      "13\n",
      "21\n",
      "34\n"
     ]
    }
   ],
   "source": [
    "a, b = 0, 1\n",
    "count = 0\n",
    "while count < 10:\n",
    "    print(a)\n",
    "    a, b = b, a + b\n",
    "    count += 1"
   ]
  },
  {
   "cell_type": "markdown",
   "id": "b6c3c080-ca4b-4c8b-b6be-8031043bc1f0",
   "metadata": {},
   "source": [
    "#### Q7. Write a List Comprehension to iterate through the given string: ‘pwskills’.   \n",
    "Expected output: ['p', 'w', 's', 'k', 'i', 'l', 'l', 's'] "
   ]
  },
  {
   "cell_type": "code",
   "execution_count": 41,
   "id": "2071ffc3-8cda-4e1e-8659-96edb0ccf969",
   "metadata": {},
   "outputs": [
    {
     "name": "stdout",
     "output_type": "stream",
     "text": [
      "['p', 'w', 's', 'k', 'i', 'l', 'l', 's']\n"
     ]
    }
   ],
   "source": [
    "l7='pwskills'\n",
    "List = [i for i in l7] \n",
    "print(List)\n"
   ]
  },
  {
   "cell_type": "markdown",
   "id": "511d5f7f-9178-4493-9362-14f6f2ca74e5",
   "metadata": {},
   "source": [
    "#### Q8. Write a python program to check whether a given number is Palindrome or not using a while loop."
   ]
  },
  {
   "cell_type": "code",
   "execution_count": 48,
   "id": "30ef740e-d053-47de-98a6-0c993937a9da",
   "metadata": {},
   "outputs": [
    {
     "name": "stdout",
     "output_type": "stream",
     "text": [
      "Number is Palindrome\n"
     ]
    }
   ],
   "source": [
    "n=12321\n",
    "s=0\n",
    "t=n\n",
    "while t>0:\n",
    "    d=t%10\n",
    "    s=(s*10)+d\n",
    "    t=t//10\n",
    "if s==n:\n",
    "    print('Number is Palindrome')\n",
    "else:\n",
    "    print('Number is not Palindrome')"
   ]
  },
  {
   "cell_type": "markdown",
   "id": "afe359f5-c72d-4c4d-830b-628aee31a19a",
   "metadata": {},
   "source": [
    "#### Q9. Write a code to print odd numbers from 1 to 100 using list comprehension.\n",
    "Note: Use a list comprehension to create a list from 1 to 100 and use another List comprehension to filter\n",
    "out odd numbers"
   ]
  },
  {
   "cell_type": "code",
   "execution_count": 52,
   "id": "fbe20c4f-6618-4105-af94-1e560409f02d",
   "metadata": {},
   "outputs": [
    {
     "name": "stdout",
     "output_type": "stream",
     "text": [
      "[1, 3, 5, 7, 9, 11, 13, 15, 17, 19, 21, 23, 25, 27, 29, 31, 33, 35, 37, 39, 41, 43, 45, 47, 49, 51, 53, 55, 57, 59, 61, 63, 65, 67, 69, 71, 73, 75, 77, 79, 81, 83, 85, 87, 89, 91, 93, 95, 97, 99]\n"
     ]
    }
   ],
   "source": [
    "numbers=[num for num in range(1,101)]\n",
    "result=[x for x in numbers if x%2!=0]\n",
    "print(result)"
   ]
  }
 ],
 "metadata": {
  "kernelspec": {
   "display_name": "Python 3 (ipykernel)",
   "language": "python",
   "name": "python3"
  },
  "language_info": {
   "codemirror_mode": {
    "name": "ipython",
    "version": 3
   },
   "file_extension": ".py",
   "mimetype": "text/x-python",
   "name": "python",
   "nbconvert_exporter": "python",
   "pygments_lexer": "ipython3",
   "version": "3.10.8"
  }
 },
 "nbformat": 4,
 "nbformat_minor": 5
}
