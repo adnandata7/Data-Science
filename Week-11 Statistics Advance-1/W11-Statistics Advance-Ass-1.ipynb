{
 "cells": [
  {
   "cell_type": "markdown",
   "id": "b5b5e1b0-f76c-4919-bed0-9a1cf6e21250",
   "metadata": {},
   "source": [
    "#### Q1. What is the Probability Density Function (PDF)?\n",
    "\n",
    "The Probability Density Function (PDF) is a function that describes the likelihood of a continuous random variable to take on a particular value. The PDF provides the relative likelihood of the variable falling within a particular range of values, rather than taking on an exact value. The area under the PDF curve over an interval represents the probability that the random variable falls within that interval.\n",
    "\n",
    "#### Q2. What are the Types of Probability Distributions?\n",
    "\n",
    "Probability distributions can be broadly categorized into two types:\n",
    "\n",
    "Discrete Probability Distributions: These describe the probability of discrete outcomes.  \n",
    "Examples include:  \n",
    "Binomial Distribution  \n",
    "Poisson Distribution  \n",
    "Geometric Distribution  \n",
    "Continuous Probability Distributions: These describe the probability of continuous outcomes.  \n",
    "Examples include:  \n",
    "Normal Distribution  \n",
    "Exponential Distribution  \n",
    "Uniform Distribution  \n",
    "\n",
    "#### Q3. Write a Python function to calculate the probability density function of a normal distribution with given mean and standard deviation at a given point."
   ]
  },
  {
   "cell_type": "code",
   "execution_count": 1,
   "id": "fb722585-7e50-45a4-8baf-eabeeb8d0678",
   "metadata": {},
   "outputs": [
    {
     "name": "stdout",
     "output_type": "stream",
     "text": [
      "0.24197072451914337\n"
     ]
    }
   ],
   "source": [
    "import scipy.stats as stats\n",
    "\n",
    "def normal_pdf(x, mean, std_dev):\n",
    "    return stats.norm.pdf(x, loc=mean, scale=std_dev)\n",
    "\n",
    "# Example usage:\n",
    "x = 1.0\n",
    "mean = 0.0\n",
    "std_dev = 1.0\n",
    "print(normal_pdf(x, mean, std_dev))\n"
   ]
  },
  {
   "cell_type": "markdown",
   "id": "fa34aad5-0621-42ce-87de-22b134a96163",
   "metadata": {},
   "source": [
    "#### Q4. What are the properties of Binomial Distribution? Give two examples of events where binomial distribution can be applied.\n",
    "Properties of Binomial Distribution:\n",
    "\n",
    "Fixed Number of Trials: The number of trials 𝑛 is fixed.  \n",
    "Two Possible Outcomes: Each trial has two possible outcomes (success or failure).  \n",
    "Constant Probability: The probability of success 𝑝 is constant for each trial.  \n",
    "Independent Trials: The trials are independent of each other.  \n",
    "\n",
    "Examples:  \n",
    "Coin Tossing: Flipping a fair coin 10 times and counting the number of heads.  \n",
    "Quality Control: Testing 20 light bulbs to determine how many are defective if the probability of a bulb being defective is 0.1.\n",
    "\n",
    "#### Q5. Generate a random sample of size 1000 from a binomial distribution with probability of success 0.4 and plot a histogram of the results using matplotlib."
   ]
  },
  {
   "cell_type": "code",
   "execution_count": 8,
   "id": "5aad9f5a-cec1-478f-8956-2e7ddbc35b85",
   "metadata": {},
   "outputs": [
    {
     "data": {
      "image/png": "[encoded data removed]",
      "text/plain": [
       "<Figure size 640x480 with 1 Axes>"
      ]
     },
     "metadata": {},
     "output_type": "display_data"
    }
   ],
   "source": [
    "import numpy as np\n",
    "import matplotlib.pyplot as plt\n",
    "\n",
    "\n",
    "n = 1000\n",
    "p = 0.4 \n",
    "\n",
    "data = np.random.binomial(n=1, p=p, size=1000)\n",
    "\n",
    "# Plot histogram\n",
    "plt.hist(data)\n",
    "plt.xlabel('Number of Successes')\n",
    "plt.ylabel('Frequency')\n",
    "plt.title('Histogram of Binomial Distribution Sample')\n",
    "plt.show()\n"
   ]
  },
  {
   "cell_type": "markdown",
   "id": "2eb4c725-730d-4176-aa80-bd805d5c1b04",
   "metadata": {},
   "source": [
    "#### Q6. Write a Python function to calculate the cumulative distribution function (CDF) of a Poisson distribution with a given mean at a given point."
   ]
  },
  {
   "cell_type": "code",
   "execution_count": 10,
   "id": "b898d825-3b38-4f26-af8d-cba539e76d93",
   "metadata": {},
   "outputs": [
    {
     "name": "stdout",
     "output_type": "stream",
     "text": [
      "0.2650259152973616\n"
     ]
    }
   ],
   "source": [
    "import scipy.stats as stats\n",
    "\n",
    "def poisson_cdf(x, mean):\n",
    "    return stats.poisson.cdf(x, mu=mean)\n",
    "\n",
    "# Example usage:\n",
    "x = 3\n",
    "mean = 5\n",
    "print(poisson_cdf(x, mean))\n"
   ]
  },
  {
   "cell_type": "markdown",
   "id": "f344a56f-8c04-4742-ad11-17605fbfa57c",
   "metadata": {},
   "source": [
    "#### Q7. How is Binomial Distribution Different from Poisson Distribution?\n",
    "\n",
    "Binomial Distribution:  \n",
    "Used for a fixed number of trials.  \n",
    "Probability of success is constant in each trial.  \n",
    "Suitable for scenarios with a defined number of trials.  \n",
    "\n",
    "Poisson Distribution:  \n",
    "Used for counting the number of events in a fixed interval of time or space.  \n",
    "Suitable for scenarios where events happen independently with a known constant mean rate.  \n",
    "Does not require a fixed number of trials.  \n",
    "\n",
    "#### Q8. Generate a random sample of size 1000 from a Poisson distribution with mean 5 and calculate the sample mean and variance."
   ]
  },
  {
   "cell_type": "code",
   "execution_count": 11,
   "id": "e2ed4fa1-faa1-4202-95c1-cd98d85e4bde",
   "metadata": {},
   "outputs": [
    {
     "name": "stdout",
     "output_type": "stream",
     "text": [
      "Sample Mean: 4.985\n",
      "Sample Variance: 5.1667749999999995\n"
     ]
    }
   ],
   "source": [
    "import numpy as np\n",
    "\n",
    "# Parameters\n",
    "mean = 5\n",
    "size = 1000\n",
    "\n",
    "# Generate sample\n",
    "data = np.random.poisson(lam=mean, size=size)\n",
    "\n",
    "# Calculate sample mean and variance\n",
    "sample_mean = np.mean(data)\n",
    "sample_variance = np.var(data)\n",
    "\n",
    "print(f\"Sample Mean: {sample_mean}\")\n",
    "print(f\"Sample Variance: {sample_variance}\")\n"
   ]
  },
  {
   "cell_type": "markdown",
   "id": "85fe6fb9-64db-4bb6-853d-6e276bb94ff4",
   "metadata": {},
   "source": [
    "#### Q9. How are Mean and Variance Related in Binomial Distribution and Poisson Distribution?\n",
    "\n",
    "Binomial Distribution:\n",
    "\n",
    "Mean: μ=np\n",
    "\n",
    "Variance: \n",
    "𝜎\n",
    "2\n",
    "=\n",
    "np(1−p)\n",
    "Poisson Distribution:\n",
    "\n",
    "Mean: \n",
    "𝜆\n",
    "\n",
    "Variance: \n",
    "𝜆\n",
    "\n",
    "In both distributions, the variance in Poisson is equal to the mean, while in Binomial, the variance depends on both the probability of success and the number of trials.\n",
    "\n",
    "#### Q10. In Normal Distribution with respect to mean position, where does the least frequent data appear?\n",
    "\n",
    "In a normal distribution, the least frequent data appears at the extremes, farthest from the mean. The frequency of data decreases as you move away from the mean, with the highest frequency (or density) at the mean itself."
   ]
  },
  {
   "cell_type": "code",
   "execution_count": null,
   "id": "eef2881d-e61b-4800-bead-2af9fcbe3070",
   "metadata": {},
   "outputs": [],
   "source": []
  }
 ],
 "metadata": {
  "kernelspec": {
   "display_name": "Python 3 (ipykernel)",
   "language": "python",
   "name": "python3"
  },
  "language_info": {
   "codemirror_mode": {
    "name": "ipython",
    "version": 3
   },
   "file_extension": ".py",
   "mimetype": "text/x-python",
   "name": "python",
   "nbconvert_exporter": "python",
   "pygments_lexer": "ipython3",
   "version": "3.10.8"
  }
 },
 "nbformat": 4,
 "nbformat_minor": 5
}
