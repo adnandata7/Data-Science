{
 "cells": [
  {
   "cell_type": "markdown",
   "id": "1aafbc3e-fca9-46fe-8dac-2895763aee8d",
   "metadata": {},
   "source": [
    "**Q1. Explain the assumptions required to use ANOVA and provide examples of violations that could impact the validity of the results.**\n",
    "\n",
    "**Assumptions for ANOVA:**\n",
    "   - **Independence:** The observations within each group are independent of each other.\n",
    "   - **Normality:** The residuals (the differences between the observed values and the predicted values) are normally distributed.\n",
    "   - **Homogeneity of variances:** The variance of the residuals is constant across all levels of the independent variable(s).\n",
    "\n",
    "**Examples of violations:**\n",
    "   - **Non-normality:** If the residuals are not normally distributed, it can affect the reliability of the p-values and confidence intervals.\n",
    "   - **Heterogeneity of variances:** Unequal variances across groups can lead to inflated Type I error rates, meaning you might detect differences that aren't truly present or fail to detect real differences.\n",
    "\n",
    "---\n",
    "**Q2. What are the three types of ANOVA, and in what situations would each be used?**\n",
    "\n",
    "**Types of ANOVA:**\n",
    "   - **One-way ANOVA:** Used when comparing the means of three or more independent groups to determine if they are significantly different from each other.\n",
    "   - **Two-way ANOVA:** Used when there are two independent variables (factors) and their interaction on a dependent variable needs to be analyzed.\n",
    "   - **N-way ANOVA:** Generalization of ANOVA for more than two independent variables.\n",
    "\n",
    "---\n",
    "**Q3. What is the partitioning of variance in ANOVA, and why is it important to understand this concept?**\n",
    "\n",
    "**Partitioning of Variance:**\n",
    "   - In ANOVA, the total variance observed in the data is partitioned into different sources: the variance explained by the factors (explained variance) and the variance not explained by the factors (residual variance).\n",
    "   - Understanding this concept is important because it helps in assessing the relative importance of the factors and their interaction in explaining the variability in the dependent variable.\n",
    "\n",
    "---\n",
    "**Q4. How would you calculate the total sum of squares (SST), explained sum of squares (SSE), and residual sum of squares (SSR) in a one-way ANOVA using Python?**\n",
    "\n",
    "1. Total Sum of Squares\n",
    "   $ (SST) = \\sum_{i=1}^{n} (y_i - \\bar{y})^2 $\n",
    "   \n",
    "   Where:\n",
    "   - $ y_i $ represents each observed value.\n",
    "   - $ \\bar{y} $ represents the overall mean of all observed values.\n",
    "   - $ n $ is the total number of observations.<br>\n",
    "\n",
    "2. Explained Sum of Squares\n",
    "   $ (SSE) = \\sum_{j=1}^{k} n_j (\\bar{y}_j - \\bar{y})^2 $\n",
    "   \n",
    "   Where:\n",
    "   - $ n_j $ is the number of observations in the $ j^{th} $ group.\n",
    "   - $ \\bar{y}_j $ is the mean of the $ j^{th} $ group.\n",
    "   - $ k $ is the total number of groups.<br>\n",
    "\n",
    "3. Residual Sum of Squares\n",
    "   $ (SSR) = \\sum_{i=1}^{n} (y_i - \\bar{y}_j)^2 $\n",
    "   \n",
    "   Where:\n",
    "   - $ \\bar{y}_j $ is the mean of the group to which the $ i^{th} $ observation belongs.\n",
    "\n",
    "These formulas represent the calculation of SST, SSE, and SSR in a one-way ANOVA context. Now calculating through Python-"
   ]
  },
  {
   "cell_type": "code",
   "execution_count": 1,
   "id": "8d0e92cd-52ea-4cbb-9627-7dfac2474acb",
   "metadata": {},
   "outputs": [
    {
     "name": "stdout",
     "output_type": "stream",
     "text": [
      "Total Sum of Squares (SST): 40.0\n",
      "Explained Sum of Squares (SSE): 0.0\n",
      "Residual Sum of Squares (SSR): 40.0\n"
     ]
    }
   ],
   "source": [
    "import numpy as np\n",
    "\n",
    "# Example \n",
    "data = np.array([2, 4, 6, 8, 10])  \n",
    "\n",
    "# Calculate the overall mean\n",
    "overall_mean = np.mean(data)\n",
    "\n",
    "# Calculate SST \n",
    "SST = np.sum((data - overall_mean) ** 2)\n",
    "\n",
    "# Calculate SSE \n",
    "group_means = np.mean(data)\n",
    "SSE = np.sum((group_means - overall_mean) ** 2)\n",
    "\n",
    "# Calculate SSR \n",
    "SSR = SST - SSE\n",
    "\n",
    "print(\"Total Sum of Squares (SST):\", SST)\n",
    "print(\"Explained Sum of Squares (SSE):\", SSE)\n",
    "print(\"Residual Sum of Squares (SSR):\", SSR)"
   ]
  },
  {
   "cell_type": "markdown",
   "id": "c4660c91-2e17-405e-8a04-9d6f95974463",
   "metadata": {},
   "source": [
    "---\n",
    "**Q5. In a two-way ANOVA, how would you calculate the main effects and interaction effects using Python?**\n",
    "\n",
    "**Calculating Main and Interaction Effects in Two-Way ANOVA with Python**\n",
    "\n",
    "**1. Import libraries**\n",
    "\n",
    "**2. Prepare your data**\n",
    "\n",
    "* Organize your data in a pandas DataFrame with columns representing factors and the dependent variable.\n",
    "\n",
    "**3. Calculate means:**\n",
    "\n",
    "* Calculate the mean value of the dependent variable for each level of each factor and the overall mean.\n",
    "* You can use functions like `groupby` in pandas to efficiently achieve this.\n",
    "\n",
    "**4. Define functions for calculations:**\n",
    "\n",
    "* Define separate functions to calculate the main effect of each factor and the interaction effect.\n",
    "* These functions should consider the overall mean, individual factor means, and potentially group-wise means depending on the interaction effect calculation method.\n",
    "\n",
    "**5. Calculate effects:**\n",
    "\n",
    "* Apply the defined functions to your data and factor means to obtain the numerical values for each effect.\n",
    "\n",
    "**6. Interpret the results:**\n",
    "\n",
    "* Consider the magnitude and direction of the calculated effects along with statistical tests (e.g., F-test) to draw conclusions about the significance of each factor and their interaction."
   ]
  },
  {
   "cell_type": "code",
   "execution_count": 10,
   "id": "8fdc9171-f6ec-46f5-8fae-e5708875997d",
   "metadata": {},
   "outputs": [
    {
     "name": "stdout",
     "output_type": "stream",
     "text": [
      "Main effect of Factor 1: 73.55555555555556\n",
      "Main effect of Factor 2: 53.38888888888884\n",
      "Interaction effect: 133.47222222222211\n"
     ]
    }
   ],
   "source": [
    "# Sample data\n",
    "data = {\n",
    "    \"Factor1\": [\"A\", \"A\", \"A\", \"B\", \"B\", \"B\", \"C\", \"C\", \"C\"],\n",
    "    \"Factor2\": [\"Low\", \"High\", \"Low\", \"Low\", \"High\", \"Low\", \"Low\", \"High\", \"Low\"],\n",
    "    \"Value\": [20, 25, 18, 22, 28, 23, 15, 20, 17]\n",
    "}\n",
    "\n",
    "# Create DataFrame\n",
    "df = pd.DataFrame(data)\n",
    "\n",
    "# Calculate means\n",
    "factor1_means = df.groupby(\"Factor1\")[\"Value\"].mean()\n",
    "factor2_means = df.groupby(\"Factor2\")[\"Value\"].mean()\n",
    "overall_mean = df[\"Value\"].mean()\n",
    "\n",
    "# Define functions \n",
    "def main_effect_1(data, factor1_means, overall_mean):\n",
    "    return np.sum([\n",
    "        (factor1_means[level] - overall_mean)**2 * df[df[\"Factor1\"] == level].shape[0]\n",
    "        for level in factor1_means.index\n",
    "    ])\n",
    "\n",
    "def main_effect_2(data, factor2_means, overall_mean):\n",
    "    return np.sum([\n",
    "        (factor2_means[level] - overall_mean)**2 * df[df[\"Factor2\"] == level].shape[0]\n",
    "        for level in factor2_means.index\n",
    "    ])\n",
    "\n",
    "def interaction_effect(data, factor1_means, factor2_means, overall_mean):\n",
    "    return np.sum([\n",
    "        ((df[df[\"Factor1\"] == level1][\"Value\"].mean() - factor1_means[level1] - factor2_means[level2] + overall_mean)**2) * df[df[\"Factor1\"] == level1].shape[0]\n",
    "        for level1 in factor1_means.index\n",
    "        for level2 in factor2_means.index\n",
    "    ])\n",
    "\n",
    "# Calculate effects\n",
    "main_effect_1_value = main_effect_1(df, factor1_means, overall_mean)\n",
    "main_effect_2_value = main_effect_2(df, factor2_means, overall_mean)\n",
    "interaction_effect_value = interaction_effect(df, factor1_means, factor2_means, overall_mean)\n",
    "\n",
    "# Print results\n",
    "print(\"Main effect of Factor 1:\", main_effect_1_value)\n",
    "print(\"Main effect of Factor 2:\", main_effect_2_value)\n",
    "print(\"Interaction effect:\", interaction_effect_value)"
   ]
  },
  {
   "cell_type": "markdown",
   "id": "ade6853f-c237-4aaf-a82b-ba4b523b605c",
   "metadata": {},
   "source": [
    "---\n",
    "**Q6. Suppose you conducted a one-way ANOVA and obtained an F-statistic of 5.23 and a p-value of 0.02.**\n",
    "\n",
    "**What can you conclude about the differences between the groups, and how would you interpret these results?**"
   ]
  },
  {
   "cell_type": "markdown",
   "id": "75493e90-98c7-40a1-9a80-3a84776ac004",
   "metadata": {},
   "source": [
    "**Overall differences:**\n",
    "\n",
    "* **F-statistic of 5.23:** This indicates a moderate-to-large effect size, suggesting potential meaningful differences between the groups.\n",
    "* **p-value of 0.02:** This is statistically significant at the 0.05 level, meaning it's unlikely (2% chance) to observe such a difference by chance alone.\n",
    "\n",
    "**However, you cannot definitively conclude:**\n",
    "\n",
    "* **Which specific groups differ:** One-way ANOVA only tells you if there's an overall difference, not which specific groups differ from each other.\n",
    "\n",
    "**Further analysis is needed:**\n",
    "\n",
    "* Post-hoc tests\n",
    "* Effect size\n",
    "* Visualization\n",
    "\n",
    "**Interpretation:**\n",
    "\n",
    "The one-way ANOVA results suggest a statistically significant difference between the groups (F = 5.23, p = 0.02). However, post-hoc tests are needed to identify specific groups that differ and assess the practical significance of these differences."
   ]
  },
  {
   "cell_type": "markdown",
   "id": "bf7af719-27ae-40e4-a779-87894d6da4c9",
   "metadata": {},
   "source": [
    "---\n",
    "**Q7. In a repeated measures ANOVA, how would you handle missing data, and what are the potential consequences of using different methods to handle missing data?**\n",
    "\n",
    "In a repeated measures ANOVA, missing data can be handled using various methods, each with its own implications:\n",
    "\n",
    "1. **Complete Case Analysis (CCA)**:\n",
    "   - This approach involves excluding cases with missing data on any of the variables involved in the analysis.\n",
    "   - **Pros:** Simple and straightforward.\n",
    "   - **Cons:** Can lead to loss of statistical power, biased results if missing data is not completely random, and reduced generalizability if the missing data are related to the outcome variable.\n",
    "   \n",
    "2. **Imputation**:\n",
    "   - Missing values can be replaced with estimated values using imputation methods such as mean imputation, median imputation, or regression imputation.\n",
    "   - **Pros:** Retains sample size, can reduce bias if the missing data mechanism is missing at random (MAR), and is relatively simple to implement.\n",
    "   - **Cons:** Can introduce bias if the missing data mechanism is non-ignorable, may underestimate standard errors, and can inflate Type I error rates.\n",
    "\n",
    "3. **Maximum Likelihood Estimation (MLE)**:\n",
    "   - MLE involves modeling the covariance structure of the data and estimating parameters using the observed data likelihood function.\n",
    "   - **Pros:** Utilizes all available data, provides unbiased estimates under the assumption of MAR, and allows for valid statistical inference.\n",
    "   - **Cons:** Can be computationally intensive, requires specifying a correct covariance structure, and may be sensitive to model misspecification.\n",
    "\n",
    "4. **Multiple Imputation (MI)**:\n",
    "   - MI involves creating multiple imputed datasets, analyzing each dataset separately, and combining the results.\n",
    "   - **Pros:** Accounts for uncertainty due to missing data, provides more reliable estimates compared to single imputation methods, and allows for valid statistical inference.\n",
    "   - **Cons:** Requires assumptions about the missing data mechanism, can be computationally intensive, and may be challenging to implement correctly.\n",
    "\n",
    "The choice of method depends on factors such as the nature of the missing data, the underlying assumptions, and the goals of the analysis. However, it's important to acknowledge that different methods can lead to different results, and sensitivity analyses should be conducted to assess the robustness of the findings."
   ]
  },
  {
   "cell_type": "markdown",
   "id": "c6b7a5c4-b6ce-4f44-a80e-71fe5ed288b6",
   "metadata": {},
   "source": [
    "---\n",
    "**Q8. What are some common post-hoc tests used after ANOVA, and when would you use each one? Provide an example of a situation where a post-hoc test might be necessary.**\n",
    "\n",
    "1. **Tukey's HSD Test**: Compares all pairs of group means, suitable for equal sample sizes and homogeneous variances.\n",
    "   \n",
    "2. **Bonferroni Correction**: Adjusts significance level for multiple comparisons to control family-wise error rate.\n",
    "\n",
    "3. **Sidak Correction**: Similar to Bonferroni, slightly less conservative.\n",
    "\n",
    "4. **Dunnett's Test**: Compares treatment groups to control, controlling family-wise error rate.\n",
    "\n",
    "In a research study investigating the effect of different exercise regimens on weight loss, an ANOVA may initially be conducted to analyze whether there are significant differences in weight loss among three or more exercise groups (e.g., aerobic, strength training, and combined exercise). If the ANOVA yields a significant result, indicating that at least one group's mean weight loss differs from the others, a post-hoc test such as Tukey's HSD or Bonferroni correction would be necessary to determine which specific exercise groups differ significantly from each other. This helps to identify the most effective exercise regimen(s) for weight loss while controlling for Type I error."
   ]
  },
  {
   "cell_type": "markdown",
   "id": "37e73fc1-b1d8-44f2-b69d-430c917d1f5e",
   "metadata": {},
   "source": [
    "---\n",
    "**Q9. A researcher wants to compare the mean weight loss of three diets: A, B, and C. They collect data from 50 participants who were randomly assigned to one of the diets. Conduct a one-way ANOVA using Python to determine if there are any significant differences between the mean weight loss of the three diets. Report the F-statistic and p-value, and interpret the results.**"
   ]
  },
  {
   "cell_type": "code",
   "execution_count": 15,
   "id": "34626e8c-ff29-4367-a866-b09fb82cea75",
   "metadata": {},
   "outputs": [
    {
     "name": "stdout",
     "output_type": "stream",
     "text": [
      "F-statistic: 849.9285618143902\n",
      "p-value: 1.640501512893696e-81\n",
      "The one-way ANOVA test indicates that there is a significant difference in mean weight loss between the three diets.\n"
     ]
    }
   ],
   "source": [
    "import scipy.stats as stats\n",
    "df = pd.read_csv(\"weight_loss_data.csv\")\n",
    "\n",
    "diet_A = df[\"Diet_A\"]\n",
    "diet_B = df[\"Diet_B\"]\n",
    "diet_C = df[\"Diet_C\"]\n",
    "\n",
    "# Perform one-way ANOVA\n",
    "f_statistic, p_value = stats.f_oneway(diet_A, diet_B, diet_C)\n",
    "print(\"F-statistic:\", f_statistic)\n",
    "print(\"p-value:\", p_value)\n",
    "\n",
    "if p_value < 0.05:\n",
    "    print(\"The one-way ANOVA test indicates that there is a significant difference in mean weight loss between the three diets.\")\n",
    "else:\n",
    "    print(\"The one-way ANOVA test does not find significant evidence to reject the null hypothesis, suggesting no significant difference in mean weight loss between the three diets.\")"
   ]
  },
  {
   "cell_type": "markdown",
   "id": "920f47c5-6c1e-4a58-873f-c77b2c7e9ead",
   "metadata": {},
   "source": [
    "---\n",
    "**Q10. A company wants to know if there are any significant differences in the average time it takes to\n",
    "complete a task using three different software programs: Program A, Program B, and Program C. They\n",
    "randomly assign 30 employees to one of the programs and record the time it takes each employee to\n",
    "complete the task. Conduct a two-way ANOVA using Python to determine if there are any main effects or\n",
    "interaction effects between the software programs and employee experience level (novice vs.\n",
    "experienced). Report the F-statistics and p-values, and interpret the results.**"
   ]
  },
  {
   "cell_type": "code",
   "execution_count": 11,
   "id": "ce9b1224-f8ad-4748-874e-7a68c9200a33",
   "metadata": {},
   "outputs": [
    {
     "data": {
      "text/html": [
       "<div>\n",
       "<style scoped>\n",
       "    .dataframe tbody tr th:only-of-type {\n",
       "        vertical-align: middle;\n",
       "    }\n",
       "\n",
       "    .dataframe tbody tr th {\n",
       "        vertical-align: top;\n",
       "    }\n",
       "\n",
       "    .dataframe thead th {\n",
       "        text-align: right;\n",
       "    }\n",
       "</style>\n",
       "<table border=\"1\" class=\"dataframe\">\n",
       "  <thead>\n",
       "    <tr style=\"text-align: right;\">\n",
       "      <th></th>\n",
       "      <th>Software</th>\n",
       "      <th>Experience</th>\n",
       "      <th>Time</th>\n",
       "    </tr>\n",
       "  </thead>\n",
       "  <tbody>\n",
       "    <tr>\n",
       "      <th>0</th>\n",
       "      <td>A</td>\n",
       "      <td>Novice</td>\n",
       "      <td>25</td>\n",
       "    </tr>\n",
       "    <tr>\n",
       "      <th>1</th>\n",
       "      <td>A</td>\n",
       "      <td>Experienced</td>\n",
       "      <td>22</td>\n",
       "    </tr>\n",
       "    <tr>\n",
       "      <th>2</th>\n",
       "      <td>A</td>\n",
       "      <td>Novice</td>\n",
       "      <td>28</td>\n",
       "    </tr>\n",
       "    <tr>\n",
       "      <th>3</th>\n",
       "      <td>B</td>\n",
       "      <td>Novice</td>\n",
       "      <td>21</td>\n",
       "    </tr>\n",
       "    <tr>\n",
       "      <th>4</th>\n",
       "      <td>B</td>\n",
       "      <td>Experienced</td>\n",
       "      <td>19</td>\n",
       "    </tr>\n",
       "  </tbody>\n",
       "</table>\n",
       "</div>"
      ],
      "text/plain": [
       "  Software   Experience  Time\n",
       "0        A       Novice    25\n",
       "1        A  Experienced    22\n",
       "2        A       Novice    28\n",
       "3        B       Novice    21\n",
       "4        B  Experienced    19"
      ]
     },
     "execution_count": 11,
     "metadata": {},
     "output_type": "execute_result"
    }
   ],
   "source": [
    "import pandas as pd\n",
    "import numpy as np\n",
    "from statsmodels.formula.api import ols\n",
    "from statsmodels.stats.anova import anova_lm\n",
    "\n",
    "df = pd.read_csv(\"ques10.csv\")\n",
    "df.head()"
   ]
  },
  {
   "cell_type": "code",
   "execution_count": 10,
   "id": "b4909ee6-05e6-4f45-84e4-c77fbe4088e2",
   "metadata": {},
   "outputs": [
    {
     "name": "stdout",
     "output_type": "stream",
     "text": [
      "                       df      sum_sq     mean_sq          F    PR(>F)\n",
      "Software              2.0  141.838889   70.919444  13.134920  0.000140\n",
      "Experience            1.0  156.816667  156.816667  29.043859  0.000016\n",
      "Software:Experience   2.0   42.961111   21.480556   3.978392  0.032194\n",
      "Residual             24.0  129.583333    5.399306        NaN       NaN\n"
     ]
    }
   ],
   "source": [
    "model = ols('Time ~ Software + Experience + Software:Experience', data=df).fit()\n",
    "\n",
    "table = anova_lm(model)\n",
    "print(table)"
   ]
  },
  {
   "cell_type": "markdown",
   "id": "58366444-cb02-4431-b7a6-fefd31a5bd28",
   "metadata": {},
   "source": [
    "**Interpretations:**\n",
    "- Significant differences in task completion time among software programs.\n",
    "- Significant differences in task completion time between novice and experienced employees.\n",
    "- A significant interaction effect, meaning the impact of software programs on task completion time varies based on employee experience level, and vice versa."
   ]
  },
  {
   "cell_type": "markdown",
   "id": "5c63ed0f-8c86-4d0e-8b01-4c57ef427531",
   "metadata": {},
   "source": [
    "---\n",
    "**Q11. An educational researcher is interested in whether a new teaching method improves student test scores. They randomly assign 100 students to either the control group (traditional teaching method) or the experimental group (new teaching method) and administer a test at the end of the semester. Conduct a two-sample t-test using Python to determine if there are any significant differences in test scores between the two groups. If the results are significant, follow up with a post-hoc test to determine which group(s) differ significantly from each other.**\n",
    "\n",
    "To conduct a two-sample t-test in Python and follow up with a post-hoc test if the results are significant, you can follow these steps:\n",
    "\n",
    "1. **Perform the Two-Sample t-test**:\n",
    "   - Use `scipy.stats.ttest_ind` function to perform the two-sample t-test.\n",
    "   - Calculate the t-statistic and p-value.\n",
    "\n",
    "2. **Check Significance**:\n",
    "   - If the p-value is below your chosen significance level (e.g., α = 0.05), then there is a significant difference in test scores between the two groups.\n",
    "\n",
    "3. **Post-hoc Test (if significant)**:\n",
    "   - If the t-test is significant, conduct a post-hoc test to determine which group(s) differ significantly from each other.\n",
    "   - You can use Tukey's HSD Test, Bonferroni Correction, or similar methods to compare group means.\n",
    "\n",
    "Here's how we can implement it in Python:"
   ]
  },
  {
   "cell_type": "code",
   "execution_count": 7,
   "id": "a67194a9-7afd-480a-8b09-02f1172f2142",
   "metadata": {},
   "outputs": [
    {
     "name": "stdout",
     "output_type": "stream",
     "text": [
      "There is a significant difference in test scores between the two groups.\n",
      "   Multiple Comparison of Means - Tukey HSD, FWER=0.05   \n",
      "=========================================================\n",
      " group1    group2    meandiff p-adj  lower  upper  reject\n",
      "---------------------------------------------------------\n",
      "Control Experimental      4.5 0.0316 0.4449 8.5551   True\n",
      "---------------------------------------------------------\n"
     ]
    }
   ],
   "source": [
    "import numpy as np\n",
    "import pandas as pd\n",
    "from scipy.stats import ttest_ind\n",
    "from statsmodels.stats.multicomp import pairwise_tukeyhsd\n",
    "\n",
    "# Example data\n",
    "control_group = [80, 85, 90, 75, 78, 82, 79, 81, 88, 86]\n",
    "experimental_group = [85, 88, 92, 80, 83, 87, 84, 89, 90, 91]\n",
    "\n",
    "# Perform two-sample t-test\n",
    "t_stat, p_value = ttest_ind(control_group, experimental_group)\n",
    "\n",
    "if p_value < 0.05:\n",
    "    print(\"There is a significant difference in test scores between the two groups.\")\n",
    "    # Perform post-hoc test\n",
    "    data = pd.DataFrame({'score': control_group + experimental_group,\n",
    "                         'group': ['Control'] * len(control_group) + ['Experimental'] * len(experimental_group)})\n",
    "    posthoc = pairwise_tukeyhsd(data['score'], data['group'])\n",
    "    print(posthoc)\n",
    "else:\n",
    "    print(\"There is no significant difference in test scores between the two groups.\")"
   ]
  },
  {
   "cell_type": "markdown",
   "id": "a4094d75-30a9-4562-8dc0-80d3a32ad709",
   "metadata": {},
   "source": [
    "---\n",
    "**Q12. A researcher wants to know if there are any significant differences in the average daily sales of three\n",
    "retail stores: Store A, Store B, and Store C. They randomly select 30 days and record the sales for each store\n",
    "on those days. Conduct a repeated measures ANOVA using Python to determine if there are any\n",
    "significant differences in sales between the three stores. If the results are significant, follow up with a posthoc\n",
    "test to determine which store(s) differ significantly from each other.**\n",
    "\n",
    "To conduct a repeated measures ANOVA in Python and follow up with a post-hoc test if the results are significant, you can follow these steps:\n",
    "\n",
    "1. **Perform the Repeated Measures ANOVA**:\n",
    "   - Use `statsmodels` library to perform the repeated measures ANOVA.\n",
    "   - Prepare your data in a long format where each row represents a single observation (i.e., sales for each store on each day).\n",
    "   - Use the `ols` function to fit a linear model and `AnovaRM` class to perform the repeated measures ANOVA.\n",
    "\n",
    "2. **Check Significance**:\n",
    "   - If the p-value from the ANOVA is below your chosen significance level (e.g., α = 0.05), then there are significant differences in sales between the three stores.\n",
    "\n",
    "3. **Post-hoc Test (if significant)**:\n",
    "   - If the ANOVA is significant, conduct a post-hoc test to determine which store(s) differ significantly from each other.\n",
    "   - You can use Tukey's HSD Test, Bonferroni Correction, or similar methods to compare store means."
   ]
  },
  {
   "cell_type": "code",
   "execution_count": 1,
   "id": "589a73c4-2139-4c04-8c89-26fa516fbfae",
   "metadata": {},
   "outputs": [
    {
     "name": "stdout",
     "output_type": "stream",
     "text": [
      "              Anova\n",
      "==================================\n",
      "    F Value  Num DF  Den DF Pr > F\n",
      "----------------------------------\n",
      "Day  0.8057 29.0000 58.0000 0.7334\n",
      "==================================\n",
      "\n",
      "ANOVA results are not significant. Post-hoc tests are not performed.\n"
     ]
    }
   ],
   "source": [
    "import pandas as pd\n",
    "from statsmodels.stats.anova import AnovaRM\n",
    "from pingouin import pairwise_ttests\n",
    "from statsmodels.stats.multicomp import pairwise_tukeyhsd\n",
    "\n",
    "df = pd.read_csv(\"sales_data.csv\")\n",
    "\n",
    "# Perform repeated measures ANOVA\n",
    "aov = AnovaRM(data=df, depvar='Sales', within=['Day'], subject='Store')\n",
    "res_anova = aov.fit()\n",
    "\n",
    "print(res_anova)\n",
    "\n",
    "# Check if the ANOVA results are significant\n",
    "if res_anova.anova_table['Pr > F'][0] < 0.05:\n",
    "    # Perform post-hoc tests\n",
    "    posthoc_res = pairwise_ttests(data=df, dv='Sales', within='Day', subject='Store', parametric=True, padjust='bonf')\n",
    "    print(posthoc_res)\n",
    "\n",
    "    # Perform Tukey's HSD test for multiple comparisons\n",
    "    tukey_res = pairwise_tukeyhsd(df['Sales'], df['Store'])\n",
    "    print(tukey_res)\n",
    "else:\n",
    "    print(\"ANOVA results are not significant. Post-hoc tests are not performed.\")"
   ]
  }
 ],
 "metadata": {
  "kernelspec": {
   "display_name": "Python 3 (ipykernel)",
   "language": "python",
   "name": "python3"
  },
  "language_info": {
   "codemirror_mode": {
    "name": "ipython",
    "version": 3
   },
   "file_extension": ".py",
   "mimetype": "text/x-python",
   "name": "python",
   "nbconvert_exporter": "python",
   "pygments_lexer": "ipython3",
   "version": "3.10.8"
  }
 },
 "nbformat": 4,
 "nbformat_minor": 5
}
