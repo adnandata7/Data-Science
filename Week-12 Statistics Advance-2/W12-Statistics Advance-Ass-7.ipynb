{
 "cells": [
  {
   "cell_type": "markdown",
   "id": "c246eaea-805f-4cfa-afc7-5e5cdede72cf",
   "metadata": {},
   "source": [
    "**Q1. Write a Python function that takes in two arrays of data and calculates the F-value for a variance ratio\n",
    "test. The function should return the F-value and the corresponding p-value for the test.**"
   ]
  },
  {
   "cell_type": "code",
   "execution_count": 23,
   "id": "522813bd-a35c-4ae2-b629-f292a9e2fcd5",
   "metadata": {},
   "outputs": [
    {
     "name": "stdout",
     "output_type": "stream",
     "text": [
      "F-value: 4.0\n",
      "p-value: 0.10400000000000002\n"
     ]
    }
   ],
   "source": [
    "import numpy as np\n",
    "from scipy.stats import f\n",
    "\n",
    "def f_Test_and_P_test(arr1, arr2):\n",
    "    # Calculate variances\n",
    "    var1 = np.var(arr1)\n",
    "    var2 = np.var(arr2)\n",
    "    \n",
    "    if var1 < var2:\n",
    "        var1, var2 = var2, var1\n",
    "    \n",
    "    # Calculate F-value and p-value\n",
    "    f_value = var1 / var2\n",
    "    dfn = len(arr1) - 1\n",
    "    df2 = len(arr2) - 1\n",
    "    p_value = f.sf(f_value, dfn, df2)  # Survival function\n",
    "    \n",
    "    return f_value, p_value\n",
    "\n",
    "# Example\n",
    "arr1 = np.array([1, 2, 3, 4, 5])\n",
    "arr2 = np.array([2, 4, 6, 8, 10])\n",
    "f_value, p_value = f_Test_and_P_test(arr1, arr2)\n",
    "print(\"F-value:\", f_value)\n",
    "print(\"p-value:\", p_value)"
   ]
  },
  {
   "cell_type": "markdown",
   "id": "c7078a64-89d7-4a98-bc55-d5876028abfb",
   "metadata": {},
   "source": [
    "---\n",
    "**Q2. Given a significance level of 0.05 and the degrees of freedom for the numerator and denominator of an\n",
    "F-distribution, write a Python function that returns the critical F-value for a two-tailed test.**\n"
   ]
  },
  {
   "cell_type": "code",
   "execution_count": 21,
   "id": "0778e69b-4974-47c2-a499-7cb9d8de0cf1",
   "metadata": {},
   "outputs": [
    {
     "name": "stdout",
     "output_type": "stream",
     "text": [
      "Critical F-value: 5.456395525912731\n"
     ]
    }
   ],
   "source": [
    "from scipy.stats import f\n",
    "\n",
    "def critical_f_value(alpha, dfn, dfd):\n",
    "    \n",
    "    f_critical = f.ppf(q = 1 - alpha / 2, dfn = dfn, dfd = dfd)\n",
    "    \n",
    "    return f_critical\n",
    "\n",
    "# Example\n",
    "alpha = 0.05\n",
    "dfn = 2\n",
    "dfd = 10\n",
    "f_critical = critical_f_value(alpha, dfn, dfd)\n",
    "print(\"Critical F-value:\", f_critical)"
   ]
  },
  {
   "cell_type": "markdown",
   "id": "6860d85c-606f-47bd-b33d-4a4e0720e67c",
   "metadata": {},
   "source": [
    "---\n",
    "**Q3. Write a Python program that generates random samples from two normal distributions with known\n",
    "variances and uses an F-test to determine if the variances are equal. The program should output the Fvalue,\n",
    "degrees of freedom, and p-value for the test.**\n"
   ]
  },
  {
   "cell_type": "code",
   "execution_count": 22,
   "id": "dd31d885-6843-4eb3-9e80-b26febc9e831",
   "metadata": {},
   "outputs": [
    {
     "name": "stdout",
     "output_type": "stream",
     "text": [
      "F-value: 1.5\n",
      "Degrees of freedom (numerator): 29\n",
      "Degrees of freedom (denominator): 29\n",
      "p-value: 0.14035232382327728\n"
     ]
    }
   ],
   "source": [
    "import numpy as np\n",
    "from scipy.stats import f\n",
    "\n",
    "def f_test_for_equal_variances(sample1, sample2, var1, var2):\n",
    "    \n",
    "    n1 = len(sample1)\n",
    "    n2 = len(sample2)\n",
    "    dfn = n1 - 1\n",
    "    dfd = n2 - 1\n",
    "    \n",
    "    f_value = var1 / var2 if var1 > var2 else var2 / var1\n",
    "    p_value = f.sf(f_value, dfn, dfd)\n",
    "    \n",
    "    return f_value, dfn, dfd, p_value\n",
    "\n",
    "# Generate random samples \n",
    "np.random.seed(0)  # For reproducibility\n",
    "sample1 = np.random.normal(size=30)  # Sample from N(0, 1)\n",
    "sample2 = np.random.normal(size=30)  # Sample from N(0, 1.5)\n",
    "var1 = 1  \n",
    "var2 = 1.5  \n",
    "\n",
    "# Perform F-test \n",
    "f_value, dfn, dfd, p_value = f_test_for_equal_variances(sample1, sample2, var1, var2)\n",
    "\n",
    "print(\"F-value:\", f_value)\n",
    "print(\"Degrees of freedom (numerator):\", dfn)\n",
    "print(\"Degrees of freedom (denominator):\", dfd)\n",
    "print(\"p-value:\", p_value)"
   ]
  },
  {
   "cell_type": "markdown",
   "id": "2d5311f6-62b5-4dd5-b069-5bd46adff706",
   "metadata": {},
   "source": [
    "---\n",
    "**Q4.The variances of two populations are known to be 10 and 15. A sample of 12 observations is taken from\n",
    "each population. Conduct an F-test at the 5% significance level to determine if the variances are\n",
    "significantly different.**"
   ]
  },
  {
   "cell_type": "code",
   "execution_count": 20,
   "id": "ec07b235-3236-4aa6-bedc-bbb5c5368f90",
   "metadata": {},
   "outputs": [
    {
     "name": "stdout",
     "output_type": "stream",
     "text": [
      "Fail to reject null hypothesis: Variances are not significantly different\n"
     ]
    }
   ],
   "source": [
    "from scipy.stats import f\n",
    "\n",
    "def f_test(s1, s2, n1, n2, alpha=0.05):\n",
    "\n",
    "    F = s1 / s2\n",
    "    dfn = n1 - 1\n",
    "    dfd = n2 - 1\n",
    "    \n",
    "    # Calculate critical value\n",
    "    crit_val = f.ppf(1 - alpha/2, dfn, dfd)  # Two-tailed test\n",
    "    \n",
    "    # Compare F-statistic to critical value\n",
    "    if F > crit_val:\n",
    "        return \"Reject null hypothesis: Variances are significantly different\"\n",
    "    else:\n",
    "        return \"Fail to reject null hypothesis: Variances are not significantly different\"\n",
    "\n",
    "# Given data\n",
    "s1 = 10\n",
    "s2 = 15\n",
    "n1 = 12\n",
    "n2 = 12\n",
    "\n",
    "result = f_test(s1, s2, n1, n2)\n",
    "print(result)"
   ]
  },
  {
   "cell_type": "markdown",
   "id": "b34bf17e-8d5d-473e-9327-8a4b2e4d2422",
   "metadata": {},
   "source": [
    "---\n",
    "**Q5. A manufacturer claims that the variance of the diameter of a certain product is 0.005. A sample of 25\n",
    "products is taken, and the sample variance is found to be 0.006. Conduct an F-test at the 1% significance\n",
    "level to determine if the claim is justified.**"
   ]
  },
  {
   "cell_type": "code",
   "execution_count": 24,
   "id": "e850ef3e-e9a4-4661-a053-6331622edf15",
   "metadata": {},
   "outputs": [
    {
     "name": "stdout",
     "output_type": "stream",
     "text": [
      "Fail to reject null hypothesis: The claim is justified\n"
     ]
    }
   ],
   "source": [
    "from scipy.stats import f\n",
    "\n",
    "def f_test(sample_var, claimed_var, sample_size, alpha=0.01):\n",
    "    # Calculate F-statistic\n",
    "    F = sample_var / claimed_var\n",
    "    \n",
    "    # Degrees of freedom\n",
    "    dfn = sample_size - 1\n",
    "    df2 = sample_size\n",
    "    \n",
    "    # Calculate critical values\n",
    "    crit_val_lower = f.ppf(alpha/2, dfn, df2)\n",
    "    crit_val_upper = f.ppf(1 - alpha/2, dfn, df2)\n",
    "    \n",
    "    # Compare F-statistic to critical values\n",
    "    if F < crit_val_lower or F > crit_val_upper:\n",
    "        return \"Reject null hypothesis: The claim is not justified\"\n",
    "    else:\n",
    "        return \"Fail to reject null hypothesis: The claim is justified\"\n",
    "\n",
    "# Given data\n",
    "sample_var = 0.006\n",
    "claimed_var = 0.005\n",
    "sample_size = 25\n",
    "alpha = 0.01\n",
    "\n",
    "# Perform F-test\n",
    "result = f_test(sample_var, claimed_var, sample_size, alpha)\n",
    "print(result)\n"
   ]
  },
  {
   "cell_type": "markdown",
   "id": "4df5c528-1e44-49a5-b94a-51d18c47385c",
   "metadata": {},
   "source": [
    "---\n",
    "**Q6. Write a Python function that takes in the degrees of freedom for the numerator and denominator of an\n",
    "F-distribution and calculates the mean and variance of the distribution. The function should return the\n",
    "mean and variance as a tuple.**"
   ]
  },
  {
   "cell_type": "code",
   "execution_count": 16,
   "id": "511771a8-1910-4009-bd95-ec08264d4fd8",
   "metadata": {},
   "outputs": [
    {
     "name": "stdout",
     "output_type": "stream",
     "text": [
      "Mean: 1.25\n",
      "Variance: 1.3541666666666667\n"
     ]
    }
   ],
   "source": [
    "def f_distribution_mean_variance(d1, d2):\n",
    "    mean = d2 / (d2 - 2)\n",
    "    variance = (2 * d2**2 * (d1 + d2 - 2)) / (d1 * (d2 - 2)**2 * (d2 - 4))\n",
    "    return mean, variance\n",
    "\n",
    "# Example\n",
    "d1 = 5\n",
    "d2 = 10\n",
    "mean, variance = f_distribution_mean_variance(d1, d2)\n",
    "print(\"Mean:\", mean)\n",
    "print(\"Variance:\", variance)"
   ]
  },
  {
   "cell_type": "markdown",
   "id": "6d1733d3-ecfa-4d2b-bcfa-3a93d25f648a",
   "metadata": {},
   "source": [
    "---\n",
    "**Q7. A random sample of 10 measurements is taken from a normal population with unknown variance. The\n",
    "sample variance is found to be 25. Another random sample of 15 measurements is taken from another\n",
    "normal population with unknown variance, and the sample variance is found to be 20. Conduct an F-test\n",
    "at the 10% significance level to determine if the variances are significantly different.**"
   ]
  },
  {
   "cell_type": "code",
   "execution_count": 19,
   "id": "5697da45-37da-46fc-8d5d-6dcdaddffbed",
   "metadata": {},
   "outputs": [
    {
     "name": "stdout",
     "output_type": "stream",
     "text": [
      "Fail to reject null hypothesis: Variances are not significantly different\n"
     ]
    }
   ],
   "source": [
    "from scipy.stats import f\n",
    "\n",
    "def f_test(s1, s2, n1, n2, alpha=0.10):\n",
    "    # Calculate F-statistic\n",
    "    F = s1 / s2\n",
    "    dfn = n1 - 1\n",
    "    dfd = n2 - 1\n",
    "    \n",
    "    # Calculate critical value\n",
    "    crit_val = f.ppf(1 - alpha/2, dfn, dfd)  # Two-tailed test\n",
    "    \n",
    "    # Compare F-statistic to critical value\n",
    "    if F > crit_val:\n",
    "        return \"Reject null hypothesis: Variances are significantly different\"\n",
    "    else:\n",
    "        return \"Fail to reject null hypothesis: Variances are not significantly different\"\n",
    "\n",
    "s1 = 25\n",
    "s2 = 20\n",
    "n1 = 10\n",
    "n2 = 15\n",
    "result = f_test(s1, s2, n1, n2)\n",
    "print(result)"
   ]
  },
  {
   "cell_type": "markdown",
   "id": "932fd18a-0b6c-4658-96df-5443982c5e4b",
   "metadata": {},
   "source": [
    "---\n",
    "**Q8. The following data represent the waiting times in minutes at two different restaurants on a Saturday\n",
    "night: Restaurant A: 24, 25, 28, 23, 22, 20, 27; Restaurant B: 31, 33, 35, 30, 32, 36. Conduct an F-test at the 5%\n",
    "significance level to determine if the variances are significantly different.**"
   ]
  },
  {
   "cell_type": "code",
   "execution_count": 15,
   "id": "7f860c70-fcde-444d-968b-480a4f783b23",
   "metadata": {},
   "outputs": [
    {
     "name": "stdout",
     "output_type": "stream",
     "text": [
      "Fail to reject null hypothesis: Variances are not significantly different\n"
     ]
    }
   ],
   "source": [
    "from scipy.stats import f\n",
    "\n",
    "def f_test(arr1 , arr2, alpha = 0.05):\n",
    "    n1 = len(arr1)\n",
    "    n2 = len(arr2)\n",
    "    dfn = n1 - 1\n",
    "    dfd = n2 - 1\n",
    "    \n",
    "    x1_bar = sum(arr1) / n1\n",
    "    x2_bar = sum(arr2) / n2\n",
    "\n",
    "    s1 = sum((x - x1_bar)**2 for x in arr1) / dfn\n",
    "    s2 = sum((x - x2_bar)**2 for x in arr2) / dfd\n",
    "    \n",
    "    F = s1 / s2\n",
    "    crit_val = f.ppf(1 - alpha/2, dfn, dfd)  # Two-tailed test\n",
    "    \n",
    "    # Compare F-statistic to critical value\n",
    "    if F > crit_val:\n",
    "        return \"Reject null hypothesis: Variances are significantly different\"\n",
    "    else:\n",
    "        return \"Fail to reject null hypothesis: Variances are not significantly different\"\n",
    "\n",
    "# Driver Code\n",
    "restaurant_A = [24, 25, 28, 23, 22, 20, 27]\n",
    "restaurant_B = [31, 33, 35, 30, 32, 36]\n",
    "result = f_test(restaurant_A, restaurant_B)\n",
    "print(result)"
   ]
  },
  {
   "cell_type": "markdown",
   "id": "1339eab9-36e8-4af3-8ea4-0e1317c5959b",
   "metadata": {},
   "source": [
    "---\n",
    "**Q9. The following data represent the test scores of two groups of students: Group A: 80, 85, 90, 92, 87, 83;\n",
    "Group B: 75, 78, 82, 79, 81, 84. Conduct an F-test at the 1% significance level to determine if the variances\n",
    "are significantly different.**"
   ]
  },
  {
   "cell_type": "code",
   "execution_count": 13,
   "id": "af7aec3e-8b1c-4d4b-9352-a8be0cc92f45",
   "metadata": {},
   "outputs": [
    {
     "name": "stdout",
     "output_type": "stream",
     "text": [
      "Fail to reject null hypothesis: Variances are not significantly different\n"
     ]
    }
   ],
   "source": [
    "from scipy.stats import f\n",
    "\n",
    "def f_Test(arr1, arr2, alpha = 0.01):\n",
    "    n1 = len(arr1)\n",
    "    n2 = len(arr2)\n",
    "    dfn = n1 - 1\n",
    "    dfd = n2 - 1\n",
    "    \n",
    "    x1_bar = sum(arr1)/n1\n",
    "    x2_bar = sum(arr2)/n2\n",
    "    \n",
    "    s1 = sum((x - x1_bar)**2 for x in arr1)/ dfn\n",
    "    s2 = sum((x - x2_bar)**2 for x in arr2)/ dfd\n",
    "    F = s1 / s2\n",
    "    \n",
    "    # Calculate critical value\n",
    "    crit_val = f.ppf(1 - alpha, dfn, dfd)\n",
    "    \n",
    "    # Compare F-statistic to critical value\n",
    "    if F > crit_val:\n",
    "        return \"Reject null hypothesis: Variances are significantly different\"\n",
    "    else:\n",
    "        return \"Fail to reject null hypothesis: Variances are not significantly different\"\n",
    "\n",
    "# Driver Code\n",
    "group_A = [80, 85, 90, 92, 87, 83]\n",
    "group_B = [75, 78, 82, 79, 81, 84]\n",
    "result = f_Test(group_A, group_B)\n",
    "print(result)"
   ]
  }
 ],
 "metadata": {
  "kernelspec": {
   "display_name": "Python 3 (ipykernel)",
   "language": "python",
   "name": "python3"
  },
  "language_info": {
   "codemirror_mode": {
    "name": "ipython",
    "version": 3
   },
   "file_extension": ".py",
   "mimetype": "text/x-python",
   "name": "python",
   "nbconvert_exporter": "python",
   "pygments_lexer": "ipython3",
   "version": "3.10.8"
  }
 },
 "nbformat": 4,
 "nbformat_minor": 5
}
