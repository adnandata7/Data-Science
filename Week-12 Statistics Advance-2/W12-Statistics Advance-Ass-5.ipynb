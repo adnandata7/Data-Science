{
 "cells": [
  {
   "cell_type": "markdown",
   "id": "b2a3bc7e-e271-4d6f-8ec6-855b83f64b1e",
   "metadata": {},
   "source": [
    "**Q1. Calculate the 95% confidence interval for a sample of data with a mean of 50 and a standard deviation\n",
    "of 5 using Python. Interpret the results.**"
   ]
  },
  {
   "cell_type": "code",
   "execution_count": 3,
   "id": "578f6d13-d8d5-4f56-9bca-889f7e35c800",
   "metadata": {},
   "outputs": [
    {
     "name": "stdout",
     "output_type": "stream",
     "text": [
      "95% Confidence Interval: (40.200180077299734, 59.799819922700266)\n"
     ]
    }
   ],
   "source": [
    "import numpy as np\n",
    "from scipy.stats import norm\n",
    "\n",
    "# Given data\n",
    "mean = 50\n",
    "std_dev = 5\n",
    "confidence_level = 0.95\n",
    "\n",
    "# margin of error\n",
    "margin_of_error = norm.ppf((1 + confidence_level) / 2) * (std_dev / np.sqrt(1))\n",
    "\n",
    "# confidence interval\n",
    "confidence_interval = (mean - margin_of_error, mean + margin_of_error)\n",
    "print(\"95% Confidence Interval:\", confidence_interval)"
   ]
  },
  {
   "cell_type": "markdown",
   "id": "5392e51f-58c2-4ca1-ae04-480a7127997c",
   "metadata": {},
   "source": [
    "---\n",
    "**Q2. Conduct a chi-square goodness of fit test to determine if the distribution of colors of M&Ms in a bag\n",
    "matches the expected distribution of 20% blue, 20% orange, 20% green, 10% yellow, 10% red, and 20%\n",
    "brown. Use Python to perform the test with a significance level of 0.05.**"
   ]
  },
  {
   "cell_type": "code",
   "execution_count": 4,
   "id": "3dc89c8f-5c25-48a2-9b91-5e27119c283f",
   "metadata": {},
   "outputs": [
    {
     "name": "stdout",
     "output_type": "stream",
     "text": [
      "Chi-Square statistic: 0.49607126770431914\n",
      "p-value: 0.992266441100274\n",
      "Degrees of freedom: 5\n",
      "Fail to reject null hypothesis. The observed color distribution matches the expected distribution at a significance level of 0.05\n"
     ]
    }
   ],
   "source": [
    "import pandas as pd\n",
    "from scipy.stats import chi2_contingency\n",
    "\n",
    "colors = ['Blue', 'Orange', 'Green', 'Yellow', 'Red', 'Brown']\n",
    "expected_proportions = [0.2, 0.2, 0.2, 0.1, 0.1, 0.2]\n",
    "observed_counts = [30, 25, 28, 15, 12, 30]  \n",
    "\n",
    "# contingency table\n",
    "data = {'Color': colors, 'Observed': observed_counts, 'Expected': [x * sum(observed_counts) for x in expected_proportions]}\n",
    "df = pd.DataFrame(data)\n",
    "\n",
    "# chi-square test\n",
    "chi2, pval, degrees_of_freedom, expected_freq = chi2_contingency(df[['Observed', 'Expected']])\n",
    "\n",
    "alpha = 0.05\n",
    "print(\"Chi-Square statistic:\", chi2)\n",
    "print(\"p-value:\", pval)\n",
    "print(\"Degrees of freedom:\", degrees_of_freedom)\n",
    "\n",
    "if pval > alpha:\n",
    "    print(\"Fail to reject null hypothesis. The observed color distribution matches the expected distribution at a significance level of\", alpha)\n",
    "else:\n",
    "    print(\"Reject null hypothesis. The observed color distribution significantly differs from the expected distribution at a significance level of\", alpha)"
   ]
  },
  {
   "cell_type": "markdown",
   "id": "e6585437-4286-47bd-8226-689224cd28a0",
   "metadata": {},
   "source": [
    "---\n",
    "**Q3. Use Python to calculate the chi-square statistic and p-value for a contingency table with the following data:**\n",
    "\n",
    "|          | **Group A** | **Group B** |\n",
    "|----------|---------|---------|\n",
    "| **Outcome 1**|    20   |    15   |\n",
    "| **Outcome 2**|    10   |    25   |\n",
    "| **Outcome 3**|    15   |    20   |\n",
    "\n",
    "**Interpret the results of the test.**"
   ]
  },
  {
   "cell_type": "code",
   "execution_count": 30,
   "id": "6e2f893f-9226-48f4-902e-605af3cada17",
   "metadata": {},
   "outputs": [
    {
     "name": "stdout",
     "output_type": "stream",
     "text": [
      "Chi-square statistic: 5.833333333333334\n",
      "p-value: 0.05411376622282158\n",
      "Degrees of freedom: 2\n"
     ]
    }
   ],
   "source": [
    "from scipy.stats import chi2_contingency\n",
    "\n",
    "# Given contingency table data\n",
    "observed_data = [[20, 15],\n",
    "                 [10, 25],\n",
    "                 [15, 20]]\n",
    "\n",
    "# Perform chi-square test\n",
    "chi2_stat, p_val, dof, expected = chi2_contingency(observed_data)\n",
    "\n",
    "# Output results\n",
    "print(\"Chi-square statistic:\", chi2_stat)\n",
    "print(\"p-value:\", p_val)\n",
    "print(\"Degrees of freedom:\", dof)"
   ]
  },
  {
   "cell_type": "markdown",
   "id": "f2568d7b-5e7b-4962-b454-51f4ddca9140",
   "metadata": {},
   "source": [
    "---\n",
    "**Q4. A study of the prevalence of smoking in a population of 500 individuals found that 60 individuals\n",
    "smoked. Use Python to calculate the 95% confidence interval for the true proportion of individuals in the\n",
    "population who smoke.**"
   ]
  },
  {
   "cell_type": "code",
   "execution_count": 6,
   "id": "cb4d248f-ddac-4091-8ad2-f19f12816fd0",
   "metadata": {},
   "outputs": [
    {
     "name": "stdout",
     "output_type": "stream",
     "text": [
      "95% Confidence Interval for the true proportion of individuals who smoke: (0.09151638887130707, 0.1484836111286929)\n"
     ]
    }
   ],
   "source": [
    "import numpy as np\n",
    "from scipy.stats import norm\n",
    "\n",
    "population_size = 500\n",
    "smokers = 60\n",
    "proportion_smokers = smokers / population_size\n",
    "z_score = norm.ppf(0.975)  # For a 95% confidence interval\n",
    "margin_of_error = z_score * np.sqrt((proportion_smokers * (1 - proportion_smokers)) / population_size)\n",
    "confidence_interval_smokers = (proportion_smokers - margin_of_error, proportion_smokers + margin_of_error)\n",
    "\n",
    "print(\"95% Confidence Interval for the true proportion of individuals who smoke:\", confidence_interval_smokers)"
   ]
  },
  {
   "cell_type": "markdown",
   "id": "b43f89e6-65b5-46d8-8b75-f28ea6a8ab64",
   "metadata": {},
   "source": [
    "---\n",
    "**Q5. Calculate the 90% confidence interval for a sample of data with a mean of 75 and a standard deviation\n",
    "of 12 using Python. Interpret the results.**"
   ]
  },
  {
   "cell_type": "code",
   "execution_count": 7,
   "id": "8d8f4dfe-d258-44b0-86a6-ad5e9a5a7933",
   "metadata": {},
   "outputs": [
    {
     "name": "stdout",
     "output_type": "stream",
     "text": [
      "90% Confidence Interval for the sample mean: (74.11727891450386, 75.88272108549614)\n"
     ]
    }
   ],
   "source": [
    "mean = 75\n",
    "std_dev = 12\n",
    "confidence_level = 0.90\n",
    "z_score = norm.ppf((1 + confidence_level) / 2)\n",
    "margin_of_error_mean = z_score * (std_dev / np.sqrt(population_size))\n",
    "confidence_interval_mean = (mean - margin_of_error_mean, mean + margin_of_error_mean)\n",
    "\n",
    "print(\"90% Confidence Interval for the sample mean:\", confidence_interval_mean)"
   ]
  },
  {
   "cell_type": "markdown",
   "id": "c0292c8c-a6a9-4e82-9376-8d0cdfa8f7fc",
   "metadata": {},
   "source": [
    "---\n",
    "**Q6. Use Python to plot the chi-square distribution with 10 degrees of freedom. Label the axes and shade the\n",
    "area corresponding to a chi-square statistic of 15.**"
   ]
  },
  {
   "cell_type": "code",
   "execution_count": 15,
   "id": "604d16f1-8dae-4454-83a1-70e054a0a1ce",
   "metadata": {},
   "outputs": [
    {
     "data": {
      "image/png": "[encoded data removed]",
      "text/plain": [
       "<Figure size 800x600 with 1 Axes>"
      ]
     },
     "metadata": {},
     "output_type": "display_data"
    }
   ],
   "source": [
    "import numpy as np\n",
    "import matplotlib.pyplot as plt\n",
    "from scipy.stats import chi2, norm\n",
    "\n",
    "df = 10\n",
    "x = np.linspace(0, 30, 1000)\n",
    "y = chi2.pdf(x, df)\n",
    "\n",
    "plt.figure(figsize=(8, 6))\n",
    "plt.plot(x, y, 'g-', label='Chi-square Distribution (df=10)')\n",
    "plt.fill_between(x, 0, y, where=(x >= 0) & (x <= 15), color='yellow', alpha=0.5, label='Chi-square statistic of 15')\n",
    "plt.xlabel('Chi-square Value')\n",
    "plt.ylabel('Probability Density')\n",
    "plt.title('Chi-square Distribution')\n",
    "plt.legend()\n",
    "plt.grid(True)\n",
    "plt.show()"
   ]
  },
  {
   "cell_type": "markdown",
   "id": "84a93872-de85-42ca-8519-05f325eafe45",
   "metadata": {},
   "source": [
    "---\n",
    "**Q7. A random sample of 1000 people was asked if they preferred Coke or Pepsi. Of the sample, 520\n",
    "preferred Coke. Calculate a 99% confidence interval for the true proportion of people in the population who\n",
    "prefer Coke.**"
   ]
  },
  {
   "cell_type": "code",
   "execution_count": 16,
   "id": "488b4c2e-01d7-48da-8ccc-140f24bf81de",
   "metadata": {},
   "outputs": [
    {
     "name": "stdout",
     "output_type": "stream",
     "text": [
      "99% Confidence Interval for the true proportion of people who prefer Coke: (0.4793051576779699, 0.5606948423220302)\n"
     ]
    }
   ],
   "source": [
    "sample_size = 1000\n",
    "coke_preference = 520\n",
    "proportion_coke = coke_preference / sample_size\n",
    "z_score = norm.ppf(0.995)  # For a 99% confidence interval\n",
    "margin_of_error= z_score * np.sqrt((proportion_coke * (1 - proportion_coke)) / sample_size)\n",
    "confidence_interval= (proportion_coke - margin_of_error, proportion_coke + margin_of_error)\n",
    "\n",
    "print(\"99% Confidence Interval for the true proportion of people who prefer Coke:\", confidence_interval)"
   ]
  },
  {
   "cell_type": "markdown",
   "id": "21bd7665-1648-40fe-99ba-77be21eb6809",
   "metadata": {},
   "source": [
    "---\n",
    "**Q8. A researcher hypothesizes that a coin is biased towards tails. They flip the coin 100 times and observe\n",
    "45 tails. Conduct a chi-square goodness of fit test to determine if the observed frequencies match the\n",
    "expected frequencies of a fair coin. Use a significance level of 0.05.**"
   ]
  },
  {
   "cell_type": "code",
   "execution_count": 26,
   "id": "9b53c401-2365-41fe-b831-d66359526090",
   "metadata": {},
   "outputs": [
    {
     "name": "stdout",
     "output_type": "stream",
     "text": [
      "Chi-square statistic: 519.8549765125003\n",
      "p-value: 4.550862136035452e-115\n",
      "Degre of Freedom: 1\n",
      "Reject null hypothesis. The coin is biased towards tails.\n"
     ]
    }
   ],
   "source": [
    "observed_tails = 45\n",
    "expected_tails = sample_size / 2  # for a fair coin\n",
    "expected_heads = sample_size / 2\n",
    "observed_frequencies = [observed_tails, sample_size - observed_tails]\n",
    "expected_frequencies = [expected_tails, expected_heads]\n",
    "\n",
    "chi2_stat, p_val, dof, expected = chi2_contingency([observed_frequencies, expected_frequencies])\n",
    "\n",
    "alpha = 0.05\n",
    "print(\"Chi-square statistic:\", chi2_stat)\n",
    "print(\"p-value:\", p_val)\n",
    "print(\"Degre of Freedom:\", dof)\n",
    "\n",
    "if p_val < alpha:\n",
    "    print(\"Reject null hypothesis. The coin is biased towards tails.\")\n",
    "else:\n",
    "    print(\"Fail to reject null hypothesis. There is no evidence to suggest that the coin is biased towards tails.\")"
   ]
  },
  {
   "cell_type": "markdown",
   "id": "6037e9db-1817-4e67-8cea-e652fe819c00",
   "metadata": {},
   "source": [
    "---\n",
    "**Q9. A study was conducted to determine if there is an association between smoking status (smoker or\n",
    "non-smoker) and lung cancer diagnosis (yes or no). The results are shown in the contingency table below.\n",
    "Conduct a chi-square test for independence to determine if there is a significant association between\n",
    "smoking status and lung cancer diagnosis.**\n",
    "\n",
    "|              | **Lung Cancer: Yes** | **Lung Cancer: No** |\n",
    "|--------------|------------------|------------------|\n",
    "| **Smoker**       |       60         |       140        |\n",
    "| **Non-Smoker**   |       30         |       170        |\n",
    "\n",
    "**Use a significance level of 0.05.**\n",
    "- Null hypothesis ($H_0$): There is no association between smoking status and lung cancer diagnosis.\n",
    "- Alternative hypothesis ($H_1$): There is an association between smoking status and lung cancer diagnosis.\n",
    "\n",
    "We use a significance level of 0.05."
   ]
  },
  {
   "cell_type": "code",
   "execution_count": 28,
   "id": "7375483c-3f7b-4d71-a41f-947f5bb6ac88",
   "metadata": {},
   "outputs": [
    {
     "name": "stdout",
     "output_type": "stream",
     "text": [
      "Chi-square statistic: 12.057347670250895\n",
      "p-value: 0.0005158863863703744\n",
      "Degrees of freedom: 1\n",
      "Reject null hypothesis. There is a significant association between smoking status and lung cancer diagnosis.\n"
     ]
    }
   ],
   "source": [
    "from scipy.stats import chi2_contingency\n",
    "\n",
    "# Given contingency table data\n",
    "observed_data = [[60, 140],\n",
    "                 [30, 170]]\n",
    "\n",
    "# Perform chi-square test\n",
    "chi2_stat, p_val, dof, expected = chi2_contingency(observed_data)\n",
    "print(\"Chi-square statistic:\", chi2_stat)\n",
    "print(\"p-value:\", p_val)\n",
    "print(\"Degrees of freedom:\", dof)\n",
    "alpha = 0.05\n",
    "if p_val < alpha:\n",
    "    print(\"Reject null hypothesis. There is a significant association between smoking status and lung cancer diagnosis.\")\n",
    "else:\n",
    "    print(\"Fail to reject null hypothesis. There is no significant association between smoking status and lung cancer diagnosis.\")"
   ]
  },
  {
   "cell_type": "markdown",
   "id": "b5da2853-cb12-45be-9942-e5960b50787c",
   "metadata": {},
   "source": [
    "---\n",
    "**Q10. A study was conducted to determine if the proportion of people who prefer milk chocolate, dark\n",
    "chocolate, or white chocolate is different in the U.S. versus the U.K. A random sample of 500 people from\n",
    "the U.S. and a random sample of 500 people from the U.K. were surveyed. The results are shown in the\n",
    "contingency table below. Conduct a chi-square test for independence to determine if there is a significant\n",
    "association between chocolate preference and country of origin.**\n",
    "\n",
    "|                   | **Milk Chocolate** | **Dark Chocolate** | **White Chocolate** |\n",
    "|-------------------|----------------|----------------|-----------------|\n",
    "| **U.S. (n=500)**     |      200       |      150       |       150       |\n",
    "| **U.K. (n=500)**     |      225       |      175       |       100       |\n",
    "\n",
    "**Use a significance level of 0.01.**\n",
    "\n",
    "- Null hypothesis ($H_0$): There is no association between chocolate preference and country of origin.\n",
    "- Alternative hypothesis ($H_1$): There is an association between chocolate preference and country of origin.\n",
    "\n",
    "We use a significance level of 0.01."
   ]
  },
  {
   "cell_type": "code",
   "execution_count": 29,
   "id": "c15d9d5d-855d-4b3b-8c23-e3b1709ff92a",
   "metadata": {},
   "outputs": [
    {
     "name": "stdout",
     "output_type": "stream",
     "text": [
      "Chi-square statistic: 13.393665158371041\n",
      "p-value: 0.0012348168997745918\n",
      "Degrees of freedom: 2\n",
      "Reject null hypothesis. There is a significant association between chocolate preference and country of origin.\n"
     ]
    }
   ],
   "source": [
    "from scipy.stats import chi2_contingency\n",
    "\n",
    "# Given contingency table data\n",
    "observed_data = [[200, 150, 150],\n",
    "                 [225, 175, 100]]\n",
    "\n",
    "# Perform chi-square test\n",
    "chi2_stat, p_val, dof, expected = chi2_contingency(observed_data)\n",
    "\n",
    "# Output \n",
    "print(\"Chi-square statistic:\", chi2_stat)\n",
    "print(\"p-value:\", p_val)\n",
    "print(\"Degrees of freedom:\", dof)\n",
    "alpha = 0.01\n",
    "if p_val < alpha:\n",
    "    print(\"Reject null hypothesis. There is a significant association between chocolate preference and country of origin.\")\n",
    "else:\n",
    "    print(\"Fail to reject null hypothesis. There is no significant association between chocolate preference and country of origin.\")"
   ]
  },
  {
   "cell_type": "markdown",
   "id": "043ccaee-1ea7-4621-b3c3-0ae733a404bb",
   "metadata": {},
   "source": [
    "---\n",
    "**Q11. A random sample of 30 people was selected from a population with an unknown mean and standard\n",
    "deviation. The sample mean was found to be 72 and the sample standard deviation was found to be 10.\n",
    "Conduct a hypothesis test to determine if the population mean is significantly different from 70. Use a\n",
    "significance level of 0.05.**\n",
    "\n",
    "- **Null hypothesis ($ H_0 $):** The population mean is equal to 70.\n",
    "- **Alternative hypothesis ($H_1$):** The population mean is not equal to 70.\n",
    "\n",
    "We use a significance level of 0.05."
   ]
  },
  {
   "cell_type": "code",
   "execution_count": 27,
   "id": "1d65b372-8ede-4ce5-8849-ca070afcbd0e",
   "metadata": {},
   "outputs": [
    {
     "name": "stdout",
     "output_type": "stream",
     "text": [
      "t-score: 1.0954451150103321\n",
      "Degrees of freedom: 29\n",
      "p-value: 0.2823362372860698\n",
      "Fail to reject null hypothesis. There is no significant evidence to suggest that the population mean is different from 70.\n"
     ]
    }
   ],
   "source": [
    "from scipy.stats import t\n",
    "\n",
    "# Given data\n",
    "sample_mean = 72\n",
    "sample_std_dev = 10\n",
    "sample_size = 30\n",
    "population_mean = 70\n",
    "significance_level = 0.05\n",
    "\n",
    "# t-score\n",
    "t_score = (sample_mean - population_mean) / (sample_std_dev / (sample_size ** 0.5))\n",
    "\n",
    "# Calculate dof\n",
    "degrees_of_freedom = sample_size - 1\n",
    "\n",
    "# p-value\n",
    "p_value = 2 * (1 - t.cdf(abs(t_score), df=degrees_of_freedom))\n",
    "\n",
    "print(\"t-score:\", t_score)\n",
    "print(\"Degrees of freedom:\", degrees_of_freedom)\n",
    "print(\"p-value:\", p_value)\n",
    "\n",
    "if p_value < significance_level:\n",
    "    print(\"Reject null hypothesis. The population mean is significantly different from 70.\")\n",
    "else:\n",
    "    print(\"Fail to reject null hypothesis. There is no significant evidence to suggest that the population mean is different from 70.\")"
   ]
  }
 ],
 "metadata": {
  "kernelspec": {
   "display_name": "Python 3 (ipykernel)",
   "language": "python",
   "name": "python3"
  },
  "language_info": {
   "codemirror_mode": {
    "name": "ipython",
    "version": 3
   },
   "file_extension": ".py",
   "mimetype": "text/x-python",
   "name": "python",
   "nbconvert_exporter": "python",
   "pygments_lexer": "ipython3",
   "version": "3.10.8"
  }
 },
 "nbformat": 4,
 "nbformat_minor": 5
}
