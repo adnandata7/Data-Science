{
 "cells": [
  {
   "cell_type": "markdown",
   "id": "28f833e3-f296-43fa-9fea-ff97e029ffd6",
   "metadata": {},
   "source": [
    "#### Q1. What is a database? Differentiate between SQL and NoSQL databases."
   ]
  },
  {
   "cell_type": "markdown",
   "id": "08b15eb0-6ade-46e1-9181-b0bec38d3eef",
   "metadata": {},
   "source": [
    "A database is an organized collection of data that is stored and accessed electronically. Databases are used to manage, retrieve, and store data efficiently. They provide a systematic way of handling large amounts of information and support operations such as creating, reading, updating, and deleting data."
   ]
  },
  {
   "cell_type": "markdown",
   "id": "3d50476e-d967-45a8-90ae-fda619d22233",
   "metadata": {},
   "source": [
    "| **Feature**            | **SQL Databases**                                               | **NoSQL Databases**                                      |\n",
    "|------------------------|-----------------------------------------------------------------|----------------------------------------------------------|\n",
    "| **Data Model**         | Relational (tables with rows and columns)                       | Non-relational (document, key-value, graph, column-family)|\n",
    "| **Schema**             | Fixed schema (predefined structure)                             | Dynamic schema (flexible structure)                       |\n",
    "| **Query Language**     | Structured Query Language (SQL)                                 | Varies (e.g., MongoDB uses JSON-like queries, Cassandra uses CQL) |\n",
    "| **ACID Compliance**    | Typically ACID-compliant (ensures transactions are processed reliably) | Some provide ACID compliance, but many are eventually consistent |\n",
    "| **Scalability**        | Vertical scaling (adding more power to a single server)         | Horizontal scaling (adding more servers)                  |\n",
    "| **Use Cases**          | Suitable for complex queries and transactions                   | Suitable for large volumes of unstructured or semi-structured data |\n",
    "| **Examples**           | MySQL, PostgreSQL, Oracle, SQL Server                           | MongoDB, Cassandra, Redis, Neo4j                          |\n"
   ]
  },
  {
   "cell_type": "markdown",
   "id": "4b7c7c56-5209-403f-bd2d-ea6305172900",
   "metadata": {},
   "source": [
    "#### Q2. What is DDL? Explain why CREATE, DROP, ALTER, and TRUNCATE are used with an example."
   ]
  },
  {
   "cell_type": "markdown",
   "id": "da2ecf29-13b4-447f-ac5c-213c17a48444",
   "metadata": {},
   "source": [
    "DDL stands for Data Definition Language, which is a subset of SQL (Structured Query Language) used to define and manage database schema. DDL commands are used to create, modify, and delete database structures but do not manipulate data within those structures. The primary DDL commands are CREATE, DROP, ALTER, and TRUNCATE."
   ]
  },
  {
   "cell_type": "markdown",
   "id": "4cb3e5b8-6c79-4d38-b930-fada17eba610",
   "metadata": {},
   "source": [
    "##### DDL Commands:\n",
    "\n",
    "1. CREATE: Used to create database objects such as databases, tables, indexes, and views.  \n",
    "-- Example: Creating a new table named 'employees'  \n",
    "CREATE TABLE employees (  \n",
    "    employee_id INT PRIMARY KEY,  \n",
    "    first_name VARCHAR(50),  \n",
    "    last_name VARCHAR(50),  \n",
    "    hire_date DATE  \n",
    ");  \n",
    "\n",
    "2. DROP: Used to delete database objects such as tables, databases, indexes, and views. It completely removes the object and its data from the database.  \n",
    "-- Example: Dropping the 'employees' table  \n",
    "DROP TABLE employees;  \n",
    "\n",
    "3. ALTER: Used to modify the structure of an existing database object, such as adding, deleting, or modifying columns in a table.  \n",
    "-- Example: Adding a new column 'email' to the 'employees' table  \n",
    "ALTER TABLE employees  \n",
    "ADD email VARCHAR(100);  \n",
    "\n",
    "-- Example: Modifying the 'first_name' column to allow 100 characters  \n",
    "ALTER TABLE employees  \n",
    "MODIFY first_name VARCHAR(100);  \n",
    "\n",
    "-- Example: Dropping the 'email' column from the 'employees' table  \n",
    "ALTER TABLE employees  \n",
    "DROP COLUMN email;  \n",
    "\n",
    "4. TRUNCATE: Used to remove all rows from a table, but the table structure remains. Unlike DROP, it does not remove the table itself.  \n",
    "-- Example: Truncating the 'employees' table to remove all data  \n",
    "TRUNCATE TABLE employees;  \n"
   ]
  },
  {
   "cell_type": "markdown",
   "id": "66eddc4d-e4d3-44e9-8f4c-2e0c54b4447b",
   "metadata": {},
   "source": [
    "#### Q3. What is DML? Explain INSERT, UPDATE, and DELETE with an example."
   ]
  },
  {
   "cell_type": "markdown",
   "id": "b971ebb0-7e38-454e-ba5a-32b0aa8f5fb2",
   "metadata": {},
   "source": [
    "DML stands for Data Manipulation Language, which is a subset of SQL (Structured Query Language) used for manipulating data within database objects. DML commands primarily include INSERT, UPDATE, DELETE, and SELECT (though SELECT is primarily considered part of the Data Query Language (DQL)).\n",
    "\n",
    "DML Commands:\n",
    "1. INSERT: Used to insert new rows of data into a table.\n",
    "\n",
    "-- Example: Inserting a new row into the 'employees' table\n",
    "INSERT INTO employees (employee_id, first_name, last_name, hire_date)\n",
    "VALUES (1, 'John', 'Doe', '2023-01-15');\n",
    "In this example, a new employee record with employee_id, first_name, last_name, and hire_date values is inserted into the employees table.\n",
    "\n",
    "2. UPDATE: Used to modify existing data within a table.\n",
    "\n",
    "-- Example: Updating the 'hire_date' for an employee with employee_id = 1\n",
    "UPDATE employees\n",
    "SET hire_date = '2023-02-01'\n",
    "WHERE employee_id = 1;\n",
    "This query updates the hire_date of the employee whose employee_id is 1 in the employees table.\n",
    "\n",
    "3. DELETE: Used to remove rows from a table.\n",
    "\n",
    "-- Example: Deleting an employee record with employee_id = 1 from the 'employees' table\n",
    "DELETE FROM employees\n",
    "WHERE employee_id = 1;\n",
    "This query deletes the employee record whose employee_id is 1 from the employees table."
   ]
  },
  {
   "cell_type": "markdown",
   "id": "4341a77c-47b2-4e94-9aa0-e0af402b7185",
   "metadata": {},
   "source": [
    "#### Q4. What is DQL? Explain SELECT with an example."
   ]
  },
  {
   "cell_type": "markdown",
   "id": "afa2dfcd-9d4d-4114-aa17-bdbe3f026cbf",
   "metadata": {},
   "source": [
    "DQL stands for Data Query Language, which is a subset of SQL (Structured Query Language) used to retrieve data from a database. The primary command associated with DQL is SELECT, which is used to query data from tables.\n",
    "\n",
    "SELECT Command: \n",
    "The SELECT command is used to retrieve data from one or more tables in a database.\n",
    "\n",
    "Basic Syntax:\n",
    "\n",
    "SELECT column1, column2, ... FROM table_name;\n",
    "\n",
    "Explain:  \n",
    "column1, column2, ...: Columns you want to retrieve from the table.  \n",
    "table_name: Name of the table from which data is to be retrieved.  \n",
    "Example:  \n",
    "Consider a table named employees with columns employee_id, first_name, last_name, and hire_date. Here's how you would use SELECT to retrieve data from this table:  \n",
    "\n",
    "-- Example: Retrieving all columns from the 'employees' table  \n",
    "SELECT * FROM employees;  \n",
    "\n",
    "Explain:  \n",
    "This query retrieves all rows and columns from the employees table."
   ]
  },
  {
   "cell_type": "markdown",
   "id": "4c2728cb-d115-4d31-922c-5399d4bb96d9",
   "metadata": {},
   "source": [
    "#### Q5. Explain Primary Key and Foreign Key."
   ]
  },
  {
   "cell_type": "markdown",
   "id": "694e4598-3dfe-4552-8146-911766886de8",
   "metadata": {},
   "source": [
    "Primary Key\n",
    "A Primary Key is a column or set of columns in a database table that uniquely identifies each row in that table. It serves two main purposes:\n",
    "\n",
    "Uniqueness: Every value in the primary key column (or columns) must be unique within the table. This ensures that no two rows can have the same primary key value.\n",
    "\n",
    "Not Null Constraint: Primary key columns cannot have NULL values. This guarantees that every row in the table will have a value for the primary key, making it a reliable identifier.\n",
    "\n",
    "Foreign Key\n",
    "A Foreign Key is a column or a set of columns in one table that refers to the primary key in another table. It establishes a link between the two tables based on a relationship between their columns.\n",
    "\n",
    "Purpose:  \n",
    "Referential Integrity: A foreign key ensures referential integrity between related tables. It enforces that values in the foreign key column(s) of one table must exist as values in the primary key column(s) of another table.\n",
    "\n",
    "Relationships: Foreign keys define relationships between tables, such as one-to-one, one-to-many, or many-to-many relationships."
   ]
  },
  {
   "cell_type": "markdown",
   "id": "ac6335b4-4a2d-4aea-b013-5c30bd3b17ec",
   "metadata": {},
   "source": [
    "#### Q6. Write a python code to connect MySQL to python. Explain the cursor() and execute() method."
   ]
  },
  {
   "cell_type": "code",
   "execution_count": null,
   "id": "aa26b264-d5f4-4838-af23-d40e583655f5",
   "metadata": {},
   "outputs": [],
   "source": [
    "import mysql.connector\n",
    "\n",
    "mydb = mysql.connector.connect(\n",
    "  host=\"localhost\",\n",
    "  user=\"abc\",\n",
    "  password=\"password\"\n",
    ")\n",
    "\n",
    "mycursor = mydb.cursor()\n",
    "mycursor.execute(\"CREATE TABLE if not exists test3.test_table(c1 INT, c2 VARCHAR(50), c3 FLOAT, c4 VARCHAR(50))\")\n",
    "mydb.close()"
   ]
  },
  {
   "cell_type": "markdown",
   "id": "0e46fa57-f7e2-4606-ada7-cb67fbc954e5",
   "metadata": {},
   "source": [
    "cursor() Method  \n",
    "The cursor() method is used to create a cursor object in Python that allows you to interact with the MySQL database. Here’s how it works:\n",
    "\n",
    "Purpose: The cursor object acts as an interface to fetch rows from the result set returned by a query.  \n",
    "Usage: After establishing a connection to the database using mysql.connector.connect(), you create a cursor object using conn.cursor().\n",
    "\n",
    "execute() Method  \n",
    "The execute() method is used to execute SQL queries or commands through the cursor object. Here’s how it works:\n",
    "\n",
    "Purpose: Executes the SQL statement passed as a parameter to the method.  \n",
    "Usage: You call cursor.execute(sql_query) where sql_query is a string containing the SQL statement you want to execute."
   ]
  },
  {
   "cell_type": "markdown",
   "id": "a6ec662a-f34b-42a1-a570-d1f233aabbea",
   "metadata": {},
   "source": [
    "#### Q7. Give the order of execution of SQL clauses in an SQL query."
   ]
  },
  {
   "cell_type": "markdown",
   "id": "8b5226b5-866c-4224-b88b-f5f721fc6a64",
   "metadata": {},
   "source": [
    "In an SQL query, the order of execution of clauses generally follows this sequence:\n",
    "\n",
    "SELECT: Specifies the columns to retrieve from the database.\n",
    "\n",
    "FROM: Specifies the tables from which to retrieve the data.\n",
    "\n",
    "JOIN: Combines rows from two or more tables based on a related column between them.\n",
    "\n",
    "WHERE: Filters rows based on specified conditions.\n",
    "\n",
    "GROUP: BY: Groups the rows that have the same values into summary rows.\n",
    "\n",
    "HAVING: Filters groups based on specified conditions.\n",
    "\n",
    "ORDER BY: Sorts the result set by specified columns.\n",
    "\n",
    "LIMIT / OFFSET: Limits the number of rows returned and specifies the starting row for the result set (optional, depending on the database)."
   ]
  },
  {
   "cell_type": "code",
   "execution_count": null,
   "id": "d93b09f8-bcba-4678-9551-71f0ad1e5990",
   "metadata": {},
   "outputs": [],
   "source": []
  }
 ],
 "metadata": {
  "kernelspec": {
   "display_name": "Python 3 (ipykernel)",
   "language": "python",
   "name": "python3"
  },
  "language_info": {
   "codemirror_mode": {
    "name": "ipython",
    "version": 3
   },
   "file_extension": ".py",
   "mimetype": "text/x-python",
   "name": "python",
   "nbconvert_exporter": "python",
   "pygments_lexer": "ipython3",
   "version": "3.10.8"
  }
 },
 "nbformat": 4,
 "nbformat_minor": 5
}
